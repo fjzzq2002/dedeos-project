{
 "cells": [
  {
   "cell_type": "code",
   "execution_count": 1,
   "metadata": {},
   "outputs": [],
   "source": [
    "%load_ext autoreload\n",
    "%autoreload 2"
   ]
  },
  {
   "cell_type": "code",
   "execution_count": 2,
   "metadata": {},
   "outputs": [],
   "source": [
    "import os\n",
    "import math\n",
    "import json\n",
    "import torch\n",
    "import pickle\n",
    "import random\n",
    "from tqdm import tqdm\n",
    "from torch import nn, optim\n",
    "from torch.utils.data import DataLoader\n",
    "from sentence_transformers import SentenceTransformer, util\n",
    "from transformers import GPT2LMHeadModel\n",
    "\n",
    "import load_data\n",
    "from load_data import GenderDataset, gender_data_collate_fn\n",
    "from models.encoder_t5 import EncoderT5\n",
    "from models.classifier_bert import ClassifierBERT\n",
    "from models.perplexity_gpt import PerplexityGPT2\n",
    "from models.similarity_sent_enc import encode_for_similarities"
   ]
  },
  {
   "cell_type": "code",
   "execution_count": 3,
   "metadata": {},
   "outputs": [
    {
     "name": "stdout",
     "output_type": "stream",
     "text": [
      "cuda\n"
     ]
    }
   ],
   "source": [
    "device = torch.device('cpu')\n",
    "if torch.cuda.is_available():\n",
    "    device = torch.device('cuda')\n",
    "\n",
    "print(device)"
   ]
  },
  {
   "cell_type": "code",
   "execution_count": 4,
   "metadata": {},
   "outputs": [],
   "source": [
    "# Hyper parameters\n",
    "num_epoch = 100\n",
    "batch_size = 20\n",
    "lr = 3e-4\n",
    "wd = 5e-6\n",
    "print_every = 500\n",
    "\n",
    "max_norm = 2.0\n",
    "random.seed(42)"
   ]
  },
  {
   "cell_type": "code",
   "execution_count": 5,
   "metadata": {},
   "outputs": [],
   "source": [
    "with open(os.path.join(os.curdir, \"data\", \"blog.json\"), \"r\") as file:\n",
    "    json_data = json.load(file)\n",
    "docs = json_data['docs'][1:] # I don't want to see the first document"
   ]
  },
  {
   "cell_type": "code",
   "execution_count": 6,
   "metadata": {},
   "outputs": [
    {
     "name": "stdout",
     "output_type": "stream",
     "text": [
      "13773 2951 2952\n"
     ]
    }
   ],
   "source": [
    "num_docs = len(docs)\n",
    "num_train_docs = int(num_docs * 0.7)\n",
    "num_val_docs = int(num_docs * 0.15)\n",
    "num_test_docs = num_docs - num_train_docs - num_val_docs\n",
    "print(num_train_docs, num_val_docs, num_test_docs)"
   ]
  },
  {
   "cell_type": "code",
   "execution_count": 7,
   "metadata": {},
   "outputs": [],
   "source": [
    "train_docs = docs[:num_train_docs]\n",
    "val_docs = docs[num_train_docs:num_train_docs+num_val_docs]\n",
    "test_docs = docs[num_train_docs+num_val_docs:]"
   ]
  },
  {
   "cell_type": "code",
   "execution_count": 8,
   "metadata": {},
   "outputs": [
    {
     "name": "stdout",
     "output_type": "stream",
     "text": [
      "True\n"
     ]
    }
   ],
   "source": [
    "train_dataset, val_dataset, test_dataset = None, None, None\n",
    "load_from_pickled = False\n",
    "\n",
    "if os.path.exists(os.path.join(os.curdir, \"data\", \"train.pickle\")):\n",
    "    load_from_pickled = True\n",
    "    with open(os.path.join(os.curdir, \"data\", \"train.pickle\"), \"rb\") as f:\n",
    "        train_dataset = pickle.load(f)\n",
    "    with open(os.path.join(os.curdir, \"data\", \"val.pickle\"), \"rb\") as f:\n",
    "        val_dataset = pickle.load(f)\n",
    "    with open(os.path.join(os.curdir, \"data\", \"test.pickle\"), \"rb\") as f:\n",
    "        test_dataset = pickle.load(f)\n",
    "else:\n",
    "    train_dataset = GenderDataset(train_docs)\n",
    "    val_dataset = GenderDataset(val_docs)\n",
    "    test_dataset = GenderDataset(test_docs)\n",
    "\n",
    "if not load_from_pickled:\n",
    "    with open(os.path.join(os.curdir, \"data\", \"train.pickle\"), \"wb\") as f:\n",
    "        pickle.dump(train_dataset, f)\n",
    "    with open(os.path.join(os.curdir, \"data\", \"val.pickle\"), \"wb\") as f:\n",
    "        pickle.dump(val_dataset, f)\n",
    "    with open(os.path.join(os.curdir, \"data\", \"test.pickle\"), \"wb\") as f:\n",
    "        pickle.dump(test_dataset, f)\n",
    "\n",
    "print(load_from_pickled)   "
   ]
  },
  {
   "cell_type": "code",
   "execution_count": 9,
   "metadata": {},
   "outputs": [],
   "source": [
    "train_dataloader = DataLoader(\n",
    "    train_dataset,\n",
    "    batch_size=batch_size,\n",
    "    shuffle=True,\n",
    "    num_workers=0,\n",
    "    collate_fn=gender_data_collate_fn\n",
    ")\n",
    "val_dataloader = DataLoader(\n",
    "    val_dataset,\n",
    "    batch_size=batch_size,\n",
    "    shuffle=True,\n",
    "    num_workers=0,\n",
    "    collate_fn=gender_data_collate_fn\n",
    ")\n",
    "test_dataloader = DataLoader(\n",
    "    test_dataset,\n",
    "    batch_size=batch_size,\n",
    "    shuffle=True,\n",
    "    num_workers=0,\n",
    "    collate_fn=gender_data_collate_fn\n",
    ")"
   ]
  },
  {
   "cell_type": "code",
   "execution_count": 10,
   "metadata": {},
   "outputs": [
    {
     "data": {
      "text/plain": [
       "(0,\n",
       " (tensor([[ 2013,  1009,  1059,  ...,  2013,  1009,  1059],\n",
       "          [ 1054,  1009,  1060,  ...,  2125,  3280,  1015],\n",
       "          [ 1014, 12440,  1016,  ...,  2070,  1041, 14688],\n",
       "          ...,\n",
       "          [ 2771,  5203,  2762,  ...,  1016,  1016,  1016],\n",
       "          [ 1016,  2013,  2005,  ..., 18852,  5296,  2103],\n",
       "          [ 2767,  1022,  1065,  ...,  2009,  4907,  2144]], dtype=torch.int32),\n",
       "  tensor([128, 128, 128, 128, 128, 128, 128, 128, 128, 128, 128, 128, 128, 128,\n",
       "          128, 128, 128, 128, 128, 128], dtype=torch.int32),\n",
       "  tensor([1, 1, 1, 0, 0, 1, 1, 0, 1, 1, 0, 1, 1, 1, 0, 0, 0, 0, 1, 0])))"
      ]
     },
     "execution_count": 10,
     "metadata": {},
     "output_type": "execute_result"
    }
   ],
   "source": [
    "next(enumerate(test_dataloader))"
   ]
  },
  {
   "cell_type": "code",
   "execution_count": 11,
   "metadata": {},
   "outputs": [],
   "source": [
    "ppl_model = PerplexityGPT2(\n",
    "    vocab_size=load_data.tokenizer.vocab_size,\n",
    "    bos_token_id=load_data.tokenizer.bos_token_id,\n",
    "    eos_token_id=load_data.tokenizer.eos_token_id,\n",
    ").to(device)"
   ]
  },
  {
   "cell_type": "code",
   "execution_count": 12,
   "metadata": {},
   "outputs": [
    {
     "name": "stdout",
     "output_type": "stream",
     "text": [
      "30527\n",
      "torch.Size([30527, 768])\n"
     ]
    }
   ],
   "source": [
    "print(ppl_model.config.vocab_size)\n",
    "print(ppl_model.GPT2.lm_head.weight.size())"
   ]
  },
  {
   "cell_type": "code",
   "execution_count": 13,
   "metadata": {},
   "outputs": [],
   "source": [
    "optimizer = optim.AdamW(ppl_model.parameters(), lr=lr, weight_decay=wd)"
   ]
  },
  {
   "cell_type": "code",
   "execution_count": 14,
   "metadata": {},
   "outputs": [],
   "source": [
    "criterion = nn.CrossEntropyLoss()"
   ]
  },
  {
   "cell_type": "code",
   "execution_count": 15,
   "metadata": {},
   "outputs": [],
   "source": [
    "def train(train_dataloader, val_dataloader, model, criterion, optimizer, num_epoch):\n",
    "    train_id = random.randint(0,1000)\n",
    "    log = open(f'./save/ppl_{train_id}.txt','w')\n",
    "    for epoch in range(num_epoch):\n",
    "        print(f\"Epoch {epoch}, total {len(train_dataloader)} batches\\n\")\n",
    "        log.write(f\"Epoch {epoch}, total {len(train_dataloader)} batches\\n\")\n",
    "        log.flush()\n",
    "\n",
    "        for batch, (src_ids, src_len, tgt) in enumerate(train_dataloader):\n",
    "            torch.cuda.empty_cache()\n",
    "            model.train()\n",
    "            optimizer.zero_grad()\n",
    "\n",
    "            src_ids = src_ids.to(device)\n",
    "            tgt = tgt.to(device)\n",
    "\n",
    "            src_logits = torch.zeros(batch_size, src_ids.size(1), load_data.tokenizer.vocab_size).to(device)\n",
    "            for i in range(batch_size):\n",
    "                for j, label in enumerate(src_ids[i]):\n",
    "                    src_logits[i][j][label] = 1.0\n",
    "\n",
    "            tgt_logits = model(src_logits)\n",
    "            \n",
    "            shift_tgt = tgt_logits[..., :-1, :].contiguous()\n",
    "            shift_src = src_logits[..., 1:, :].contiguous()\n",
    "            loss = criterion(shift_tgt.view(-1, shift_tgt.size(-1)), shift_src.view(-1, shift_src.size(-1)))\n",
    "            \n",
    "            loss.backward()\n",
    "            nn.utils.clip_grad_norm_(model.parameters(), max_norm)\n",
    "            optimizer.step()\n",
    "            torch.cuda.empty_cache()\n",
    "            \n",
    "            if batch % print_every == 0:\n",
    "                print(f\"Epoch Step: {batch} Loss: {loss}\")\n",
    "                log.write(f\"Epoch Step: {batch} Loss: {loss}\\n\")\n",
    "                log.flush()\n",
    "                print(f\"\\nBegin Evaluation\")\n",
    "                model.eval()\n",
    "                total_loss = 0\n",
    "                limit=len(val_dataloader)\n",
    "                if limit > 75: \n",
    "                    limit = 75\n",
    "                with torch.no_grad():\n",
    "                    for batch, (src_ids, src_len, tgt) in tqdm(enumerate(val_dataloader),total=limit):\n",
    "\n",
    "                        src_ids = src_ids.to(device)\n",
    "                        tgt = tgt.to(device)\n",
    "\n",
    "                        src_logits = torch.zeros(batch_size, src_ids.size(1), load_data.tokenizer.vocab_size).to(device)\n",
    "                        for i in range(batch_size):\n",
    "                            for j, label in enumerate(src_ids[i]):\n",
    "                                src_logits[i][j][label] = 1.0\n",
    "\n",
    "                        tgt_logits = model(src_logits)\n",
    "                        \n",
    "                        shift_tgt = tgt_logits[..., :-1, :].contiguous()\n",
    "                        shift_src = src_logits[..., 1:, :].contiguous()\n",
    "                        loss = criterion(shift_tgt.view(-1, shift_tgt.size(-1)), shift_src.view(-1, shift_src.size(-1)))\n",
    "\n",
    "                        total_loss += loss\n",
    "                        if batch>=limit: break\n",
    "\n",
    "                ppl = math.exp(total_loss / limit)\n",
    "                print(f\"Validation Perplexity: {ppl}\\n\")\n",
    "                log.write(f\"Validation Perplexity: {ppl}\\n\")\n",
    "                log.flush()\n",
    "                torch.save(model.state_dict(), f'./save/ppl_model_{train_id}_{batch_size}_epoch_{epoch}.file')\n",
    "\n",
    "            \n",
    "\n"
   ]
  },
  {
   "cell_type": "code",
   "execution_count": 16,
   "metadata": {},
   "outputs": [
    {
     "name": "stdout",
     "output_type": "stream",
     "text": [
      "Epoch 0, total 22466 batches\n",
      "\n",
      "Epoch Step: 0 Loss: 10.47973918914795\n",
      "\n",
      "Begin Evaluation\n"
     ]
    },
    {
     "name": "stderr",
     "output_type": "stream",
     "text": [
      "100%|██████████| 75/75 [00:33<00:00,  2.27it/s]\n"
     ]
    },
    {
     "name": "stdout",
     "output_type": "stream",
     "text": [
      "Validation Perplexity: 10669.429778537775\n",
      "\n",
      "Epoch Step: 500 Loss: 5.05801248550415\n",
      "\n",
      "Begin Evaluation\n"
     ]
    },
    {
     "name": "stderr",
     "output_type": "stream",
     "text": [
      "100%|██████████| 75/75 [00:33<00:00,  2.23it/s]\n"
     ]
    },
    {
     "name": "stdout",
     "output_type": "stream",
     "text": [
      "Validation Perplexity: 184.53466530783209\n",
      "\n",
      "Epoch Step: 1000 Loss: 5.047084808349609\n",
      "\n",
      "Begin Evaluation\n"
     ]
    },
    {
     "name": "stderr",
     "output_type": "stream",
     "text": [
      "100%|██████████| 75/75 [00:34<00:00,  2.18it/s]\n"
     ]
    },
    {
     "name": "stdout",
     "output_type": "stream",
     "text": [
      "Validation Perplexity: 148.69537041239164\n",
      "\n",
      "Epoch Step: 1500 Loss: 4.5915093421936035\n",
      "\n",
      "Begin Evaluation\n"
     ]
    },
    {
     "name": "stderr",
     "output_type": "stream",
     "text": [
      "100%|██████████| 75/75 [00:33<00:00,  2.21it/s]\n"
     ]
    },
    {
     "name": "stdout",
     "output_type": "stream",
     "text": [
      "Validation Perplexity: 132.086648797218\n",
      "\n",
      "Epoch Step: 2000 Loss: 4.713454246520996\n",
      "\n",
      "Begin Evaluation\n"
     ]
    },
    {
     "name": "stderr",
     "output_type": "stream",
     "text": [
      "100%|██████████| 75/75 [00:34<00:00,  2.20it/s]\n"
     ]
    },
    {
     "name": "stdout",
     "output_type": "stream",
     "text": [
      "Validation Perplexity: 110.56062599745074\n",
      "\n",
      "Epoch Step: 2500 Loss: 4.643686294555664\n",
      "\n",
      "Begin Evaluation\n"
     ]
    },
    {
     "name": "stderr",
     "output_type": "stream",
     "text": [
      "100%|██████████| 75/75 [00:34<00:00,  2.20it/s]\n"
     ]
    },
    {
     "name": "stdout",
     "output_type": "stream",
     "text": [
      "Validation Perplexity: 102.70954763639354\n",
      "\n",
      "Epoch Step: 3000 Loss: 4.7584733963012695\n",
      "\n",
      "Begin Evaluation\n"
     ]
    },
    {
     "name": "stderr",
     "output_type": "stream",
     "text": [
      "100%|██████████| 75/75 [00:34<00:00,  2.15it/s]\n"
     ]
    },
    {
     "name": "stdout",
     "output_type": "stream",
     "text": [
      "Validation Perplexity: 94.07126194591892\n",
      "\n",
      "Epoch Step: 3500 Loss: 4.4227447509765625\n",
      "\n",
      "Begin Evaluation\n"
     ]
    },
    {
     "name": "stderr",
     "output_type": "stream",
     "text": [
      "100%|██████████| 75/75 [00:35<00:00,  2.12it/s]\n"
     ]
    },
    {
     "name": "stdout",
     "output_type": "stream",
     "text": [
      "Validation Perplexity: 87.50574803479874\n",
      "\n",
      "Epoch Step: 4000 Loss: 4.493597507476807\n",
      "\n",
      "Begin Evaluation\n"
     ]
    },
    {
     "name": "stderr",
     "output_type": "stream",
     "text": [
      "100%|██████████| 75/75 [00:35<00:00,  2.09it/s]\n"
     ]
    },
    {
     "name": "stdout",
     "output_type": "stream",
     "text": [
      "Validation Perplexity: 82.73543474107036\n",
      "\n"
     ]
    }
   ],
   "source": [
    "train(train_dataloader, val_dataloader, ppl_model, criterion, optimizer, num_epoch)"
   ]
  }
 ],
 "metadata": {
  "kernelspec": {
   "display_name": "Python 3.8.13 ('nlp')",
   "language": "python",
   "name": "python3"
  },
  "language_info": {
   "codemirror_mode": {
    "name": "ipython",
    "version": 3
   },
   "file_extension": ".py",
   "mimetype": "text/x-python",
   "name": "python",
   "nbconvert_exporter": "python",
   "pygments_lexer": "ipython3",
   "version": "3.8.13"
  },
  "orig_nbformat": 4,
  "vscode": {
   "interpreter": {
    "hash": "1ecdeeea834996ab17c476b9c82385c086ccb21d059ebd3afa1913627f92baf1"
   }
  }
 },
 "nbformat": 4,
 "nbformat_minor": 2
}
