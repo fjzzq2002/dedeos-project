{
 "cells": [
  {
   "cell_type": "code",
   "execution_count": 35,
   "metadata": {},
   "outputs": [],
   "source": [
    "import os\n",
    "import json\n",
    "import torch\n",
    "import numpy as np\n",
    "from tqdm import tqdm\n",
    "from torch import nn, optim\n",
    "from torch.utils.data import DataLoader\n",
    "from models.classifier_lstm import ClassifierLSTM\n",
    "\n",
    "from importnb import Notebook\n",
    "with Notebook():\n",
    "    from load_data import GenderDataset"
   ]
  },
  {
   "cell_type": "code",
   "execution_count": 19,
   "metadata": {},
   "outputs": [],
   "source": [
    "device = torch.device('cpu')\n",
    "if torch.cuda.is_available():\n",
    "    device = torch.device('cuda')"
   ]
  },
  {
   "cell_type": "code",
   "execution_count": 30,
   "metadata": {},
   "outputs": [],
   "source": [
    "classifier_embedding_size = 512\n",
    "classifier_hidden_size = 512\n",
    "classifier_num_layers = 2\n",
    "classifier_is_bidirectional = True\n",
    "\n",
    "classifier_lr = 0.001\n",
    "classifier_num_epoch = 10\n",
    "classifier_batch_size = 2048"
   ]
  },
  {
   "cell_type": "code",
   "execution_count": 11,
   "metadata": {},
   "outputs": [
    {
     "data": {
      "text/plain": [
       "dict_keys(['docs', 'configs'])"
      ]
     },
     "execution_count": 11,
     "metadata": {},
     "output_type": "execute_result"
    }
   ],
   "source": [
    "with open(os.path.join(os.getcwd(), 'data', 'blog.json'), 'r') as file:\n",
    "    json_data = json.load(file)\n",
    "json_data.keys()"
   ]
  },
  {
   "cell_type": "code",
   "execution_count": 12,
   "metadata": {},
   "outputs": [
    {
     "name": "stdout",
     "output_type": "stream",
     "text": [
      "dict_keys(['rawtext', 'author', 'gender', 'age', 'work', 'tokens', 'actage', 'split', 'attrib'])\n",
      "defaultdict(<class 'int'>, {'male': 9812, 'female': 9865})\n"
     ]
    }
   ],
   "source": [
    "docs = json_data['docs']\n",
    "sample = docs[1113]\n",
    "print(sample.keys())\n",
    "from collections import defaultdict\n",
    "gender_count = defaultdict(int)\n",
    "for doc in docs:\n",
    "    gender = doc['gender']\n",
    "    gender_count[gender] += 1\n",
    "print(gender_count)"
   ]
  },
  {
   "cell_type": "code",
   "execution_count": 15,
   "metadata": {},
   "outputs": [],
   "source": [
    "tokenized_docs = [\" \".join(doc['tokens']) for doc in docs]\n",
    "gender_label = [int(doc['gender'] == 'male') for doc in docs] # Male 1, Female 0\n",
    "raw_text = [doc['rawtext'] for doc in docs]"
   ]
  },
  {
   "cell_type": "code",
   "execution_count": 18,
   "metadata": {},
   "outputs": [],
   "source": [
    "gender_dataset = GenderDataset(tokenized_docs, gender_label, raw_text=raw_text)"
   ]
  },
  {
   "cell_type": "code",
   "execution_count": 21,
   "metadata": {},
   "outputs": [],
   "source": [
    "gender_dataloader = DataLoader(\n",
    "    gender_dataset,\n",
    "    batch_size=classifier_batch_size,\n",
    "    shuffle=True,\n",
    "    num_workers=0,\n",
    ")"
   ]
  },
  {
   "cell_type": "code",
   "execution_count": 36,
   "metadata": {},
   "outputs": [],
   "source": [
    "classifier_model = ClassifierLSTM(\n",
    "    len(gender_dataset.idx2token), \n",
    "    classifier_embedding_size, \n",
    "    classifier_hidden_size, \n",
    "    classifier_num_layers, \n",
    "    classifier_is_bidirectional\n",
    ").to(device)"
   ]
  },
  {
   "cell_type": "code",
   "execution_count": 33,
   "metadata": {},
   "outputs": [],
   "source": [
    "optim = optim.Adam(classifier_model.parameters(), lr = classifier_lr)"
   ]
  },
  {
   "cell_type": "code",
   "execution_count": 34,
   "metadata": {},
   "outputs": [],
   "source": [
    "criterion = nn.CrossEntropyLoss()"
   ]
  },
  {
   "cell_type": "code",
   "execution_count": null,
   "metadata": {},
   "outputs": [],
   "source": [
    "from torch.nn.utils.rnn import pack_padded_sequence, pad_packed_sequence\n",
    "\n",
    "def train(dataloader, model, criterion, optimizer, num_epoch):\n",
    "    for epoch in range(num_epoch):\n",
    "        model.train()\n",
    "        for batch, (src_ids, src_len, tgt) in tqdm(enumerate(dataloader)):\n",
    "            optimizer.zero_grad()\n",
    "            \n",
    "            packed_src = pack_padded_sequence(src_ids.to(device), src_len, batch_first=True, enforce_sorted=False)\n",
    "            \n"
   ]
  }
 ],
 "metadata": {
  "kernelspec": {
   "display_name": "Python 3.8.13 ('nlp')",
   "language": "python",
   "name": "python3"
  },
  "language_info": {
   "codemirror_mode": {
    "name": "ipython",
    "version": 3
   },
   "file_extension": ".py",
   "mimetype": "text/x-python",
   "name": "python",
   "nbconvert_exporter": "python",
   "pygments_lexer": "ipython3",
   "version": "3.8.13"
  },
  "orig_nbformat": 4,
  "vscode": {
   "interpreter": {
    "hash": "1ecdeeea834996ab17c476b9c82385c086ccb21d059ebd3afa1913627f92baf1"
   }
  }
 },
 "nbformat": 4,
 "nbformat_minor": 2
}
