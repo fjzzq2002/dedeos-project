{
 "cells": [
  {
   "cell_type": "code",
   "execution_count": 1,
   "metadata": {},
   "outputs": [],
   "source": [
    "%load_ext autoreload\n",
    "%autoreload 2"
   ]
  },
  {
   "cell_type": "code",
   "execution_count": 2,
   "metadata": {},
   "outputs": [],
   "source": [
    "import os\n",
    "import json\n",
    "import torch\n",
    "import numpy as np\n",
    "from tqdm import tqdm\n",
    "from torch import nn, optim\n",
    "from torch.utils.data import DataLoader\n",
    "\n",
    "from load_data import Tokenizer, GenderDataset, gender_data_collate_fn\n",
    "from models.classifier_lstm import ClassifierLSTM"
   ]
  },
  {
   "cell_type": "code",
   "execution_count": 3,
   "metadata": {},
   "outputs": [
    {
     "name": "stdout",
     "output_type": "stream",
     "text": [
      "cuda\n"
     ]
    }
   ],
   "source": [
    "device = torch.device('cpu')\n",
    "if torch.cuda.is_available():\n",
    "    device = torch.device('cuda')\n",
    "\n",
    "print(device)"
   ]
  },
  {
   "cell_type": "code",
   "execution_count": 4,
   "metadata": {},
   "outputs": [],
   "source": [
    "classifier_embedding_size = 512\n",
    "classifier_hidden_size = 512\n",
    "classifier_num_layers = 2\n",
    "classifier_is_bidirectional = True\n",
    "\n",
    "classifier_lr = 0.001\n",
    "classifier_num_epoch = 10\n",
    "classifier_batch_size = 128\n",
    "classifier_max_norm = 2\n",
    "\n",
    "print_every = 200"
   ]
  },
  {
   "cell_type": "code",
   "execution_count": 5,
   "metadata": {},
   "outputs": [],
   "source": [
    "with open(os.path.join(os.curdir, \"data\", \"blog.json\"), \"r\") as file:\n",
    "    json_data = json.load(file)\n",
    "docs = json_data['docs'][1:] # I don't want to see the first document"
   ]
  },
  {
   "cell_type": "code",
   "execution_count": 6,
   "metadata": {},
   "outputs": [
    {
     "name": "stdout",
     "output_type": "stream",
     "text": [
      "Cutting documents into paragraphs of length 128...\n"
     ]
    },
    {
     "name": "stderr",
     "output_type": "stream",
     "text": [
      "100%|██████████| 19676/19676 [00:33<00:00, 579.47it/s]\n"
     ]
    },
    {
     "name": "stdout",
     "output_type": "stream",
     "text": [
      "Number of documents: 559126\n",
      "Counting freqeuncies of words...\n"
     ]
    },
    {
     "name": "stderr",
     "output_type": "stream",
     "text": [
      "100%|██████████| 559126/559126 [00:16<00:00, 34176.40it/s]\n"
     ]
    },
    {
     "name": "stdout",
     "output_type": "stream",
     "text": [
      "Number of documents with lengths <= 128: 554016\n",
      "Number of unique words before converting to <UNK>:  505954\n",
      "Converting words with frequencies less than 10 to <UNK>...\n"
     ]
    },
    {
     "name": "stderr",
     "output_type": "stream",
     "text": [
      "554016it [00:11, 46524.85it/s]"
     ]
    },
    {
     "name": "stdout",
     "output_type": "stream",
     "text": [
      "Number of unique words after converting <UNK>:  59178\n",
      "Known occurrences rate 98.69%\n"
     ]
    },
    {
     "name": "stderr",
     "output_type": "stream",
     "text": [
      "\n"
     ]
    }
   ],
   "source": [
    "tokenizer = Tokenizer(docs)"
   ]
  },
  {
   "cell_type": "code",
   "execution_count": 7,
   "metadata": {},
   "outputs": [
    {
     "name": "stdout",
     "output_type": "stream",
     "text": [
      "13773 2951 2952\n"
     ]
    }
   ],
   "source": [
    "num_docs = len(docs)\n",
    "num_train_docs = int(num_docs * 0.7)\n",
    "num_val_docs = int(num_docs * 0.15)\n",
    "num_test_docs = num_docs - num_train_docs - num_val_docs\n",
    "print(num_train_docs, num_val_docs, num_test_docs)"
   ]
  },
  {
   "cell_type": "code",
   "execution_count": 8,
   "metadata": {},
   "outputs": [],
   "source": [
    "train_docs = docs[:num_train_docs]\n",
    "val_docs = docs[num_train_docs:num_train_docs+num_val_docs]\n",
    "test_docs = docs[num_train_docs+num_val_docs:]"
   ]
  },
  {
   "cell_type": "code",
   "execution_count": 9,
   "metadata": {},
   "outputs": [
    {
     "name": "stdout",
     "output_type": "stream",
     "text": [
      "Cutting documents into paragraphs of length 128...\n"
     ]
    },
    {
     "name": "stderr",
     "output_type": "stream",
     "text": [
      "100%|██████████| 13773/13773 [00:24<00:00, 561.64it/s]\n"
     ]
    },
    {
     "name": "stdout",
     "output_type": "stream",
     "text": [
      "Number of documents: 405965\n",
      "Counting freqeuncies of words...\n"
     ]
    },
    {
     "name": "stderr",
     "output_type": "stream",
     "text": [
      "100%|██████████| 405965/405965 [00:11<00:00, 35868.70it/s]\n"
     ]
    },
    {
     "name": "stdout",
     "output_type": "stream",
     "text": [
      "Number of documents with lengths <= 128: 402316\n",
      "Cutting documents into paragraphs of length 128...\n"
     ]
    },
    {
     "name": "stderr",
     "output_type": "stream",
     "text": [
      "100%|██████████| 2951/2951 [00:05<00:00, 566.19it/s]\n"
     ]
    },
    {
     "name": "stdout",
     "output_type": "stream",
     "text": [
      "Number of documents: 87422\n",
      "Counting freqeuncies of words...\n"
     ]
    },
    {
     "name": "stderr",
     "output_type": "stream",
     "text": [
      "100%|██████████| 87422/87422 [00:02<00:00, 35250.84it/s]\n"
     ]
    },
    {
     "name": "stdout",
     "output_type": "stream",
     "text": [
      "Number of documents with lengths <= 128: 86653\n",
      "Cutting documents into paragraphs of length 128...\n"
     ]
    },
    {
     "name": "stderr",
     "output_type": "stream",
     "text": [
      "100%|██████████| 2952/2952 [00:03<00:00, 764.57it/s]\n"
     ]
    },
    {
     "name": "stdout",
     "output_type": "stream",
     "text": [
      "Number of documents: 65739\n",
      "Counting freqeuncies of words...\n"
     ]
    },
    {
     "name": "stderr",
     "output_type": "stream",
     "text": [
      "100%|██████████| 65739/65739 [00:02<00:00, 32447.69it/s]\n"
     ]
    },
    {
     "name": "stdout",
     "output_type": "stream",
     "text": [
      "Number of documents with lengths <= 128: 65047\n"
     ]
    }
   ],
   "source": [
    "train_dataset = GenderDataset(train_docs, tokenizer)\n",
    "val_dataset = GenderDataset(val_docs, tokenizer)\n",
    "test_dataset = GenderDataset(test_docs, tokenizer)"
   ]
  },
  {
   "cell_type": "code",
   "execution_count": 10,
   "metadata": {},
   "outputs": [
    {
     "name": "stdout",
     "output_type": "stream",
     "text": [
      "([21627, 42637, 52748, 48438, 2086, 10627, 49101, 31020, 6536, 43359, 40539, 10627, 11637, 31002, 3856, 42637, 49443, 10627, 50505, 2086, 29356, 3856, 29356, 58450, 39587, 16406, 29356, 52375, 55529, 27932, 29356, 33744, 17357, 3856, 14829, 3856, 45206, 42637, 25002, 37089, 43603, 52748, 15624, 3241, 10627, 26430, 2086, 10627, 37089, 4229, 3856, 42637, 25827, 47185, 31287, 52748, 10627, 42341, 9134, 3241, 38470, 47731, 3856, 27932, 46076, 52748, 26462, 33744, 58183, 33744, 21761, 49127, 42637, 5759, 27932, 42130, 47185, 1834, 21761, 20820, 3856, 40539, 40817, 52375, 10627, 9098, 47221, 40539, 58406, 45187, 58177, 57879, 45961, 42334, 27034, 53332, 27932, 48862, 3856, 3407], 0) ([21627, 51063, 46504, 16364, 12695, 14692, 7751, 50794, 52375, 30563, 37179, 29217, 3484, 13030, 54486, 3241, 16331, 9673, 22875, 52375, 27932, 51063, 8836, 27034, 24757, 35033, 42637, 3241, 58521, 39168, 3856, 11225, 51063, 11676, 35401, 3637, 40539, 10627, 25385, 33123, 40714, 45613, 49106, 30563, 28629, 3802, 46373, 3241, 35033, 20915, 57789, 3241, 58521, 33536, 11225, 51063, 24473, 54322, 39418, 3856, 51063, 6474, 58809, 39557, 8836, 54037, 1785, 27932, 31607, 57879, 50093, 31010, 16364, 52375, 1834, 11472, 18918, 56957, 14830, 1164, 8351, 3856, 42717, 51063, 6474, 35033, 47991, 3241, 10627, 29356, 51063, 11676, 30563, 53136, 29217, 38439, 27932, 51063, 54322, 40539, 52375, 42637, 54486, 43733, 28659, 11225, 10627, 40714, 45613, 47009, 23239, 9818, 27932, 20915, 7804, 586, 14288, 3239, 40539, 10627, 21227, 27932, 15883, 24757, 58521, 46047, 3856, 3407], 1) ([21627, 51063, 22113, 28134, 31548, 57879, 50933, 2335, 47185, 53356, 14963, 58809, 40539, 7785, 40303, 21761, 50492, 22091, 20915, 50933, 2335, 12058, 21761, 24473, 14069, 20915, 30887, 51063, 16083, 12345, 16591, 27932, 26936, 27932, 23239, 12345, 54748, 37645, 27932, 46472, 42717, 39411, 37322, 33810, 20915, 15753, 8290, 21761, 21212, 27668, 3241, 13171, 10627, 5359, 3856, 3637, 36825, 11225, 20297, 51063, 15883, 35791, 8059, 52375, 14419, 12058, 51063, 19818, 22640, 26728, 16364, 3637, 36825, 22313, 8351, 2086, 10658, 51063, 11063, 51063, 45883, 6783, 14830, 3775, 36825, 10627, 50389, 2086, 22313, 2274, 12058, 42637, 15428, 10627, 50933, 10710, 52375, 25139, 3856, 51063, 19818, 46342, 6252, 41012, 33977, 2086, 50933, 26673, 7718, 11895, 34963, 40236, 14419, 52375, 24473, 51063, 26553, 22313, 3856, 26453, 25918, 23239, 10190, 58809, 3856, 3407], 0)\n"
     ]
    }
   ],
   "source": [
    "print(train_dataset[1], val_dataset[1], test_dataset[1])"
   ]
  },
  {
   "cell_type": "code",
   "execution_count": 34,
   "metadata": {},
   "outputs": [],
   "source": [
    "train_dataloader = DataLoader(\n",
    "    train_dataset,\n",
    "    batch_size=classifier_batch_size,\n",
    "    shuffle=True,\n",
    "    num_workers=0,\n",
    "    collate_fn=gender_data_collate_fn\n",
    ")\n",
    "val_dataloader = DataLoader(\n",
    "    val_dataset,\n",
    "    batch_size=classifier_batch_size,\n",
    "    shuffle=True,\n",
    "    num_workers=0,\n",
    "    collate_fn=gender_data_collate_fn\n",
    ")\n",
    "test_dataloader = DataLoader(\n",
    "    test_dataset,\n",
    "    batch_size=classifier_batch_size,\n",
    "    shuffle=True,\n",
    "    num_workers=0,\n",
    "    collate_fn=gender_data_collate_fn\n",
    ")"
   ]
  },
  {
   "cell_type": "code",
   "execution_count": 31,
   "metadata": {},
   "outputs": [],
   "source": [
    "classifier_model = ClassifierLSTM(\n",
    "    tokenizer.vocab_size(), \n",
    "    classifier_embedding_size, \n",
    "    classifier_hidden_size, \n",
    "    classifier_num_layers, \n",
    "    classifier_is_bidirectional\n",
    ").to(device)"
   ]
  },
  {
   "cell_type": "code",
   "execution_count": 32,
   "metadata": {},
   "outputs": [],
   "source": [
    "optimizer = optim.Adam(classifier_model.parameters(), lr = classifier_lr)"
   ]
  },
  {
   "cell_type": "code",
   "execution_count": 33,
   "metadata": {},
   "outputs": [],
   "source": [
    "criterion = nn.CrossEntropyLoss()"
   ]
  },
  {
   "cell_type": "code",
   "execution_count": 39,
   "metadata": {},
   "outputs": [],
   "source": [
    "def train(train_dataloader, val_dataloader, model, criterion, optimizer, num_epoch):\n",
    "\n",
    "    for epoch in range(num_epoch):\n",
    "        print(f\"Epoch {epoch}, total {len(train_dataloader)} batches\\n\")\n",
    "        model.train()\n",
    "        optimizer.zero_grad()\n",
    "\n",
    "        for batch, (src_ids, src_len, tgt) in enumerate(train_dataloader):\n",
    "\n",
    "            src_ids = src_ids.to(device)\n",
    "            tgt = tgt.to(device)\n",
    "\n",
    "            logits = model(src_ids, src_len)\n",
    "            loss = criterion(logits, tgt)\n",
    "            if batch % print_every == 0:\n",
    "                probs = nn.functional.softmax(logits)\n",
    "                print(f\"Epoch Step: {batch} Loss: {loss} Acc: {np.mean([probs.cpu().detach().numpy()[i][tgt[i]] for i in range(logits.size(0))])}\")\n",
    "\n",
    "            loss.backward()\n",
    "            nn.utils.clip_grad_norm_(model.parameters(), classifier_max_norm)\n",
    "            optimizer.step()\n",
    "            optimizer.zero_grad()\n",
    "\n",
    "        print(\"\\nBegin Evaluation\")\n",
    "        model.eval()\n",
    "        total_acc = 0\n",
    "        with torch.no_grad():\n",
    "            for batch, (src_ids, src_len, tgt) in enumerate(val_dataloader):\n",
    "                src_ids = src_ids.to(device)\n",
    "                tgt = tgt.to(device)\n",
    "                logits = model(src_ids, src_len)\n",
    "                probs = nn.functional.softmax(logits)\n",
    "                total_acc += np.sum([probs.cpu().detach().numpy()[i][tgt[i]] for i in range(logits.size(0))])\n",
    "        \n",
    "        acc = total_acc / len(val_dataloader.dataset)\n",
    "        print(f\"Validation Accuracy: {acc}, model saved\\n\")\n",
    "\n",
    "        torch.save(model.state_dict(), f'./save/classifier_model_{classifier_hidden_size}_{classifier_batch_size}_{classifier_num_layers}_{classifier_is_bidirectional}_epoch_{epoch}.file')\n"
   ]
  },
  {
   "cell_type": "code",
   "execution_count": 38,
   "metadata": {},
   "outputs": [
    {
     "name": "stdout",
     "output_type": "stream",
     "text": [
      "Epoch 0, total 3144 batches\n",
      "\n"
     ]
    },
    {
     "name": "stderr",
     "output_type": "stream",
     "text": [
      "C:\\Users\\56830\\AppData\\Local\\Temp\\ipykernel_10408\\2128783810.py:16: UserWarning: Implicit dimension choice for softmax has been deprecated. Change the call to include dim=X as an argument.\n",
      "  probs = nn.functional.softmax(logits)\n"
     ]
    },
    {
     "name": "stdout",
     "output_type": "stream",
     "text": [
      "Epoch Step: 0 Loss: 0.6955457329750061 Acc: 0.4992351233959198\n"
     ]
    },
    {
     "ename": "KeyboardInterrupt",
     "evalue": "",
     "output_type": "error",
     "traceback": [
      "\u001b[1;31m---------------------------------------------------------------------------\u001b[0m",
      "\u001b[1;31mKeyboardInterrupt\u001b[0m                         Traceback (most recent call last)",
      "Cell \u001b[1;32mIn [38], line 1\u001b[0m\n\u001b[1;32m----> 1\u001b[0m train(train_dataloader, val_dataloader, classifier_model, criterion, optimizer, classifier_num_epoch)\n",
      "Cell \u001b[1;32mIn [37], line 19\u001b[0m, in \u001b[0;36mtrain\u001b[1;34m(train_dataloader, val_dataloader, model, criterion, optimizer, num_epoch)\u001b[0m\n\u001b[0;32m     16\u001b[0m     probs \u001b[39m=\u001b[39m nn\u001b[39m.\u001b[39mfunctional\u001b[39m.\u001b[39msoftmax(logits)\n\u001b[0;32m     17\u001b[0m     \u001b[39mprint\u001b[39m(\u001b[39mf\u001b[39m\u001b[39m\"\u001b[39m\u001b[39mEpoch Step: \u001b[39m\u001b[39m{\u001b[39;00mbatch\u001b[39m}\u001b[39;00m\u001b[39m Loss: \u001b[39m\u001b[39m{\u001b[39;00mloss\u001b[39m}\u001b[39;00m\u001b[39m Acc: \u001b[39m\u001b[39m{\u001b[39;00mnp\u001b[39m.\u001b[39mmean([probs\u001b[39m.\u001b[39mcpu()\u001b[39m.\u001b[39mdetach()\u001b[39m.\u001b[39mnumpy()[i][tgt[i]] \u001b[39mfor\u001b[39;00m i \u001b[39min\u001b[39;00m \u001b[39mrange\u001b[39m(logits\u001b[39m.\u001b[39msize(\u001b[39m0\u001b[39m))])\u001b[39m}\u001b[39;00m\u001b[39m\"\u001b[39m)\n\u001b[1;32m---> 19\u001b[0m loss\u001b[39m.\u001b[39;49mbackward()\n\u001b[0;32m     20\u001b[0m nn\u001b[39m.\u001b[39mutils\u001b[39m.\u001b[39mclip_grad_norm_(model\u001b[39m.\u001b[39mparameters(), classifier_max_norm)\n\u001b[0;32m     21\u001b[0m optimizer\u001b[39m.\u001b[39mstep()\n",
      "File \u001b[1;32mc:\\Users\\56830\\.conda\\envs\\nlp\\lib\\site-packages\\torch\\_tensor.py:396\u001b[0m, in \u001b[0;36mTensor.backward\u001b[1;34m(self, gradient, retain_graph, create_graph, inputs)\u001b[0m\n\u001b[0;32m    387\u001b[0m \u001b[39mif\u001b[39;00m has_torch_function_unary(\u001b[39mself\u001b[39m):\n\u001b[0;32m    388\u001b[0m     \u001b[39mreturn\u001b[39;00m handle_torch_function(\n\u001b[0;32m    389\u001b[0m         Tensor\u001b[39m.\u001b[39mbackward,\n\u001b[0;32m    390\u001b[0m         (\u001b[39mself\u001b[39m,),\n\u001b[1;32m   (...)\u001b[0m\n\u001b[0;32m    394\u001b[0m         create_graph\u001b[39m=\u001b[39mcreate_graph,\n\u001b[0;32m    395\u001b[0m         inputs\u001b[39m=\u001b[39minputs)\n\u001b[1;32m--> 396\u001b[0m torch\u001b[39m.\u001b[39;49mautograd\u001b[39m.\u001b[39;49mbackward(\u001b[39mself\u001b[39;49m, gradient, retain_graph, create_graph, inputs\u001b[39m=\u001b[39;49minputs)\n",
      "File \u001b[1;32mc:\\Users\\56830\\.conda\\envs\\nlp\\lib\\site-packages\\torch\\autograd\\__init__.py:173\u001b[0m, in \u001b[0;36mbackward\u001b[1;34m(tensors, grad_tensors, retain_graph, create_graph, grad_variables, inputs)\u001b[0m\n\u001b[0;32m    168\u001b[0m     retain_graph \u001b[39m=\u001b[39m create_graph\n\u001b[0;32m    170\u001b[0m \u001b[39m# The reason we repeat same the comment below is that\u001b[39;00m\n\u001b[0;32m    171\u001b[0m \u001b[39m# some Python versions print out the first line of a multi-line function\u001b[39;00m\n\u001b[0;32m    172\u001b[0m \u001b[39m# calls in the traceback and some print out the last line\u001b[39;00m\n\u001b[1;32m--> 173\u001b[0m Variable\u001b[39m.\u001b[39;49m_execution_engine\u001b[39m.\u001b[39;49mrun_backward(  \u001b[39m# Calls into the C++ engine to run the backward pass\u001b[39;49;00m\n\u001b[0;32m    174\u001b[0m     tensors, grad_tensors_, retain_graph, create_graph, inputs,\n\u001b[0;32m    175\u001b[0m     allow_unreachable\u001b[39m=\u001b[39;49m\u001b[39mTrue\u001b[39;49;00m, accumulate_grad\u001b[39m=\u001b[39;49m\u001b[39mTrue\u001b[39;49;00m)\n",
      "\u001b[1;31mKeyboardInterrupt\u001b[0m: "
     ]
    }
   ],
   "source": [
    "train(train_dataloader, val_dataloader, classifier_model, criterion, optimizer, classifier_num_epoch)"
   ]
  }
 ],
 "metadata": {
  "kernelspec": {
   "display_name": "Python 3.8.13 ('nlp')",
   "language": "python",
   "name": "python3"
  },
  "language_info": {
   "codemirror_mode": {
    "name": "ipython",
    "version": 3
   },
   "file_extension": ".py",
   "mimetype": "text/x-python",
   "name": "python",
   "nbconvert_exporter": "python",
   "pygments_lexer": "ipython3",
   "version": "3.8.13"
  },
  "orig_nbformat": 4,
  "vscode": {
   "interpreter": {
    "hash": "1ecdeeea834996ab17c476b9c82385c086ccb21d059ebd3afa1913627f92baf1"
   }
  }
 },
 "nbformat": 4,
 "nbformat_minor": 2
}
