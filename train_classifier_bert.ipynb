{
 "cells": [
  {
   "cell_type": "code",
   "execution_count": 1,
   "metadata": {
    "execution": {
     "iopub.execute_input": "2022-12-04T13:26:38.158987Z",
     "iopub.status.busy": "2022-12-04T13:26:38.158112Z",
     "iopub.status.idle": "2022-12-04T13:26:38.191432Z",
     "shell.execute_reply": "2022-12-04T13:26:38.190077Z",
     "shell.execute_reply.started": "2022-12-04T13:26:38.158907Z"
    }
   },
   "outputs": [],
   "source": [
    "%load_ext autoreload\n",
    "%autoreload 2"
   ]
  },
  {
   "cell_type": "code",
   "execution_count": null,
   "metadata": {
    "execution": {
     "iopub.execute_input": "2022-12-04T13:26:38.194741Z",
     "iopub.status.busy": "2022-12-04T13:26:38.194029Z"
    }
   },
   "outputs": [],
   "source": [
    "import os\n",
    "import math\n",
    "import json\n",
    "import torch\n",
    "import pickle\n",
    "import random\n",
    "from tqdm import tqdm\n",
    "from torch import nn, optim\n",
    "from torch.utils.data import DataLoader\n",
    "from sentence_transformers import SentenceTransformer, util\n",
    "from transformers import GPT2LMHeadModel\n",
    "\n",
    "import load_data\n",
    "from load_data import GenderDataset, gender_data_collate_fn\n",
    "from models.classifier_bert import ClassifierBERT"
   ]
  },
  {
   "cell_type": "code",
   "execution_count": null,
   "metadata": {},
   "outputs": [],
   "source": [
    "device = torch.device('cpu')\n",
    "if torch.cuda.is_available():\n",
    "    device = torch.device('cuda')\n",
    "\n",
    "print(device)"
   ]
  },
  {
   "cell_type": "code",
   "execution_count": null,
   "metadata": {},
   "outputs": [],
   "source": [
    "# Hyper parameters\n",
    "num_epoch = 100\n",
    "batch_size = 128\n",
    "lr = 3e-4\n",
    "wd = 5e-6\n",
    "print_every = 300\n",
    "\n",
    "max_norm = 2.0"
   ]
  },
  {
   "cell_type": "code",
   "execution_count": null,
   "metadata": {},
   "outputs": [],
   "source": [
    "with open(os.path.join(os.curdir, \"data\", \"blog.json\"), \"r\") as file:\n",
    "    json_data = json.load(file)\n",
    "docs = json_data['docs'][1:] # I don't want to see the first document"
   ]
  },
  {
   "cell_type": "code",
   "execution_count": null,
   "metadata": {},
   "outputs": [],
   "source": [
    "num_docs = len(docs)\n",
    "num_train_docs = int(num_docs * 0.7)\n",
    "num_val_docs = int(num_docs * 0.15)\n",
    "num_test_docs = num_docs - num_train_docs - num_val_docs\n",
    "print(num_train_docs, num_val_docs, num_test_docs)"
   ]
  },
  {
   "cell_type": "code",
   "execution_count": null,
   "metadata": {},
   "outputs": [],
   "source": [
    "train_docs = docs[:num_train_docs]\n",
    "val_docs = docs[num_train_docs:num_train_docs+num_val_docs]\n",
    "test_docs = docs[num_train_docs+num_val_docs:]"
   ]
  },
  {
   "cell_type": "code",
   "execution_count": null,
   "metadata": {},
   "outputs": [],
   "source": [
    "train_dataset, val_dataset, test_dataset = None, None, None\n",
    "load_from_pickled = False\n",
    "\n",
    "if os.path.exists(\"train.pickle\"):\n",
    "    load_from_pickled = True\n",
    "    with open(\"train.pickle\", \"rb\") as f:\n",
    "        train_dataset = pickle.load(f)\n",
    "    with open(\"val.pickle\", \"rb\") as f:\n",
    "        val_dataset = pickle.load(f)\n",
    "    with open(\"test.pickle\", \"rb\") as f:\n",
    "        test_dataset = pickle.load(f)\n",
    "else:\n",
    "    train_dataset = GenderDataset(train_docs)\n",
    "    val_dataset = GenderDataset(val_docs)\n",
    "    test_dataset = GenderDataset(test_docs)\n",
    "\n",
    "if not load_from_pickled:\n",
    "    with open(\"train.pickle\", \"wb\") as f:\n",
    "        pickle.dump(train_dataset, f)\n",
    "    with open(\"val.pickle\", \"wb\") as f:\n",
    "        pickle.dump(val_dataset, f)\n",
    "    with open(\"test.pickle\", \"wb\") as f:\n",
    "        pickle.dump(test_dataset, f)\n",
    "\n",
    "print(load_from_pickled)   "
   ]
  },
  {
   "cell_type": "code",
   "execution_count": null,
   "metadata": {},
   "outputs": [],
   "source": [
    "train_dataloader = DataLoader(\n",
    "    train_dataset,\n",
    "    batch_size=batch_size,\n",
    "    shuffle=True,\n",
    "    num_workers=0,\n",
    "    collate_fn=gender_data_collate_fn\n",
    ")\n",
    "val_dataloader = DataLoader(\n",
    "    val_dataset,\n",
    "    batch_size=batch_size,\n",
    "    shuffle=True,\n",
    "    num_workers=0,\n",
    "    collate_fn=gender_data_collate_fn\n",
    ")\n",
    "test_dataloader = DataLoader(\n",
    "    test_dataset,\n",
    "    batch_size=batch_size,\n",
    "    shuffle=True,\n",
    "    num_workers=0,\n",
    "    collate_fn=gender_data_collate_fn\n",
    ")"
   ]
  },
  {
   "cell_type": "code",
   "execution_count": null,
   "metadata": {},
   "outputs": [],
   "source": [
    "next(enumerate(test_dataloader))"
   ]
  },
  {
   "cell_type": "code",
   "execution_count": null,
   "metadata": {},
   "outputs": [],
   "source": [
    "classifier_model = ClassifierBERT(\n",
    "    vocab_size=load_data.tokenizer.vocab_size,\n",
    ").to(device)"
   ]
  },
  {
   "cell_type": "code",
   "execution_count": null,
   "metadata": {},
   "outputs": [],
   "source": [
    "optimizer = optim.AdamW(classifier_model.parameters(), lr=lr, weight_decay=wd)"
   ]
  },
  {
   "cell_type": "code",
   "execution_count": null,
   "metadata": {},
   "outputs": [],
   "source": [
    "criterion = nn.CrossEntropyLoss()"
   ]
  },
  {
   "cell_type": "code",
   "execution_count": null,
   "metadata": {},
   "outputs": [],
   "source": [
    "def train(train_dataloader, val_dataloader, model, criterion, optimizer, num_epoch):\n",
    "    train_id = random.randint(0,1000)\n",
    "    log = open(f'./save/cls_{train_id}.txt','w')\n",
    "    for epoch in range(num_epoch):\n",
    "        print(f\"Epoch {epoch}, total {len(train_dataloader)} batches\\n\")\n",
    "        log.write(f\"Epoch {epoch}, total {len(train_dataloader)} batches\\n\")\n",
    "        log.flush()\n",
    "\n",
    "        for batch, (src_ids, src_len, tgt) in enumerate(train_dataloader):\n",
    "            torch.cuda.empty_cache()\n",
    "            model.train()\n",
    "            optimizer.zero_grad()\n",
    "\n",
    "            src_ids = src_ids.to(device)\n",
    "            tgt = tgt.to(device)\n",
    "            \n",
    "            src_logits = torch.zeros(batch_size, src_ids.size(1), load_data.tokenizer.vocab_size).to(device)\n",
    "            for i in range(batch_size):\n",
    "                for j, label in enumerate(src_ids[i]):\n",
    "                    src_logits[i][j][label] = 1.0\n",
    "\n",
    "            logits = model(src_logits)\n",
    "            loss = criterion(logits, tgt)\n",
    "            \n",
    "            loss.backward()\n",
    "            nn.utils.clip_grad_norm_(model.parameters(), max_norm)\n",
    "            optimizer.step()\n",
    "            torch.cuda.empty_cache()\n",
    "            \n",
    "            if batch % print_every == 0:\n",
    "                print(f\"Epoch Step: {batch} Loss: {loss} Acc: {(logits.argmax(1) == tgt).sum().item() / tgt.size(0)}\")\n",
    "                log.write(f\"Epoch Step: {batch} Loss: {loss} Acc: {(logits.argmax(1) == tgt).sum().item() / tgt.size(0)}\\n\")\n",
    "\n",
    "                torch.save(model.state_dict(), f'./save/cls_model_{train_id}_{batch_size}_epoch_{epoch}.file')\n",
    "            \n",
    "            if batch % (print_every * 5) == 0:\n",
    "                print(f\"\\nBegin Evaluation\")\n",
    "                model.eval()\n",
    "                total_acc = 0\n",
    "                limit=len(val_dataloader)\n",
    "                if limit > 75: \n",
    "                    limit=75\n",
    "\n",
    "                with torch.no_grad():\n",
    "                    for batch, (src_ids, src_len, tgt) in tqdm(enumerate(val_dataloader),total=limit):\n",
    "                        src_ids = src_ids.to(device)\n",
    "                        tgt = tgt.to(device)\n",
    "                        \n",
    "                        src_logits = torch.zeros(batch_size, src_ids.size(1), load_data.tokenizer.vocab_size).to(device)\n",
    "                        for i in range(batch_size):\n",
    "                            for j, label in enumerate(src_ids[i]):\n",
    "                                src_logits[i][j][label] = 1.0\n",
    "                        \n",
    "                        logits = model(src_logits)\n",
    "                        total_acc += (logits.argmax(1) == tgt).sum().item()\n",
    "                        if batch>=limit: break\n",
    "\n",
    "                acc = total_acc / limit  / batch_size #len(val_dataloader.dataset)\n",
    "                print(f\"Validation Accuracy: {acc}\\n\")\n",
    "                log.write(f\"Validation Accuracy: {acc}\\n\")\n",
    "                log.flush()\n",
    "\n",
    "            \n",
    "\n"
   ]
  },
  {
   "cell_type": "code",
   "execution_count": null,
   "metadata": {},
   "outputs": [],
   "source": [
    "train(train_dataloader, val_dataloader, classifier_model, criterion, optimizer, num_epoch)"
   ]
  }
 ],
 "metadata": {
  "kernelspec": {
   "display_name": "Python 3 (ipykernel)",
   "language": "python",
   "name": "python3"
  },
  "language_info": {
   "codemirror_mode": {
    "name": "ipython",
    "version": 3
   },
   "file_extension": ".py",
   "mimetype": "text/x-python",
   "name": "python",
   "nbconvert_exporter": "python",
   "pygments_lexer": "ipython3",
   "version": "3.9.13"
  },
  "vscode": {
   "interpreter": {
    "hash": "1ecdeeea834996ab17c476b9c82385c086ccb21d059ebd3afa1913627f92baf1"
   }
  }
 },
 "nbformat": 4,
 "nbformat_minor": 4
}
