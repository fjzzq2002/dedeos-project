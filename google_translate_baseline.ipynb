{
 "cells": [
  {
   "cell_type": "code",
   "execution_count": 3,
   "metadata": {},
   "outputs": [
    {
     "name": "stdout",
     "output_type": "stream",
     "text": [
      "Cutting documents into paragraphs of length 128...\n"
     ]
    },
    {
     "name": "stderr",
     "output_type": "stream",
     "text": [
      "  0%|          | 0/19676 [00:00<?, ?it/s]Token indices sequence length is longer than the specified maximum sequence length for this model (1154 > 512). Running this sequence through the model will result in indexing errors\n",
      "100%|██████████| 19676/19676 [02:35<00:00, 126.65it/s]\n"
     ]
    },
    {
     "name": "stdout",
     "output_type": "stream",
     "text": [
      "Number of documents: 618377\n",
      "Discarded ratio (due to MIN_LENGTH): 0.163\n",
      "Number of unique words before converting to [UNK]:  27334\n",
      "Converting words with frequencies less than 10 to [UNK]...\n"
     ]
    },
    {
     "name": "stderr",
     "output_type": "stream",
     "text": [
      "100%|██████████| 618377/618377 [00:24<00:00, 24799.78it/s]"
     ]
    },
    {
     "name": "stdout",
     "output_type": "stream",
     "text": [
      "Number of unique words after converting [UNK]:  25659\n",
      "Known occurrences rate 99.99%\n"
     ]
    },
    {
     "name": "stderr",
     "output_type": "stream",
     "text": [
      "\n"
     ]
    }
   ],
   "source": [
    "import load_data\n",
    "import json\n",
    "import os\n",
    "from load_data import GenderDataset\n",
    "with open(os.path.join(os.curdir, \"data\", \"blog.json\"), \"r\") as file:\n",
    "    json_data = json.load(file)\n",
    "docs = json_data['docs'][1:]\n",
    "gender_data = GenderDataset(docs)"
   ]
  },
  {
   "cell_type": "code",
   "execution_count": 8,
   "metadata": {},
   "outputs": [
    {
     "name": "stdout",
     "output_type": "stream",
     "text": [
      "basti! you n i have argued this point to death, have n ' t we? have you read : ayn rand ' s \" atlas shrugged \"? it is one of the most influential books existent in the world today. it perpetuates the philosophy of objectivism. objectivism might strike some humanists, conformists and whatever - ists as inhuman. why? because it says human emotion is second to the power of the human mind. it means that rationality is the utmost tool to our survival. and money is good as long as you earn it rightfully and value that which you acquire. in fact,\n",
      "the book explains in great detail how a capitalistic society could thrive and succeed. it does make a lot of sense, logically, rationally, and it does appeal to the human intellect - lrb - which, to some extent, the book implies as almost nonexistent in this world today - rrb -. which is true to some level. in fact, i have thought of some representation regarding the title. atlas represents those who have the mind, power, and will to make changes in the world. atlas carries the world on his shoulders. all these years he ' s possessed the gift of thought and he used to\n",
      "make monumental things. but the parasite - infested world of non - thinking people thrive on them, cheat them, and rob them, take advantage of their mind. so the greatest power that was finally given to them by the trio of heroes in the book was the knowledge that they should n ' t accept this life and they should not give this moral sanction to the world to use them. finally, atlas realized the worth of his life, let go of the burden of the world, and atlas shrugged. yeah yeah yeah... haha. it ' s a good read. it ' ll convince you that there is some\n",
      "##ed world of non - thinking people thrive on them, cheat them, and rob them, take advantage of their mind. so the greatest power that was finally given to them by the trio of heroes in the book was the knowledge that they should n ' t accept this life and they should not give this moral sanction to the world to use them. finally, atlas realized the worth of his life, let go of the burden of the world, and atlas shrugged. yeah yeah yeah... haha. it ' s a good read. it ' ll convince you that there is some goodness to being selfish. : - rrb -\n",
      "astromatch? no, seriously, astromatch. astrology, the single most vague yet utterly alluring quasi - science. right up there with palmistry and handwriting analysis. rely on the cosmos and star placements according to your time and place of birth. so much information you could take just two clicks away. one is, choose you and your partner ' s sign and two is, click to see your astromatch!! is this credible? fatalistic altogether despite the counter - attack of astrologers and madame sinistras alike that \" the stars serve only as guides but they do not determine what will really\n"
     ]
    },
    {
     "data": {
      "text/plain": [
       "['Basti! You have not discussed this point for death, what do you read: Ayn Edge \"Reproduction of armpits\"? He is one of the most influential books of Inhuman.Wey? Because he saysThat human emotions are the power of the human mind is the second. This means that rationality is the most appropriate instrument for survival.',\n",
       " 'The book explains in detail how capitalist society can develop and succeed. This has a lot of meaning for the human intellect, logical, reasonable and attractive - LRB - which does not exist in this world - RRB - what a faithful level.',\n",
       " \"Make monumental things. But the parasite - the infected world - who does not think - cheating, cheating and kidnaps, used his head. The greatest strength that the book was finally given to the three heroes knows that he was notNot that they accepted this life and did not have to give this moral sanction of the world. Finally, Atlas recognized the value of his life, let go of the burden of the world and shrugged the shoulders. Yes, yes, yes,Yes, yes, yes, yes, yes, yes, yes, yes, yes, yes, yes, yes, yes, yes, yes, yes, yes, yes, yes ... haha. It's a good reading. Who convinces him. You have something\",\n",
       " '## flows them into the world of unrealized people, trompe and kidnaps them, took advantage of their minds. The greatest strength they had finally given to the triple of the heroes in the book was that they did not have to acceptThis life and that this moral sanction should not be given to the world. Finally, Atlas recognized the value of his life, let go of the burden of the world and hausses the shoulders. Yes yes.Convince that there is something good selfish.',\n",
       " 'Astromatch? No, seriously, astromatch. Astrology, the only blurred and yet completely attractive analysis. CLICK on both to display the astromatch !! it is authentic? On the whole, despite its attacks against astrologers and madamSinistra, the stars only serve as a guide, but do not decide what will really be, what will be, what will be']"
      ]
     },
     "execution_count": 8,
     "metadata": {},
     "output_type": "execute_result"
    }
   ],
   "source": [
    "import load_data\n",
    "from googletrans import Translator\n",
    "translator=Translator()\n",
    "modified_gender_data = []\n",
    "for i in range(5):\n",
    "    # if i%10==0:\n",
    "    #     print(i)\n",
    "    s=gender_data.idx2str(gender_data[i][0])\n",
    "    try:\n",
    "        s1=translator.translate(s, dest='hu').text\n",
    "        s2=translator.translate(s1, dest='de').text\n",
    "        s3=translator.translate(s2, dest='fr').text\n",
    "        s4=translator.translate(s3, dest='en').text\n",
    "        modified_gender_data.append(s4)\n",
    "    except Exception as e:\n",
    "        print(e)\n",
    "        modified_gender_data.append('')\n",
    "modified_gender_data"
   ]
  },
  {
   "cell_type": "code",
   "execution_count": 21,
   "metadata": {},
   "outputs": [],
   "source": [
    "import json\n",
    "with open(\"hu_de_fr_en_baseline.json\", \"w\") as outfile:\n",
    "    json.dump(modified_gender_data, outfile)"
   ]
  }
 ],
 "metadata": {
  "kernelspec": {
   "display_name": "Python 3.10.6 64-bit",
   "language": "python",
   "name": "python3"
  },
  "language_info": {
   "codemirror_mode": {
    "name": "ipython",
    "version": 3
   },
   "file_extension": ".py",
   "mimetype": "text/x-python",
   "name": "python",
   "nbconvert_exporter": "python",
   "pygments_lexer": "ipython3",
   "version": "3.10.6"
  },
  "orig_nbformat": 4,
  "vscode": {
   "interpreter": {
    "hash": "b0fa6594d8f4cbf19f97940f81e996739fb7646882a419484c72d19e05852a7e"
   }
  }
 },
 "nbformat": 4,
 "nbformat_minor": 2
}
