{
 "cells": [
  {
   "cell_type": "code",
   "execution_count": 1,
   "metadata": {},
   "outputs": [
    {
     "name": "stdout",
     "output_type": "stream",
     "text": [
      "Requirement already satisfied: import-ipynb in /home/zhengyx/.local/lib/python3.8/site-packages (0.1.4)\n",
      "Requirement already satisfied: IPython in /home/zhengyx/.local/lib/python3.8/site-packages (from import-ipynb) (8.6.0)\n",
      "Requirement already satisfied: nbformat in /home/zhengyx/.local/lib/python3.8/site-packages (from import-ipynb) (5.7.0)\n",
      "Requirement already satisfied: traitlets>=5 in /home/zhengyx/.local/lib/python3.8/site-packages (from IPython->import-ipynb) (5.5.0)\n",
      "Requirement already satisfied: pygments>=2.4.0 in /home/zhengyx/.local/lib/python3.8/site-packages (from IPython->import-ipynb) (2.13.0)\n",
      "Requirement already satisfied: pexpect>4.3; sys_platform != \"win32\" in /usr/lib/python3/dist-packages (from IPython->import-ipynb) (4.6.0)\n",
      "Requirement already satisfied: jedi>=0.16 in /home/zhengyx/.local/lib/python3.8/site-packages (from IPython->import-ipynb) (0.18.2)\n",
      "Requirement already satisfied: stack-data in /home/zhengyx/.local/lib/python3.8/site-packages (from IPython->import-ipynb) (0.6.1)\n",
      "Requirement already satisfied: pickleshare in /home/zhengyx/.local/lib/python3.8/site-packages (from IPython->import-ipynb) (0.7.5)\n",
      "Requirement already satisfied: matplotlib-inline in /home/zhengyx/.local/lib/python3.8/site-packages (from IPython->import-ipynb) (0.1.6)\n",
      "Requirement already satisfied: decorator in /home/zhengyx/.local/lib/python3.8/site-packages (from IPython->import-ipynb) (5.1.1)\n",
      "Requirement already satisfied: backcall in /home/zhengyx/.local/lib/python3.8/site-packages (from IPython->import-ipynb) (0.2.0)\n",
      "Requirement already satisfied: prompt-toolkit<3.1.0,>3.0.1 in /home/zhengyx/.local/lib/python3.8/site-packages (from IPython->import-ipynb) (3.0.33)\n",
      "Requirement already satisfied: jupyter-core in /home/zhengyx/.local/lib/python3.8/site-packages (from nbformat->import-ipynb) (5.0.0)\n",
      "Requirement already satisfied: jsonschema>=2.6 in /home/zhengyx/.local/lib/python3.8/site-packages (from nbformat->import-ipynb) (4.17.1)\n",
      "Requirement already satisfied: fastjsonschema in /home/zhengyx/.local/lib/python3.8/site-packages (from nbformat->import-ipynb) (2.16.2)\n",
      "Requirement already satisfied: parso<0.9.0,>=0.8.0 in /home/zhengyx/.local/lib/python3.8/site-packages (from jedi>=0.16->IPython->import-ipynb) (0.8.3)\n",
      "Requirement already satisfied: executing>=1.2.0 in /home/zhengyx/.local/lib/python3.8/site-packages (from stack-data->IPython->import-ipynb) (1.2.0)\n",
      "Requirement already satisfied: asttokens>=2.1.0 in /home/zhengyx/.local/lib/python3.8/site-packages (from stack-data->IPython->import-ipynb) (2.1.0)\n",
      "Requirement already satisfied: pure-eval in /home/zhengyx/.local/lib/python3.8/site-packages (from stack-data->IPython->import-ipynb) (0.2.2)\n",
      "Requirement already satisfied: wcwidth in /home/zhengyx/.local/lib/python3.8/site-packages (from prompt-toolkit<3.1.0,>3.0.1->IPython->import-ipynb) (0.2.5)\n",
      "Requirement already satisfied: platformdirs in /home/zhengyx/.local/lib/python3.8/site-packages (from jupyter-core->nbformat->import-ipynb) (2.5.4)\n",
      "Requirement already satisfied: importlib-resources>=1.4.0; python_version < \"3.9\" in /home/zhengyx/.local/lib/python3.8/site-packages (from jsonschema>=2.6->nbformat->import-ipynb) (5.10.0)\n",
      "Requirement already satisfied: pkgutil-resolve-name>=1.3.10; python_version < \"3.9\" in /home/zhengyx/.local/lib/python3.8/site-packages (from jsonschema>=2.6->nbformat->import-ipynb) (1.3.10)\n",
      "Requirement already satisfied: pyrsistent!=0.17.0,!=0.17.1,!=0.17.2,>=0.14.0 in /home/zhengyx/.local/lib/python3.8/site-packages (from jsonschema>=2.6->nbformat->import-ipynb) (0.19.2)\n",
      "Requirement already satisfied: attrs>=17.4.0 in /home/zhengyx/.local/lib/python3.8/site-packages (from jsonschema>=2.6->nbformat->import-ipynb) (22.1.0)\n",
      "Requirement already satisfied: six in /home/zhengyx/.local/lib/python3.8/site-packages (from asttokens>=2.1.0->stack-data->IPython->import-ipynb) (1.11.0)\n",
      "Requirement already satisfied: zipp>=3.1.0; python_version < \"3.10\" in /home/zhengyx/.local/lib/python3.8/site-packages (from importlib-resources>=1.4.0; python_version < \"3.9\"->jsonschema>=2.6->nbformat->import-ipynb) (3.10.0)\n",
      "Note: you may need to restart the kernel to use updated packages.\n"
     ]
    }
   ],
   "source": [
    "pip install import-ipynb\n"
   ]
  },
  {
   "cell_type": "code",
   "execution_count": 3,
   "metadata": {},
   "outputs": [
    {
     "name": "stdout",
     "output_type": "stream",
     "text": [
      "importing Jupyter notebook from load_data.ipynb\n"
     ]
    },
    {
     "name": "stderr",
     "output_type": "stream",
     "text": [
      "/home/zhengyx/.local/lib/python3.8/site-packages/tqdm/auto.py:22: TqdmWarning: IProgress not found. Please update jupyter and ipywidgets. See https://ipywidgets.readthedocs.io/en/stable/user_install.html\n",
      "  from .autonotebook import tqdm as notebook_tqdm\n"
     ]
    },
    {
     "name": "stdout",
     "output_type": "stream",
     "text": [
      "Cutting documents into paragraphs of length 128...\n"
     ]
    },
    {
     "name": "stderr",
     "output_type": "stream",
     "text": [
      "100%|██████████| 19676/19676 [00:32<00:00, 596.82it/s]\n"
     ]
    },
    {
     "name": "stdout",
     "output_type": "stream",
     "text": [
      "Number of documents: 559126\n",
      "Counting freqeuncies of words...\n"
     ]
    },
    {
     "name": "stderr",
     "output_type": "stream",
     "text": [
      "100%|██████████| 559126/559126 [00:21<00:00, 25887.65it/s]\n"
     ]
    },
    {
     "name": "stdout",
     "output_type": "stream",
     "text": [
      "Number of documents with lengths <= 128: 554016\n",
      "Number of unique words before converting to <UNK>:  505954\n",
      "Converting words with frequencies less than 5 to <UNK>...\n"
     ]
    },
    {
     "name": "stderr",
     "output_type": "stream",
     "text": [
      "554016it [00:13, 40411.32it/s]\n"
     ]
    },
    {
     "name": "stdout",
     "output_type": "stream",
     "text": [
      "Number of unique words after converting <UNK>:  85906\n",
      "Known occurrences rate 99.01%\n",
      "Data is a pair of 128-dim vector of indices and a gender label: ([51925, 77667, 84699, 24806, 46937, 66333, 58990, 76755, 20122, 33073, 63462, 46937, 19799, 76451, 33073, 66559, 80400, 30651, 24854, 80400, 70360, 6444, 69266, 4036, 63462, 41264, 17205, 19799, 33073, 81140, 28969, 68748, 41553, 78111, 66559, 59738, 80400, 814, 20982, 55369, 80400, 12131, 7882, 33073, 47433, 83707, 77667, 31697, 80400, 814, 20982, 55369, 33073, 4036, 84010, 64046, 35416, 33073, 68908, 19155, 49693, 33073, 66559, 25569, 38294, 4129, 47072, 21422, 69639, 24806, 46937, 37785, 6444, 40860, 6444, 67789, 80400, 42417, 33073, 64583, 64046, 33073, 14748, 47072, 52264, 47072, 33073, 47072, 33073, 28969, 63407, 77667, 25483, 51201, 76151, 70159, 80400, 58422, 6444, 25483, 1872, 46175, 33073, 25483, 28969, 3916, 4129, 61840, 43955, 83920, 81140, 60874, 20262, 81140, 33073, 77594], 0) \n",
      "\n",
      "You can use GenderData.tokenize to retokenize the data: <SOS> i took an i.q. test the other day <SEP> my i.q. is 144 <SEP> and to add insult to injury , guess what my intellectual description is <SEP> \" you are highly gifted and appearing to be a genius to most people <SEP> hmmm <SEP>. i appear to be a genius <SEP> what does that mean <SEP> try it out <SEP> and just trivia : <UNK> einstein had an i.q. of , like , 168 to 169 <SEP> beat that <SEP> :-rrb- <UNK> or <UNK> <SEP> <UNK> <SEP> you n i have argued this point to death , have n't we <SEP> have you read : ayn rand 's \" atlas shrugged \" <SEP> <EOS> \n",
      "\n",
      "Or use GenderData.detokenize detokenize it back to indices: [51925, 77667, 84699, 24806, 46937, 66333, 58990, 76755, 20122, 33073, 63462, 46937, 19799, 76451, 33073, 66559, 80400, 30651, 24854, 80400, 70360, 6444, 69266, 4036, 63462, 41264, 17205, 19799, 33073, 81140, 28969, 68748, 41553, 78111, 66559, 59738, 80400, 814, 20982, 55369, 80400, 12131, 7882, 33073, 47433, 83707, 77667, 31697, 80400, 814, 20982, 55369, 33073, 4036, 84010, 64046, 35416, 33073, 68908, 19155, 49693, 33073, 66559, 25569, 38294, 4129, 47072, 21422, 69639, 24806, 46937, 37785, 6444, 40860, 6444, 67789, 80400, 42417, 33073, 64583, 64046, 33073, 14748, 47072, 52264, 47072, 33073, 47072, 33073, 28969, 63407, 77667, 25483, 51201, 76151, 70159, 80400, 58422, 6444, 25483, 1872, 46175, 33073, 25483, 28969, 3916, 4129, 61840, 43955, 83920, 81140, 60874, 20262, 81140, 33073, 77594] \n",
      "\n"
     ]
    }
   ],
   "source": [
    "import import_ipynb\n",
    "import load_data"
   ]
  },
  {
   "cell_type": "code",
   "execution_count": 20,
   "metadata": {},
   "outputs": [
    {
     "name": "stdout",
     "output_type": "stream",
     "text": [
      "0\n",
      "10\n",
      "20\n",
      "30\n",
      "40\n",
      "50\n",
      "60\n",
      "70\n",
      "80\n",
      "90\n",
      "100\n",
      "110\n",
      "120\n",
      "130\n",
      "140\n",
      "150\n",
      "160\n",
      "170\n",
      "180\n",
      "190\n",
      "200\n",
      "210\n",
      "220\n",
      "230\n",
      "240\n",
      "250\n",
      "260\n",
      "270\n",
      "280\n",
      "290\n",
      "300\n",
      "310\n",
      "320\n",
      "330\n",
      "340\n",
      "350\n",
      "360\n",
      "370\n",
      "380\n",
      "390\n",
      "400\n",
      "410\n",
      "420\n",
      "430\n",
      "440\n",
      "450\n",
      "460\n",
      "470\n",
      "480\n",
      "490\n"
     ]
    }
   ],
   "source": [
    "from googletrans import Translator\n",
    "translator=Translator()\n",
    "modified_gender_data = []\n",
    "for i in range(500):\n",
    "    if i%10==0:\n",
    "        print(i)\n",
    "    # assert(len(text) > 0)\n",
    "    # print(i, load_data.gender_data.tokenize(load_data.gender_data[i][0]))\n",
    "    s=load_data.gender_data.tokenize(load_data.gender_data[i][0])\n",
    "    try:\n",
    "        s1=translator.translate(s, dest='hu').text\n",
    "        s2=translator.translate(s1, dest='de').text\n",
    "        s3=translator.translate(s2, dest='fr').text\n",
    "        s4=translator.translate(s3, dest='en').text\n",
    "        modified_gender_data.append(s4)\n",
    "    except:\n",
    "        modified_gender_data.append('')\n"
   ]
  },
  {
   "cell_type": "code",
   "execution_count": 21,
   "metadata": {},
   "outputs": [],
   "source": [
    "import json\n",
    "with open(\"hu_de_fr_en_baseline.json\", \"w\") as outfile:\n",
    "    json.dump(modified_gender_data, outfile)"
   ]
  }
 ],
 "metadata": {
  "kernelspec": {
   "display_name": "Python 3.8.10 64-bit",
   "language": "python",
   "name": "python3"
  },
  "language_info": {
   "codemirror_mode": {
    "name": "ipython",
    "version": 3
   },
   "file_extension": ".py",
   "mimetype": "text/x-python",
   "name": "python",
   "nbconvert_exporter": "python",
   "pygments_lexer": "ipython3",
   "version": "3.8.10"
  },
  "orig_nbformat": 4,
  "vscode": {
   "interpreter": {
    "hash": "916dbcbb3f70747c44a77c7bcd40155683ae19c65e1c03b4aa3499c5328201f1"
   }
  }
 },
 "nbformat": 4,
 "nbformat_minor": 2
}
