{
 "cells": [
  {
   "cell_type": "code",
   "execution_count": 1,
   "metadata": {},
   "outputs": [],
   "source": [
    "%load_ext autoreload\n",
    "%autoreload 2"
   ]
  },
  {
   "cell_type": "code",
   "execution_count": 2,
   "metadata": {},
   "outputs": [],
   "source": [
    "import os\n",
    "import json\n",
    "import torch\n",
    "import pickle\n",
    "import random\n",
    "import math\n",
    "from tqdm import tqdm\n",
    "from torch import nn, optim\n",
    "from torch.utils.data import DataLoader\n",
    "from sentence_transformers import SentenceTransformer, util\n",
    "\n",
    "import load_data\n",
    "from load_data import GenderDataset, gender_data_collate_fn\n",
    "from models.encoder_t5 import EncoderT5\n",
    "from models.classifier_bert import ClassifierBERT\n",
    "from models.perplexity_gpt import PerplexityGPT2\n",
    "from models.similarity_sent_enc import encode_for_similarities"
   ]
  },
  {
   "cell_type": "code",
   "execution_count": 3,
   "metadata": {},
   "outputs": [
    {
     "name": "stdout",
     "output_type": "stream",
     "text": [
      "cuda:3\n"
     ]
    }
   ],
   "source": [
    "device = torch.device('cpu')\n",
    "if torch.cuda.is_available():\n",
    "    device = torch.device('cuda:3')\n",
    "\n",
    "print(device)"
   ]
  },
  {
   "cell_type": "code",
   "execution_count": 4,
   "metadata": {},
   "outputs": [],
   "source": [
    "# Hyper parameters\n",
    "num_epoch = 100\n",
    "batch_size = 32\n",
    "lr = 1e-4\n",
    "wd = 5e-6\n",
    "print_every = 200"
   ]
  },
  {
   "cell_type": "code",
   "execution_count": 5,
   "metadata": {},
   "outputs": [],
   "source": [
    "with open(os.path.join(os.curdir, \"data\", \"blog.json\"), \"r\") as file:\n",
    "    json_data = json.load(file)\n",
    "docs = json_data['docs'][1:] # I don't want to see the first document"
   ]
  },
  {
   "cell_type": "code",
   "execution_count": 6,
   "metadata": {},
   "outputs": [
    {
     "name": "stdout",
     "output_type": "stream",
     "text": [
      "13773 2951 2952\n"
     ]
    }
   ],
   "source": [
    "num_docs = len(docs)\n",
    "num_train_docs = int(num_docs * 0.7)\n",
    "num_val_docs = int(num_docs * 0.15)\n",
    "num_test_docs = num_docs - num_train_docs - num_val_docs\n",
    "print(num_train_docs, num_val_docs, num_test_docs)"
   ]
  },
  {
   "cell_type": "code",
   "execution_count": 7,
   "metadata": {},
   "outputs": [],
   "source": [
    "train_docs = docs[:num_train_docs]\n",
    "val_docs = docs[num_train_docs:num_train_docs+num_val_docs]\n",
    "test_docs = docs[num_train_docs+num_val_docs:]"
   ]
  },
  {
   "cell_type": "code",
   "execution_count": 8,
   "metadata": {},
   "outputs": [
    {
     "name": "stdout",
     "output_type": "stream",
     "text": [
      "True\n"
     ]
    }
   ],
   "source": [
    "train_dataset, val_dataset, test_dataset = None, None, None\n",
    "load_from_pickled = False\n",
    "\n",
    "if os.path.exists(os.path.join(os.curdir, \"data\", \"train.pickle\")):\n",
    "    load_from_pickled = True\n",
    "    with open(os.path.join(os.curdir, \"data\", \"train.pickle\"), \"rb\") as f:\n",
    "        train_dataset = pickle.load(f)\n",
    "    with open(os.path.join(os.curdir, \"data\", \"val.pickle\"), \"rb\") as f:\n",
    "        val_dataset = pickle.load(f)\n",
    "    with open(os.path.join(os.curdir, \"data\", \"test.pickle\"), \"rb\") as f:\n",
    "        test_dataset = pickle.load(f)\n",
    "else:\n",
    "    train_dataset = GenderDataset(train_docs)\n",
    "    val_dataset = GenderDataset(val_docs)\n",
    "    test_dataset = GenderDataset(test_docs)\n",
    "\n",
    "if not load_from_pickled:\n",
    "    with open(os.path.join(os.curdir, \"data\", \"train.pickle\"), \"wb\") as f:\n",
    "        pickle.dump(train_dataset, f)\n",
    "    with open(os.path.join(os.curdir, \"data\", \"val.pickle\"), \"wb\") as f:\n",
    "        pickle.dump(val_dataset, f)\n",
    "    with open(os.path.join(os.curdir, \"data\", \"test.pickle\"), \"wb\") as f:\n",
    "        pickle.dump(test_dataset, f)\n",
    "\n",
    "print(load_from_pickled)   "
   ]
  },
  {
   "cell_type": "code",
   "execution_count": 9,
   "metadata": {},
   "outputs": [],
   "source": [
    "train_dataloader = DataLoader(\n",
    "    train_dataset,\n",
    "    batch_size=batch_size,\n",
    "    shuffle=True,\n",
    "    num_workers=8,\n",
    "    collate_fn=gender_data_collate_fn\n",
    ")\n",
    "val_dataloader = DataLoader(\n",
    "    val_dataset,\n",
    "    batch_size=batch_size,\n",
    "    shuffle=True,\n",
    "    num_workers=8,\n",
    "    collate_fn=gender_data_collate_fn\n",
    ")\n",
    "test_dataloader = DataLoader(\n",
    "    test_dataset,\n",
    "    batch_size=batch_size,\n",
    "    shuffle=True,\n",
    "    num_workers=8,\n",
    "    collate_fn=gender_data_collate_fn\n",
    ")"
   ]
  },
  {
   "cell_type": "code",
   "execution_count": 10,
   "metadata": {},
   "outputs": [
    {
     "data": {
      "text/plain": [
       "(0,\n",
       " (tensor([[ 2002,  2427,  3827,  ..., 12673,  4823,  2002],\n",
       "          [ 2009,  2030,  2175,  ...,  2021,  9381,  7169],\n",
       "          [ 2232,  1049,  1009,  ...,  7230,  2021, 27137],\n",
       "          ...,\n",
       "          [ 1049,  2035,  6870,  ...,  1015,  1015,  1015],\n",
       "          [ 1049,  1009,  2314,  ...,  1016,  2047,  1049],\n",
       "          [ 1049,  1009,  1053,  ...,  1049,  5227,  2000]], dtype=torch.int32),\n",
       "  tensor([128, 128, 128, 128, 128, 128, 128, 128, 128, 128, 128, 128, 128, 128,\n",
       "          128, 128, 128, 128, 128, 128, 128, 128, 128, 128, 128, 128, 128, 128,\n",
       "          128, 128, 128, 128], dtype=torch.int32),\n",
       "  tensor([0, 0, 0, 0, 1, 0, 0, 1, 1, 0, 1, 0, 1, 0, 0, 0, 1, 0, 0, 1, 0, 1, 1, 1,\n",
       "          0, 0, 0, 0, 0, 1, 0, 0])))"
      ]
     },
     "execution_count": 10,
     "metadata": {},
     "output_type": "execute_result"
    }
   ],
   "source": [
    "next(enumerate(test_dataloader))"
   ]
  },
  {
   "cell_type": "code",
   "execution_count": 11,
   "metadata": {},
   "outputs": [],
   "source": [
    "encoder_model = EncoderT5(\n",
    "    vocab_size=load_data.tokenizer.vocab_size\n",
    ").to(device)\n",
    "\n",
    "classifier_model = ClassifierBERT(\n",
    "    vocab_size=load_data.tokenizer.vocab_size\n",
    ").to(device)\n",
    "\n",
    "ppl_model = PerplexityGPT2(\n",
    "    vocab_size=load_data.tokenizer.vocab_size,\n",
    "    bos_token_id=load_data.tokenizer.bos_token_id,\n",
    "    eos_token_id=load_data.tokenizer.eos_token_id,\n",
    ").to(device)\n",
    "\n",
    "st_model = SentenceTransformer('all-mpnet-base-v2')\n",
    "st_model[0].auto_model=st_model[0].auto_model.to(device)"
   ]
  },
  {
   "cell_type": "code",
   "execution_count": 12,
   "metadata": {},
   "outputs": [
    {
     "data": {
      "text/plain": [
       "<All keys matched successfully>"
      ]
     },
     "execution_count": 12,
     "metadata": {},
     "output_type": "execute_result"
    }
   ],
   "source": [
    "classifier_model.load_state_dict(torch.load('./save/cls_model_271_128_epoch_0.file'))\n",
    "ppl_model.load_state_dict(torch.load('./save/ppl_model_223_128_epoch_1.file'))"
   ]
  },
  {
   "cell_type": "code",
   "execution_count": 13,
   "metadata": {},
   "outputs": [],
   "source": [
    "optimizer = optim.AdamW(encoder_model.parameters(), lr=lr, weight_decay=wd)"
   ]
  },
  {
   "cell_type": "code",
   "execution_count": 14,
   "metadata": {},
   "outputs": [],
   "source": [
    "criterion_similarity = nn.MSELoss()\n",
    "criterion_classification = nn.CrossEntropyLoss()\n",
    "criterion_perplexity = nn.CrossEntropyLoss() # Placeholder"
   ]
  },
  {
   "cell_type": "code",
   "execution_count": 15,
   "metadata": {},
   "outputs": [],
   "source": [
    "def train(train_dataloader, val_dataloader, models, criterions, optimizer, num_epoch):\n",
    "    \n",
    "    train_id = random.randint(0, 1000)\n",
    "    log = open(f'./save/enc_{train_id}.txt', 'w')\n",
    "    models['st'].eval()\n",
    "    models['ppl'].eval()\n",
    "    models['cls'].eval()\n",
    "\n",
    "    for epoch in range(num_epoch):\n",
    "        \n",
    "        print(f\"Epoch {epoch}, total {len(train_dataloader)} batches\\n\")\n",
    "        log.write(f\"Epoch {epoch}, total {len(train_dataloader)} batches\\n\")\n",
    "        log.flush()\n",
    "\n",
    "        models['enc'].train()\n",
    "\n",
    "        for batch, (src_ids, src_len, tgt) in enumerate(train_dataloader):\n",
    "\n",
    "            torch.cuda.empty_cache()\n",
    "            optimizer.zero_grad()\n",
    "            src_ids = src_ids.to(device)\n",
    "            tgt = torch.full((batch_size, 2), 0.5).to(device)\n",
    "\n",
    "            # Calculate the obfuscated logits via the encoder & softmax\n",
    "            obf_logits = models['enc'](src_ids)\n",
    "            obf_logits = nn.functional.softmax(obf_logits, dim=-1)\n",
    "            \n",
    "            # Calculate similarity loss\n",
    "            result = encode_for_similarities(models['st'], device, src_ids, obf_logits)\n",
    "            loss_sim = torch.tensor(1.0) - torch.mean(result)\n",
    "\n",
    "            # Calculate gender classification loss aiming for 50/50\n",
    "            gender_logits = models['cls'](obf_logits)\n",
    "            loss_cls = criterions['cls'](gender_logits, tgt)\n",
    "            \n",
    "            # Calculate perplexity loss\n",
    "            ppl_logits = models['ppl'](obf_logits)\n",
    "            shift_ppl = ppl_logits[..., :-1, :].contiguous()\n",
    "            shift_obf = obf_logits[..., 1:, :].contiguous()\n",
    "            loss_ppl = criterions['ppl'](shift_ppl.view(-1, shift_ppl.size(-1)), shift_obf.view(-1, shift_obf.size(-1)))\n",
    "\n",
    "            loss = loss_sim * 25 + loss_cls * 25 + loss_ppl * 1\n",
    "            loss.backward()\n",
    "            optimizer.step()\n",
    "            torch.cuda.empty_cache()\n",
    "            \n",
    "            if batch % print_every == 0:\n",
    "                print(f\"Epoch Step: {batch} Sim Loss: {loss_sim} Class Loss: {loss_cls} PPL Loss: {loss_ppl}\")\n",
    "                log.write(f\"Epoch Step: {batch} Sim Loss: {loss_sim} Class Loss: {loss_cls} PPL Loss: {loss_ppl}\\n\")\n",
    "\n",
    "                torch.save(models['enc'].state_dict(), f'./save/enc_model_{train_id}_{batch_size}_epoch_{epoch}.file')\n",
    "\n",
    "            if batch % (print_every * 5) == 0:\n",
    "                print(f\"\\nBegin Evaluation\")\n",
    "                models['enc'].eval()\n",
    "                total_acc = 0\n",
    "                total_ppl = 0\n",
    "                total_sim = 0\n",
    "                limit=len(val_dataloader)\n",
    "                if limit>100: \n",
    "                    limit=100\n",
    "                with torch.no_grad():\n",
    "                    for batch, (src_ids, src_len, tgt) in tqdm(enumerate(val_dataloader),total=limit):\n",
    "                        src_ids = src_ids.to(device)\n",
    "                        tgt = tgt.to(device)\n",
    "\n",
    "                        obf_logits = models['enc'](src_ids)\n",
    "                        obf_logits = nn.functional.softmax(obf_logits, dim=-1)\n",
    "                        \n",
    "                        result = encode_for_similarities(models['st'], device, src_ids, obf_logits)\n",
    "                        gender_logits = models['cls'](obf_logits)\n",
    "\n",
    "                        ppl_logits = models['ppl'](obf_logits)\n",
    "                        shift_ppl = ppl_logits[..., :-1, :].contiguous()\n",
    "                        shift_obf = obf_logits[..., 1:, :].contiguous()\n",
    "                        loss_ppl = criterions['ppl'](shift_ppl.view(-1, shift_ppl.size(-1)), shift_obf.view(-1, shift_obf.size(-1)))\n",
    "\n",
    "                        total_acc += (gender_logits.argmax(1) == tgt).sum().item()\n",
    "                        total_ppl += loss_ppl\n",
    "                        total_sim += torch.mean(result)\n",
    "\n",
    "                        if batch >= limit:\n",
    "                            break\n",
    "\n",
    "                acc = total_acc / limit / batch_size\n",
    "                ppl = math.exp(total_ppl / limit)\n",
    "                sim = total_sim / limit\n",
    "\n",
    "                print(f\"Validation Accuracy: {acc}\\nValidation Perplexity: {ppl}\\nValidation Semantic Similarity: {sim}\\n\")\n",
    "                log.write(f\"Validation Accuracy: {acc}\\nValidation Perplexity: {ppl}\\nValidation Semantic Similarity: {sim}\\n\")\n",
    "                log.flush()\n"
   ]
  },
  {
   "cell_type": "code",
   "execution_count": null,
   "metadata": {
    "scrolled": true
   },
   "outputs": [
    {
     "name": "stdout",
     "output_type": "stream",
     "text": [
      "Epoch 0, total 14042 batches\n",
      "\n",
      "Epoch Step: 0 Sim Loss: 0.8519104719161987 Class Loss: 1.0731971263885498 PPL Loss: 15.138219833374023\n",
      "\n",
      "Begin Evaluation\n"
     ]
    },
    {
     "name": "stderr",
     "output_type": "stream",
     "text": [
      "100%|█████████████████████████████████████████████████████████████████████████████████| 100/100 [00:27<00:00,  3.64it/s]\n"
     ]
    },
    {
     "name": "stdout",
     "output_type": "stream",
     "text": [
      "Validation Accuracy: 0.4653125\n",
      "Validation Perplexity: 4227079.571668542\n",
      "Validation Semantic Similarity: 0.150627002120018\n",
      "\n"
     ]
    }
   ],
   "source": [
    "train(\n",
    "    train_dataloader,\n",
    "    val_dataloader,\n",
    "    {\n",
    "        'enc': encoder_model,\n",
    "        'cls': classifier_model,\n",
    "        'st': st_model,\n",
    "        'ppl': ppl_model,\n",
    "    },\n",
    "    {\n",
    "        'sim': criterion_similarity,\n",
    "        'cls': criterion_classification,\n",
    "        'ppl': criterion_perplexity,\n",
    "    },\n",
    "    optimizer,\n",
    "    num_epoch\n",
    ")"
   ]
  },
  {
   "cell_type": "code",
   "execution_count": null,
   "metadata": {},
   "outputs": [],
   "source": [
    "def test(test_dataloader, models, criterions):\n",
    "    \n",
    "    models['st'].eval()\n",
    "    models['ppl'].eval()\n",
    "    models['cls'].eval()\n",
    "    models['enc'].eval()\n",
    "    \n",
    "    print(f\"\\nBegin Testing\")\n",
    "    total_acc = 0\n",
    "    total_ppl = 0\n",
    "    total_sim = 0\n",
    "    limit=len(test_dataloader)\n",
    "    if limit>100: \n",
    "        limit=100\n",
    "    with torch.no_grad():\n",
    "        for batch, (src_ids, src_len, tgt) in tqdm(enumerate(test_dataloader),total=limit):\n",
    "            src_ids = src_ids.to(device)\n",
    "            tgt = tgt.to(device)\n",
    "\n",
    "            obf_logits = models['enc'](src_ids)\n",
    "            obf_logits = nn.functional.softmax(obf_logits, dim=-1)\n",
    "\n",
    "            result = encode_for_similarities(models['st'], device, src_ids, obf_logits)\n",
    "            gender_logits = models['cls'](obf_logits)\n",
    "\n",
    "            ppl_logits = models['ppl'](obf_logits)\n",
    "            shift_ppl = ppl_logits[..., :-1, :].contiguous()\n",
    "            shift_obf = obf_logits[..., 1:, :].contiguous()\n",
    "            loss_ppl = criterions['ppl'](shift_ppl.view(-1, shift_ppl.size(-1)), shift_obf.view(-1, shift_obf.size(-1)))\n",
    "\n",
    "            print(test_dataset.idx2str(src_ids[0].cpu().detach()))\n",
    "            print(test_dataset.idx2str(obf_logits[0].argmax(-1).cpu().detach()))\n",
    "\n",
    "            total_acc += (gender_logits.argmax(1) == tgt).sum().item()\n",
    "            total_ppl += loss_ppl\n",
    "            total_sim += torch.mean(result)\n",
    "\n",
    "            if batch >= limit:\n",
    "                break\n",
    "\n",
    "    acc = total_acc / limit / batch_size\n",
    "    ppl = math.exp(total_ppl / limit)\n",
    "    sim = total_sim / limit\n",
    "\n",
    "    print(f\"Test Accuracy: {acc}\\nTest Perplexity: {ppl}\\nTest Semantic Similarity: {sim}\\n\")"
   ]
  },
  {
   "cell_type": "code",
   "execution_count": null,
   "metadata": {},
   "outputs": [],
   "source": [
    "test(\n",
    "    test_dataloader,\n",
    "    {\n",
    "        'enc': encoder_model,\n",
    "        'cls': classifier_model,\n",
    "        'st': st_model,\n",
    "        'ppl': ppl_model,\n",
    "    },\n",
    "    {\n",
    "        'sim': criterion_similarity,\n",
    "        'cls': criterion_classification,\n",
    "        'ppl': criterion_perplexity,\n",
    "    }\n",
    ")"
   ]
  }
 ],
 "metadata": {
  "kernelspec": {
   "display_name": "Python 3 (ipykernel)",
   "language": "python",
   "name": "python3"
  },
  "language_info": {
   "codemirror_mode": {
    "name": "ipython",
    "version": 3
   },
   "file_extension": ".py",
   "mimetype": "text/x-python",
   "name": "python",
   "nbconvert_exporter": "python",
   "pygments_lexer": "ipython3",
   "version": "3.8.15"
  },
  "vscode": {
   "interpreter": {
    "hash": "1ecdeeea834996ab17c476b9c82385c086ccb21d059ebd3afa1913627f92baf1"
   }
  }
 },
 "nbformat": 4,
 "nbformat_minor": 2
}
