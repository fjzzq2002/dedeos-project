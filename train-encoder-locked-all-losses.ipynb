{
 "cells": [
  {
   "cell_type": "code",
   "execution_count": 1,
   "metadata": {},
   "outputs": [],
   "source": [
    "%load_ext autoreload\n",
    "%autoreload 2"
   ]
  },
  {
   "cell_type": "code",
   "execution_count": 2,
   "metadata": {},
   "outputs": [],
   "source": [
    "import os\n",
    "import json\n",
    "import torch\n",
    "import pickle\n",
    "import random\n",
    "import math\n",
    "from tqdm import tqdm\n",
    "from torch import nn, optim\n",
    "from torch.utils.data import DataLoader\n",
    "from sentence_transformers import SentenceTransformer, util\n",
    "\n",
    "import load_data\n",
    "from load_data import GenderDataset, gender_data_collate_fn\n",
    "from models.encoder_t5 import EncoderT5\n",
    "from models.classifier_bert import ClassifierBERT\n",
    "from models.perplexity_gpt import PerplexityGPT2\n",
    "from models.similarity_sent_enc import encode_for_similarities"
   ]
  },
  {
   "cell_type": "code",
   "execution_count": 3,
   "metadata": {},
   "outputs": [
    {
     "name": "stdout",
     "output_type": "stream",
     "text": [
      "cuda:3\n"
     ]
    }
   ],
   "source": [
    "device = torch.device('cpu')\n",
    "if torch.cuda.is_available():\n",
    "    device = torch.device('cuda:3')\n",
    "\n",
    "print(device)"
   ]
  },
  {
   "cell_type": "code",
   "execution_count": 4,
   "metadata": {},
   "outputs": [],
   "source": [
    "# Hyper parameters\n",
    "num_epoch = 100\n",
    "batch_size = 32\n",
    "lr = 1e-4\n",
    "wd = 5e-6\n",
    "print_every = 200"
   ]
  },
  {
   "cell_type": "code",
   "execution_count": 5,
   "metadata": {},
   "outputs": [],
   "source": [
    "with open(os.path.join(os.curdir, \"data\", \"blog.json\"), \"r\") as file:\n",
    "    json_data = json.load(file)\n",
    "docs = json_data['docs'][1:] # I don't want to see the first document"
   ]
  },
  {
   "cell_type": "code",
   "execution_count": 6,
   "metadata": {},
   "outputs": [
    {
     "name": "stdout",
     "output_type": "stream",
     "text": [
      "13773 2951 2952\n"
     ]
    }
   ],
   "source": [
    "num_docs = len(docs)\n",
    "num_train_docs = int(num_docs * 0.7)\n",
    "num_val_docs = int(num_docs * 0.15)\n",
    "num_test_docs = num_docs - num_train_docs - num_val_docs\n",
    "print(num_train_docs, num_val_docs, num_test_docs)"
   ]
  },
  {
   "cell_type": "code",
   "execution_count": 7,
   "metadata": {},
   "outputs": [],
   "source": [
    "train_docs = docs[:num_train_docs]\n",
    "val_docs = docs[num_train_docs:num_train_docs+num_val_docs]\n",
    "test_docs = docs[num_train_docs+num_val_docs:]"
   ]
  },
  {
   "cell_type": "code",
   "execution_count": 8,
   "metadata": {},
   "outputs": [
    {
     "name": "stdout",
     "output_type": "stream",
     "text": [
      "True\n"
     ]
    }
   ],
   "source": [
    "train_dataset, val_dataset, test_dataset = None, None, None\n",
    "load_from_pickled = False\n",
    "\n",
    "if os.path.exists(os.path.join(os.curdir, \"data\", \"train.pickle\")):\n",
    "    load_from_pickled = True\n",
    "    with open(os.path.join(os.curdir, \"data\", \"train.pickle\"), \"rb\") as f:\n",
    "        train_dataset = pickle.load(f)\n",
    "    with open(os.path.join(os.curdir, \"data\", \"val.pickle\"), \"rb\") as f:\n",
    "        val_dataset = pickle.load(f)\n",
    "    with open(os.path.join(os.curdir, \"data\", \"test.pickle\"), \"rb\") as f:\n",
    "        test_dataset = pickle.load(f)\n",
    "else:\n",
    "    train_dataset = GenderDataset(train_docs)\n",
    "    val_dataset = GenderDataset(val_docs)\n",
    "    test_dataset = GenderDataset(test_docs)\n",
    "\n",
    "if not load_from_pickled:\n",
    "    with open(os.path.join(os.curdir, \"data\", \"train.pickle\"), \"wb\") as f:\n",
    "        pickle.dump(train_dataset, f)\n",
    "    with open(os.path.join(os.curdir, \"data\", \"val.pickle\"), \"wb\") as f:\n",
    "        pickle.dump(val_dataset, f)\n",
    "    with open(os.path.join(os.curdir, \"data\", \"test.pickle\"), \"wb\") as f:\n",
    "        pickle.dump(test_dataset, f)\n",
    "\n",
    "print(load_from_pickled)   "
   ]
  },
  {
   "cell_type": "code",
   "execution_count": 9,
   "metadata": {},
   "outputs": [],
   "source": [
    "train_dataloader = DataLoader(\n",
    "    train_dataset,\n",
    "    batch_size=batch_size,\n",
    "    shuffle=True,\n",
    "    num_workers=8,\n",
    "    collate_fn=gender_data_collate_fn\n",
    ")\n",
    "val_dataloader = DataLoader(\n",
    "    val_dataset,\n",
    "    batch_size=batch_size,\n",
    "    shuffle=True,\n",
    "    num_workers=8,\n",
    "    collate_fn=gender_data_collate_fn\n",
    ")\n",
    "test_dataloader = DataLoader(\n",
    "    test_dataset,\n",
    "    batch_size=batch_size,\n",
    "    shuffle=True,\n",
    "    num_workers=8,\n",
    "    collate_fn=gender_data_collate_fn\n",
    ")"
   ]
  },
  {
   "cell_type": "code",
   "execution_count": 10,
   "metadata": {},
   "outputs": [
    {
     "data": {
      "text/plain": [
       "(0,\n",
       " (tensor([[ 2982,  2001,  1041,  ..., 27162,  1015, 25273],\n",
       "          [ 2295,  2012,  2007,  ...,  3475,  2045,  2049],\n",
       "          [ 2011,  1016,  1015,  ...,  1049,  2576,  2009],\n",
       "          ...,\n",
       "          [ 1009,  1059,  2810,  ...,  1016,  1016,  1016],\n",
       "          [ 5865,  1016,  6164,  ...,  1016,  2148,  2073],\n",
       "          [ 2432,  4388,  2133,  ...,  2189,  1016,  2065]], dtype=torch.int32),\n",
       "  tensor([128, 128, 128, 128, 128, 128, 128, 128, 128, 128, 128, 128, 128, 128,\n",
       "          128, 128, 128, 128, 128, 128, 128, 128, 128, 128, 128, 128, 128, 128,\n",
       "          128, 128, 128, 128], dtype=torch.int32),\n",
       "  tensor([0, 1, 0, 1, 0, 1, 1, 0, 0, 1, 0, 0, 1, 0, 1, 0, 1, 0, 0, 0, 0, 0, 1, 1,\n",
       "          0, 1, 0, 0, 1, 1, 1, 1])))"
      ]
     },
     "execution_count": 10,
     "metadata": {},
     "output_type": "execute_result"
    }
   ],
   "source": [
    "next(enumerate(test_dataloader))"
   ]
  },
  {
   "cell_type": "code",
   "execution_count": 11,
   "metadata": {},
   "outputs": [],
   "source": [
    "encoder_model = EncoderT5(\n",
    "    vocab_size=load_data.tokenizer.vocab_size\n",
    ").to(device)\n",
    "\n",
    "classifier_model = ClassifierBERT(\n",
    "    vocab_size=load_data.tokenizer.vocab_size\n",
    ").to(device)\n",
    "\n",
    "ppl_model = PerplexityGPT2(\n",
    "    vocab_size=load_data.tokenizer.vocab_size,\n",
    "    bos_token_id=load_data.tokenizer.bos_token_id,\n",
    "    eos_token_id=load_data.tokenizer.eos_token_id,\n",
    ").to(device)\n",
    "\n",
    "st_model = SentenceTransformer('all-mpnet-base-v2')\n",
    "st_model[0].auto_model=st_model[0].auto_model.to(device)"
   ]
  },
  {
   "cell_type": "code",
   "execution_count": 12,
   "metadata": {},
   "outputs": [
    {
     "data": {
      "text/plain": [
       "<All keys matched successfully>"
      ]
     },
     "execution_count": 12,
     "metadata": {},
     "output_type": "execute_result"
    }
   ],
   "source": [
    "classifier_model.load_state_dict(torch.load('./save/cls_model_271_128_epoch_0.file'))\n",
    "ppl_model.load_state_dict(torch.load('./save/ppl_model_22_48_epoch_0.file'))\n",
    "encoder_model.load_state_dict(torch.load('./save/enc_model_446_32_epoch_0.file'))"
   ]
  },
  {
   "cell_type": "code",
   "execution_count": 13,
   "metadata": {},
   "outputs": [],
   "source": [
    "optimizer = optim.AdamW(encoder_model.parameters(), lr=lr, weight_decay=wd)"
   ]
  },
  {
   "cell_type": "code",
   "execution_count": 14,
   "metadata": {},
   "outputs": [],
   "source": [
    "criterion_similarity = nn.MSELoss()\n",
    "criterion_classification = nn.CrossEntropyLoss()\n",
    "criterion_perplexity = nn.CrossEntropyLoss() # Placeholder"
   ]
  },
  {
   "cell_type": "code",
   "execution_count": 15,
   "metadata": {},
   "outputs": [],
   "source": [
    "def train(train_dataloader, val_dataloader, models, criterions, optimizer, num_epoch):\n",
    "    \n",
    "    train_id = random.randint(0, 1000)\n",
    "    log = open(f'./save/enc_{train_id}.txt', 'w')\n",
    "    models['st'].eval()\n",
    "    models['ppl'].eval()\n",
    "    models['cls'].eval()\n",
    "\n",
    "    for epoch in range(num_epoch):\n",
    "        \n",
    "        print(f\"Epoch {epoch}, total {len(train_dataloader)} batches\\n\")\n",
    "        log.write(f\"Epoch {epoch}, total {len(train_dataloader)} batches\\n\")\n",
    "        log.flush()\n",
    "\n",
    "        models['enc'].train()\n",
    "\n",
    "        for batch, (src_ids, src_len, tgt) in enumerate(train_dataloader):\n",
    "\n",
    "            torch.cuda.empty_cache()\n",
    "            optimizer.zero_grad()\n",
    "            src_ids = src_ids.to(device)\n",
    "            tgt = torch.full((batch_size, 2), 0.5).to(device)\n",
    "\n",
    "            # Calculate the obfuscated logits via the encoder & softmax\n",
    "            obf_logits = models['enc'](src_ids)\n",
    "            obf_logits = nn.functional.softmax(obf_logits, dim=-1)\n",
    "            \n",
    "            # Calculate similarity loss\n",
    "            result = encode_for_similarities(models['st'], device, src_ids, obf_logits)\n",
    "            loss_sim = torch.mean(result)\n",
    "\n",
    "            # Calculate gender classification loss aiming for 50/50\n",
    "            gender_logits = models['cls'](obf_logits)\n",
    "            loss_cls = criterions['cls'](gender_logits, tgt)\n",
    "            \n",
    "            # Calculate perplexity loss\n",
    "            ppl_logits = models['ppl'](obf_logits)\n",
    "            shift_ppl = ppl_logits[..., :-1, :].contiguous()\n",
    "            shift_obf = obf_logits[..., 1:, :].contiguous()\n",
    "            loss_ppl = criterions['ppl'](shift_ppl.view(-1, shift_ppl.size(-1)), shift_obf.view(-1, shift_obf.size(-1)))\n",
    "\n",
    "            loss = loss_sim * 1 + loss_cls * 1 + loss_ppl * 1\n",
    "            loss.backward()\n",
    "            optimizer.step()\n",
    "            torch.cuda.empty_cache()\n",
    "            \n",
    "            if batch % print_every == 0:\n",
    "                print(f\"Epoch Step: {batch} Sim Loss: {loss_sim} Class Loss: {loss_cls} PPL Loss: {loss_ppl}\")\n",
    "                log.write(f\"Epoch Step: {batch} Sim Loss: {loss_sim} Class Loss: {loss_cls} PPL Loss: {loss_ppl}\\n\")\n",
    "\n",
    "                torch.save(models['enc'].state_dict(), f'./save/enc_model_{train_id}_{batch_size}_epoch_{epoch}.file')\n",
    "\n",
    "            if batch % (print_every * 5) == 0:\n",
    "                print(f\"\\nBegin Evaluation\")\n",
    "                models['enc'].eval()\n",
    "                total_acc = 0\n",
    "                total_ppl = 0\n",
    "                total_sim = 0\n",
    "                limit=len(val_dataloader)\n",
    "                if limit>100: \n",
    "                    limit=100\n",
    "                with torch.no_grad():\n",
    "                    for batch, (src_ids, src_len, tgt) in tqdm(enumerate(val_dataloader),total=limit):\n",
    "                        src_ids = src_ids.to(device)\n",
    "                        tgt = tgt.to(device)\n",
    "\n",
    "                        obf_logits = models['enc'](src_ids)\n",
    "                        obf_logits = nn.functional.softmax(obf_logits, dim=-1)\n",
    "                        \n",
    "                        result = encode_for_similarities(models['st'], device, src_ids, obf_logits)\n",
    "                        gender_logits = models['cls'](obf_logits)\n",
    "\n",
    "                        ppl_logits = models['ppl'](obf_logits)\n",
    "                        shift_ppl = ppl_logits[..., :-1, :].contiguous()\n",
    "                        shift_obf = obf_logits[..., 1:, :].contiguous()\n",
    "                        loss_ppl = criterions['ppl'](shift_ppl.view(-1, shift_ppl.size(-1)), shift_obf.view(-1, shift_obf.size(-1)))\n",
    "\n",
    "                        total_acc += (gender_logits.argmax(1) == tgt).sum().item()\n",
    "                        total_ppl += loss_ppl\n",
    "                        total_sim += torch.mean(result)\n",
    "\n",
    "                        if batch >= limit:\n",
    "                            break\n",
    "\n",
    "                acc = total_acc / limit / batch_size\n",
    "                ppl = math.exp(total_ppl / limit)\n",
    "                sim = total_sim / limit\n",
    "\n",
    "                print(f\"Validation Accuracy: {acc}\\nValidation Perplexity: {ppl}\\nValidation Semantic Similarity: {sim}\\n\")\n",
    "                log.write(f\"Validation Accuracy: {acc}\\nValidation Perplexity: {ppl}\\nValidation Semantic Similarity: {sim}\\n\")\n",
    "                log.flush()\n"
   ]
  },
  {
   "cell_type": "code",
   "execution_count": 16,
   "metadata": {
    "scrolled": true
   },
   "outputs": [
    {
     "name": "stdout",
     "output_type": "stream",
     "text": [
      "Epoch 0, total 14042 batches\n",
      "\n",
      "Epoch Step: 0 Sim Loss: 0.12704554200172424 Class Loss: 1.0748761892318726 PPL Loss: 13.925819396972656\n",
      "\n",
      "Begin Evaluation\n"
     ]
    },
    {
     "name": "stderr",
     "output_type": "stream",
     "text": [
      "100%|█████████████████████████████████████████████████████████████████████████████████| 100/100 [00:27<00:00,  3.66it/s]\n"
     ]
    },
    {
     "name": "stdout",
     "output_type": "stream",
     "text": [
      "Validation Accuracy: 0.464375\n",
      "Validation Perplexity: 1247680.230880522\n",
      "Validation Semantic Similarity: 0.14945170283317566\n",
      "\n",
      "Epoch Step: 200 Sim Loss: 0.1560504138469696 Class Loss: 1.0966813564300537 PPL Loss: 1.097570538520813\n",
      "Epoch Step: 400 Sim Loss: 0.1293465942144394 Class Loss: 1.0966875553131104 PPL Loss: 1.0800613164901733\n",
      "Epoch Step: 600 Sim Loss: 0.12916304171085358 Class Loss: 1.0966894626617432 PPL Loss: 1.0754337310791016\n",
      "Epoch Step: 800 Sim Loss: 0.17027804255485535 Class Loss: 1.0966899394989014 PPL Loss: 1.0734853744506836\n",
      "Epoch Step: 1000 Sim Loss: 0.1322239190340042 Class Loss: 1.0966904163360596 PPL Loss: 1.0724605321884155\n",
      "\n",
      "Begin Evaluation\n"
     ]
    },
    {
     "name": "stderr",
     "output_type": "stream",
     "text": [
      "100%|█████████████████████████████████████████████████████████████████████████████████| 100/100 [00:27<00:00,  3.60it/s]\n"
     ]
    },
    {
     "name": "stdout",
     "output_type": "stream",
     "text": [
      "Validation Accuracy: 0.4453125\n",
      "Validation Perplexity: 2.9806030750509156\n",
      "Validation Semantic Similarity: 0.1513628214597702\n",
      "\n",
      "Epoch Step: 1200 Sim Loss: 0.15337933599948883 Class Loss: 1.0966906547546387 PPL Loss: 1.0718597173690796\n",
      "Epoch Step: 1400 Sim Loss: 0.1428951472043991 Class Loss: 1.0966906547546387 PPL Loss: 1.0714712142944336\n",
      "Epoch Step: 1600 Sim Loss: 0.15310955047607422 Class Loss: 1.0966906547546387 PPL Loss: 1.0711771249771118\n",
      "Epoch Step: 1800 Sim Loss: 0.14789095520973206 Class Loss: 1.0966908931732178 PPL Loss: 1.0709811449050903\n",
      "Epoch Step: 2000 Sim Loss: 0.1506918966770172 Class Loss: 1.0966908931732178 PPL Loss: 1.0708472728729248\n",
      "\n",
      "Begin Evaluation\n"
     ]
    },
    {
     "name": "stderr",
     "output_type": "stream",
     "text": [
      "100%|█████████████████████████████████████████████████████████████████████████████████| 100/100 [00:27<00:00,  3.61it/s]\n"
     ]
    },
    {
     "name": "stdout",
     "output_type": "stream",
     "text": [
      "Validation Accuracy: 0.463125\n",
      "Validation Perplexity: 2.9492642254590473\n",
      "Validation Semantic Similarity: 0.15033820271492004\n",
      "\n",
      "Epoch Step: 2200 Sim Loss: 0.14968708157539368 Class Loss: 1.0966908931732178 PPL Loss: 1.070746898651123\n",
      "Epoch Step: 2400 Sim Loss: 0.1544143259525299 Class Loss: 1.0966908931732178 PPL Loss: 1.07066810131073\n",
      "Epoch Step: 2600 Sim Loss: 0.1466636061668396 Class Loss: 1.0966908931732178 PPL Loss: 1.070604920387268\n",
      "Epoch Step: 2800 Sim Loss: 0.15402238070964813 Class Loss: 1.0966908931732178 PPL Loss: 1.070553183555603\n",
      "Epoch Step: 3000 Sim Loss: 0.15154366195201874 Class Loss: 1.0966908931732178 PPL Loss: 1.0705106258392334\n",
      "\n",
      "Begin Evaluation\n"
     ]
    },
    {
     "name": "stderr",
     "output_type": "stream",
     "text": [
      "100%|█████████████████████████████████████████████████████████████████████████████████| 100/100 [00:28<00:00,  3.53it/s]\n"
     ]
    },
    {
     "name": "stdout",
     "output_type": "stream",
     "text": [
      "Validation Accuracy: 0.470625\n",
      "Validation Perplexity: 2.948263096448641\n",
      "Validation Semantic Similarity: 0.14886507391929626\n",
      "\n",
      "Epoch Step: 3200 Sim Loss: 0.1524876207113266 Class Loss: 1.0966908931732178 PPL Loss: 1.070475459098816\n",
      "Epoch Step: 3400 Sim Loss: 0.16468071937561035 Class Loss: 1.0966908931732178 PPL Loss: 1.0704458951950073\n",
      "Epoch Step: 3600 Sim Loss: 0.1172708123922348 Class Loss: 1.0966908931732178 PPL Loss: 1.0704208612442017\n",
      "Epoch Step: 3800 Sim Loss: 0.1568916141986847 Class Loss: 1.0966908931732178 PPL Loss: 1.0703999996185303\n",
      "Epoch Step: 4000 Sim Loss: 0.14527183771133423 Class Loss: 1.0966908931732178 PPL Loss: 1.0703812837600708\n",
      "\n",
      "Begin Evaluation\n"
     ]
    },
    {
     "name": "stderr",
     "output_type": "stream",
     "text": [
      "100%|█████████████████████████████████████████████████████████████████████████████████| 100/100 [00:27<00:00,  3.62it/s]\n"
     ]
    },
    {
     "name": "stdout",
     "output_type": "stream",
     "text": [
      "Validation Accuracy: 0.4534375\n",
      "Validation Perplexity: 2.9478765154113726\n",
      "Validation Semantic Similarity: 0.15027976036071777\n",
      "\n",
      "Epoch Step: 4200 Sim Loss: 0.14065518975257874 Class Loss: 1.0966908931732178 PPL Loss: 1.07036554813385\n",
      "Epoch Step: 4400 Sim Loss: 0.1524907648563385 Class Loss: 1.0966908931732178 PPL Loss: 1.070352554321289\n",
      "Epoch Step: 4600 Sim Loss: 0.13481444120407104 Class Loss: 1.0966908931732178 PPL Loss: 1.0703411102294922\n",
      "Epoch Step: 4800 Sim Loss: 0.13990692794322968 Class Loss: 1.0966908931732178 PPL Loss: 1.0703309774398804\n",
      "Epoch Step: 5000 Sim Loss: 0.12830311059951782 Class Loss: 1.0966908931732178 PPL Loss: 1.0703216791152954\n",
      "\n",
      "Begin Evaluation\n"
     ]
    },
    {
     "name": "stderr",
     "output_type": "stream",
     "text": [
      "100%|█████████████████████████████████████████████████████████████████████████████████| 100/100 [00:27<00:00,  3.62it/s]\n"
     ]
    },
    {
     "name": "stdout",
     "output_type": "stream",
     "text": [
      "Validation Accuracy: 0.4578125\n",
      "Validation Perplexity: 2.9476958940128344\n",
      "Validation Semantic Similarity: 0.14980584383010864\n",
      "\n",
      "Epoch Step: 5200 Sim Loss: 0.15122868120670319 Class Loss: 1.0966908931732178 PPL Loss: 1.0703141689300537\n",
      "Epoch Step: 5400 Sim Loss: 0.15208274126052856 Class Loss: 1.0966908931732178 PPL Loss: 1.0703072547912598\n",
      "Epoch Step: 5600 Sim Loss: 0.15398938953876495 Class Loss: 1.0966908931732178 PPL Loss: 1.0703009366989136\n",
      "Epoch Step: 5800 Sim Loss: 0.1609862744808197 Class Loss: 1.0966908931732178 PPL Loss: 1.0703173875808716\n"
     ]
    },
    {
     "ename": "KeyboardInterrupt",
     "evalue": "",
     "output_type": "error",
     "traceback": [
      "\u001b[0;31m---------------------------------------------------------------------------\u001b[0m",
      "\u001b[0;31mKeyboardInterrupt\u001b[0m                         Traceback (most recent call last)",
      "Cell \u001b[0;32mIn [16], line 1\u001b[0m\n\u001b[0;32m----> 1\u001b[0m \u001b[43mtrain\u001b[49m\u001b[43m(\u001b[49m\n\u001b[1;32m      2\u001b[0m \u001b[43m    \u001b[49m\u001b[43mtrain_dataloader\u001b[49m\u001b[43m,\u001b[49m\n\u001b[1;32m      3\u001b[0m \u001b[43m    \u001b[49m\u001b[43mval_dataloader\u001b[49m\u001b[43m,\u001b[49m\n\u001b[1;32m      4\u001b[0m \u001b[43m    \u001b[49m\u001b[43m{\u001b[49m\n\u001b[1;32m      5\u001b[0m \u001b[43m        \u001b[49m\u001b[38;5;124;43m'\u001b[39;49m\u001b[38;5;124;43menc\u001b[39;49m\u001b[38;5;124;43m'\u001b[39;49m\u001b[43m:\u001b[49m\u001b[43m \u001b[49m\u001b[43mencoder_model\u001b[49m\u001b[43m,\u001b[49m\n\u001b[1;32m      6\u001b[0m \u001b[43m        \u001b[49m\u001b[38;5;124;43m'\u001b[39;49m\u001b[38;5;124;43mcls\u001b[39;49m\u001b[38;5;124;43m'\u001b[39;49m\u001b[43m:\u001b[49m\u001b[43m \u001b[49m\u001b[43mclassifier_model\u001b[49m\u001b[43m,\u001b[49m\n\u001b[1;32m      7\u001b[0m \u001b[43m        \u001b[49m\u001b[38;5;124;43m'\u001b[39;49m\u001b[38;5;124;43mst\u001b[39;49m\u001b[38;5;124;43m'\u001b[39;49m\u001b[43m:\u001b[49m\u001b[43m \u001b[49m\u001b[43mst_model\u001b[49m\u001b[43m,\u001b[49m\n\u001b[1;32m      8\u001b[0m \u001b[43m        \u001b[49m\u001b[38;5;124;43m'\u001b[39;49m\u001b[38;5;124;43mppl\u001b[39;49m\u001b[38;5;124;43m'\u001b[39;49m\u001b[43m:\u001b[49m\u001b[43m \u001b[49m\u001b[43mppl_model\u001b[49m\u001b[43m,\u001b[49m\n\u001b[1;32m      9\u001b[0m \u001b[43m    \u001b[49m\u001b[43m}\u001b[49m\u001b[43m,\u001b[49m\n\u001b[1;32m     10\u001b[0m \u001b[43m    \u001b[49m\u001b[43m{\u001b[49m\n\u001b[1;32m     11\u001b[0m \u001b[43m        \u001b[49m\u001b[38;5;124;43m'\u001b[39;49m\u001b[38;5;124;43msim\u001b[39;49m\u001b[38;5;124;43m'\u001b[39;49m\u001b[43m:\u001b[49m\u001b[43m \u001b[49m\u001b[43mcriterion_similarity\u001b[49m\u001b[43m,\u001b[49m\n\u001b[1;32m     12\u001b[0m \u001b[43m        \u001b[49m\u001b[38;5;124;43m'\u001b[39;49m\u001b[38;5;124;43mcls\u001b[39;49m\u001b[38;5;124;43m'\u001b[39;49m\u001b[43m:\u001b[49m\u001b[43m \u001b[49m\u001b[43mcriterion_classification\u001b[49m\u001b[43m,\u001b[49m\n\u001b[1;32m     13\u001b[0m \u001b[43m        \u001b[49m\u001b[38;5;124;43m'\u001b[39;49m\u001b[38;5;124;43mppl\u001b[39;49m\u001b[38;5;124;43m'\u001b[39;49m\u001b[43m:\u001b[49m\u001b[43m \u001b[49m\u001b[43mcriterion_perplexity\u001b[49m\u001b[43m,\u001b[49m\n\u001b[1;32m     14\u001b[0m \u001b[43m    \u001b[49m\u001b[43m}\u001b[49m\u001b[43m,\u001b[49m\n\u001b[1;32m     15\u001b[0m \u001b[43m    \u001b[49m\u001b[43moptimizer\u001b[49m\u001b[43m,\u001b[49m\n\u001b[1;32m     16\u001b[0m \u001b[43m    \u001b[49m\u001b[43mnum_epoch\u001b[49m\n\u001b[1;32m     17\u001b[0m \u001b[43m)\u001b[49m\n",
      "Cell \u001b[0;32mIn [15], line 37\u001b[0m, in \u001b[0;36mtrain\u001b[0;34m(train_dataloader, val_dataloader, models, criterions, optimizer, num_epoch)\u001b[0m\n\u001b[1;32m     34\u001b[0m loss_cls \u001b[38;5;241m=\u001b[39m criterions[\u001b[38;5;124m'\u001b[39m\u001b[38;5;124mcls\u001b[39m\u001b[38;5;124m'\u001b[39m](gender_logits, tgt)\n\u001b[1;32m     36\u001b[0m \u001b[38;5;66;03m# Calculate perplexity loss\u001b[39;00m\n\u001b[0;32m---> 37\u001b[0m ppl_logits \u001b[38;5;241m=\u001b[39m \u001b[43mmodels\u001b[49m\u001b[43m[\u001b[49m\u001b[38;5;124;43m'\u001b[39;49m\u001b[38;5;124;43mppl\u001b[39;49m\u001b[38;5;124;43m'\u001b[39;49m\u001b[43m]\u001b[49m\u001b[43m(\u001b[49m\u001b[43mobf_logits\u001b[49m\u001b[43m)\u001b[49m\n\u001b[1;32m     38\u001b[0m shift_ppl \u001b[38;5;241m=\u001b[39m ppl_logits[\u001b[38;5;241m.\u001b[39m\u001b[38;5;241m.\u001b[39m\u001b[38;5;241m.\u001b[39m, :\u001b[38;5;241m-\u001b[39m\u001b[38;5;241m1\u001b[39m, :]\u001b[38;5;241m.\u001b[39mcontiguous()\n\u001b[1;32m     39\u001b[0m shift_obf \u001b[38;5;241m=\u001b[39m obf_logits[\u001b[38;5;241m.\u001b[39m\u001b[38;5;241m.\u001b[39m\u001b[38;5;241m.\u001b[39m, \u001b[38;5;241m1\u001b[39m:, :]\u001b[38;5;241m.\u001b[39mcontiguous()\n",
      "File \u001b[0;32m/storage/haoxuanl/anaconda3/envs/nlp/lib/python3.8/site-packages/torch/nn/modules/module.py:1190\u001b[0m, in \u001b[0;36mModule._call_impl\u001b[0;34m(self, *input, **kwargs)\u001b[0m\n\u001b[1;32m   1186\u001b[0m \u001b[38;5;66;03m# If we don't have any hooks, we want to skip the rest of the logic in\u001b[39;00m\n\u001b[1;32m   1187\u001b[0m \u001b[38;5;66;03m# this function, and just call forward.\u001b[39;00m\n\u001b[1;32m   1188\u001b[0m \u001b[38;5;28;01mif\u001b[39;00m \u001b[38;5;129;01mnot\u001b[39;00m (\u001b[38;5;28mself\u001b[39m\u001b[38;5;241m.\u001b[39m_backward_hooks \u001b[38;5;129;01mor\u001b[39;00m \u001b[38;5;28mself\u001b[39m\u001b[38;5;241m.\u001b[39m_forward_hooks \u001b[38;5;129;01mor\u001b[39;00m \u001b[38;5;28mself\u001b[39m\u001b[38;5;241m.\u001b[39m_forward_pre_hooks \u001b[38;5;129;01mor\u001b[39;00m _global_backward_hooks\n\u001b[1;32m   1189\u001b[0m         \u001b[38;5;129;01mor\u001b[39;00m _global_forward_hooks \u001b[38;5;129;01mor\u001b[39;00m _global_forward_pre_hooks):\n\u001b[0;32m-> 1190\u001b[0m     \u001b[38;5;28;01mreturn\u001b[39;00m \u001b[43mforward_call\u001b[49m\u001b[43m(\u001b[49m\u001b[38;5;241;43m*\u001b[39;49m\u001b[38;5;28;43minput\u001b[39;49m\u001b[43m,\u001b[49m\u001b[43m \u001b[49m\u001b[38;5;241;43m*\u001b[39;49m\u001b[38;5;241;43m*\u001b[39;49m\u001b[43mkwargs\u001b[49m\u001b[43m)\u001b[49m\n\u001b[1;32m   1191\u001b[0m \u001b[38;5;66;03m# Do not call functions when jit is used\u001b[39;00m\n\u001b[1;32m   1192\u001b[0m full_backward_hooks, non_full_backward_hooks \u001b[38;5;241m=\u001b[39m [], []\n",
      "File \u001b[0;32m/storage/haoxuanl/dedeos-project/models/perplexity_gpt.py:44\u001b[0m, in \u001b[0;36mPerplexityGPT2.forward\u001b[0;34m(self, src_logits)\u001b[0m\n\u001b[1;32m     39\u001b[0m \u001b[38;5;124;03m'''\u001b[39;00m\n\u001b[1;32m     40\u001b[0m \u001b[38;5;124;03mReturns the logits of the language model output, needs to cross entropy with\u001b[39;00m\n\u001b[1;32m     41\u001b[0m \u001b[38;5;124;03mthe original labels or the logits of labels to get perplexity\u001b[39;00m\n\u001b[1;32m     42\u001b[0m \u001b[38;5;124;03m'''\u001b[39;00m\n\u001b[1;32m     43\u001b[0m embeddings \u001b[38;5;241m=\u001b[39m \u001b[38;5;28mself\u001b[39m\u001b[38;5;241m.\u001b[39membeddings(src_logits)\n\u001b[0;32m---> 44\u001b[0m output \u001b[38;5;241m=\u001b[39m \u001b[38;5;28;43mself\u001b[39;49m\u001b[38;5;241;43m.\u001b[39;49m\u001b[43mGPT2\u001b[49m\u001b[43m(\u001b[49m\n\u001b[1;32m     45\u001b[0m \u001b[43m    \u001b[49m\u001b[43minputs_embeds\u001b[49m\u001b[38;5;241;43m=\u001b[39;49m\u001b[43membeddings\u001b[49m\u001b[43m,\u001b[49m\n\u001b[1;32m     46\u001b[0m \u001b[43m    \u001b[49m\u001b[43moutput_attentions\u001b[49m\u001b[38;5;241;43m=\u001b[39;49m\u001b[38;5;28;43;01mFalse\u001b[39;49;00m\u001b[43m,\u001b[49m\n\u001b[1;32m     47\u001b[0m \u001b[43m    \u001b[49m\u001b[43moutput_hidden_states\u001b[49m\u001b[38;5;241;43m=\u001b[39;49m\u001b[38;5;28;43;01mFalse\u001b[39;49;00m\u001b[43m,\u001b[49m\n\u001b[1;32m     48\u001b[0m \u001b[43m    \u001b[49m\u001b[43mreturn_dict\u001b[49m\u001b[38;5;241;43m=\u001b[39;49m\u001b[38;5;28;43;01mTrue\u001b[39;49;00m\n\u001b[1;32m     49\u001b[0m \u001b[43m\u001b[49m\u001b[43m)\u001b[49m\n\u001b[1;32m     50\u001b[0m \u001b[38;5;66;03m# return is before softmax\u001b[39;00m\n\u001b[1;32m     51\u001b[0m \u001b[38;5;28;01mreturn\u001b[39;00m output\u001b[38;5;241m.\u001b[39mlogits\n",
      "File \u001b[0;32m/storage/haoxuanl/anaconda3/envs/nlp/lib/python3.8/site-packages/torch/nn/modules/module.py:1190\u001b[0m, in \u001b[0;36mModule._call_impl\u001b[0;34m(self, *input, **kwargs)\u001b[0m\n\u001b[1;32m   1186\u001b[0m \u001b[38;5;66;03m# If we don't have any hooks, we want to skip the rest of the logic in\u001b[39;00m\n\u001b[1;32m   1187\u001b[0m \u001b[38;5;66;03m# this function, and just call forward.\u001b[39;00m\n\u001b[1;32m   1188\u001b[0m \u001b[38;5;28;01mif\u001b[39;00m \u001b[38;5;129;01mnot\u001b[39;00m (\u001b[38;5;28mself\u001b[39m\u001b[38;5;241m.\u001b[39m_backward_hooks \u001b[38;5;129;01mor\u001b[39;00m \u001b[38;5;28mself\u001b[39m\u001b[38;5;241m.\u001b[39m_forward_hooks \u001b[38;5;129;01mor\u001b[39;00m \u001b[38;5;28mself\u001b[39m\u001b[38;5;241m.\u001b[39m_forward_pre_hooks \u001b[38;5;129;01mor\u001b[39;00m _global_backward_hooks\n\u001b[1;32m   1189\u001b[0m         \u001b[38;5;129;01mor\u001b[39;00m _global_forward_hooks \u001b[38;5;129;01mor\u001b[39;00m _global_forward_pre_hooks):\n\u001b[0;32m-> 1190\u001b[0m     \u001b[38;5;28;01mreturn\u001b[39;00m \u001b[43mforward_call\u001b[49m\u001b[43m(\u001b[49m\u001b[38;5;241;43m*\u001b[39;49m\u001b[38;5;28;43minput\u001b[39;49m\u001b[43m,\u001b[49m\u001b[43m \u001b[49m\u001b[38;5;241;43m*\u001b[39;49m\u001b[38;5;241;43m*\u001b[39;49m\u001b[43mkwargs\u001b[49m\u001b[43m)\u001b[49m\n\u001b[1;32m   1191\u001b[0m \u001b[38;5;66;03m# Do not call functions when jit is used\u001b[39;00m\n\u001b[1;32m   1192\u001b[0m full_backward_hooks, non_full_backward_hooks \u001b[38;5;241m=\u001b[39m [], []\n",
      "File \u001b[0;32m/storage/haoxuanl/anaconda3/envs/nlp/lib/python3.8/site-packages/transformers/models/gpt2/modeling_gpt2.py:1046\u001b[0m, in \u001b[0;36mGPT2LMHeadModel.forward\u001b[0;34m(self, input_ids, past_key_values, attention_mask, token_type_ids, position_ids, head_mask, inputs_embeds, encoder_hidden_states, encoder_attention_mask, labels, use_cache, output_attentions, output_hidden_states, return_dict)\u001b[0m\n\u001b[1;32m   1038\u001b[0m \u001b[38;5;124mr\u001b[39m\u001b[38;5;124;03m\"\"\"\u001b[39;00m\n\u001b[1;32m   1039\u001b[0m \u001b[38;5;124;03mlabels (`torch.LongTensor` of shape `(batch_size, sequence_length)`, *optional*):\u001b[39;00m\n\u001b[1;32m   1040\u001b[0m \u001b[38;5;124;03m    Labels for language modeling. Note that the labels **are shifted** inside the model, i.e. you can set\u001b[39;00m\n\u001b[1;32m   1041\u001b[0m \u001b[38;5;124;03m    `labels = input_ids` Indices are selected in `[-100, 0, ..., config.vocab_size]` All labels set to `-100`\u001b[39;00m\n\u001b[1;32m   1042\u001b[0m \u001b[38;5;124;03m    are ignored (masked), the loss is only computed for labels in `[0, ..., config.vocab_size]`\u001b[39;00m\n\u001b[1;32m   1043\u001b[0m \u001b[38;5;124;03m\"\"\"\u001b[39;00m\n\u001b[1;32m   1044\u001b[0m return_dict \u001b[38;5;241m=\u001b[39m return_dict \u001b[38;5;28;01mif\u001b[39;00m return_dict \u001b[38;5;129;01mis\u001b[39;00m \u001b[38;5;129;01mnot\u001b[39;00m \u001b[38;5;28;01mNone\u001b[39;00m \u001b[38;5;28;01melse\u001b[39;00m \u001b[38;5;28mself\u001b[39m\u001b[38;5;241m.\u001b[39mconfig\u001b[38;5;241m.\u001b[39muse_return_dict\n\u001b[0;32m-> 1046\u001b[0m transformer_outputs \u001b[38;5;241m=\u001b[39m \u001b[38;5;28;43mself\u001b[39;49m\u001b[38;5;241;43m.\u001b[39;49m\u001b[43mtransformer\u001b[49m\u001b[43m(\u001b[49m\n\u001b[1;32m   1047\u001b[0m \u001b[43m    \u001b[49m\u001b[43minput_ids\u001b[49m\u001b[43m,\u001b[49m\n\u001b[1;32m   1048\u001b[0m \u001b[43m    \u001b[49m\u001b[43mpast_key_values\u001b[49m\u001b[38;5;241;43m=\u001b[39;49m\u001b[43mpast_key_values\u001b[49m\u001b[43m,\u001b[49m\n\u001b[1;32m   1049\u001b[0m \u001b[43m    \u001b[49m\u001b[43mattention_mask\u001b[49m\u001b[38;5;241;43m=\u001b[39;49m\u001b[43mattention_mask\u001b[49m\u001b[43m,\u001b[49m\n\u001b[1;32m   1050\u001b[0m \u001b[43m    \u001b[49m\u001b[43mtoken_type_ids\u001b[49m\u001b[38;5;241;43m=\u001b[39;49m\u001b[43mtoken_type_ids\u001b[49m\u001b[43m,\u001b[49m\n\u001b[1;32m   1051\u001b[0m \u001b[43m    \u001b[49m\u001b[43mposition_ids\u001b[49m\u001b[38;5;241;43m=\u001b[39;49m\u001b[43mposition_ids\u001b[49m\u001b[43m,\u001b[49m\n\u001b[1;32m   1052\u001b[0m \u001b[43m    \u001b[49m\u001b[43mhead_mask\u001b[49m\u001b[38;5;241;43m=\u001b[39;49m\u001b[43mhead_mask\u001b[49m\u001b[43m,\u001b[49m\n\u001b[1;32m   1053\u001b[0m \u001b[43m    \u001b[49m\u001b[43minputs_embeds\u001b[49m\u001b[38;5;241;43m=\u001b[39;49m\u001b[43minputs_embeds\u001b[49m\u001b[43m,\u001b[49m\n\u001b[1;32m   1054\u001b[0m \u001b[43m    \u001b[49m\u001b[43mencoder_hidden_states\u001b[49m\u001b[38;5;241;43m=\u001b[39;49m\u001b[43mencoder_hidden_states\u001b[49m\u001b[43m,\u001b[49m\n\u001b[1;32m   1055\u001b[0m \u001b[43m    \u001b[49m\u001b[43mencoder_attention_mask\u001b[49m\u001b[38;5;241;43m=\u001b[39;49m\u001b[43mencoder_attention_mask\u001b[49m\u001b[43m,\u001b[49m\n\u001b[1;32m   1056\u001b[0m \u001b[43m    \u001b[49m\u001b[43muse_cache\u001b[49m\u001b[38;5;241;43m=\u001b[39;49m\u001b[43muse_cache\u001b[49m\u001b[43m,\u001b[49m\n\u001b[1;32m   1057\u001b[0m \u001b[43m    \u001b[49m\u001b[43moutput_attentions\u001b[49m\u001b[38;5;241;43m=\u001b[39;49m\u001b[43moutput_attentions\u001b[49m\u001b[43m,\u001b[49m\n\u001b[1;32m   1058\u001b[0m \u001b[43m    \u001b[49m\u001b[43moutput_hidden_states\u001b[49m\u001b[38;5;241;43m=\u001b[39;49m\u001b[43moutput_hidden_states\u001b[49m\u001b[43m,\u001b[49m\n\u001b[1;32m   1059\u001b[0m \u001b[43m    \u001b[49m\u001b[43mreturn_dict\u001b[49m\u001b[38;5;241;43m=\u001b[39;49m\u001b[43mreturn_dict\u001b[49m\u001b[43m,\u001b[49m\n\u001b[1;32m   1060\u001b[0m \u001b[43m\u001b[49m\u001b[43m)\u001b[49m\n\u001b[1;32m   1061\u001b[0m hidden_states \u001b[38;5;241m=\u001b[39m transformer_outputs[\u001b[38;5;241m0\u001b[39m]\n\u001b[1;32m   1063\u001b[0m \u001b[38;5;66;03m# Set device for model parallelism\u001b[39;00m\n",
      "File \u001b[0;32m/storage/haoxuanl/anaconda3/envs/nlp/lib/python3.8/site-packages/torch/nn/modules/module.py:1190\u001b[0m, in \u001b[0;36mModule._call_impl\u001b[0;34m(self, *input, **kwargs)\u001b[0m\n\u001b[1;32m   1186\u001b[0m \u001b[38;5;66;03m# If we don't have any hooks, we want to skip the rest of the logic in\u001b[39;00m\n\u001b[1;32m   1187\u001b[0m \u001b[38;5;66;03m# this function, and just call forward.\u001b[39;00m\n\u001b[1;32m   1188\u001b[0m \u001b[38;5;28;01mif\u001b[39;00m \u001b[38;5;129;01mnot\u001b[39;00m (\u001b[38;5;28mself\u001b[39m\u001b[38;5;241m.\u001b[39m_backward_hooks \u001b[38;5;129;01mor\u001b[39;00m \u001b[38;5;28mself\u001b[39m\u001b[38;5;241m.\u001b[39m_forward_hooks \u001b[38;5;129;01mor\u001b[39;00m \u001b[38;5;28mself\u001b[39m\u001b[38;5;241m.\u001b[39m_forward_pre_hooks \u001b[38;5;129;01mor\u001b[39;00m _global_backward_hooks\n\u001b[1;32m   1189\u001b[0m         \u001b[38;5;129;01mor\u001b[39;00m _global_forward_hooks \u001b[38;5;129;01mor\u001b[39;00m _global_forward_pre_hooks):\n\u001b[0;32m-> 1190\u001b[0m     \u001b[38;5;28;01mreturn\u001b[39;00m \u001b[43mforward_call\u001b[49m\u001b[43m(\u001b[49m\u001b[38;5;241;43m*\u001b[39;49m\u001b[38;5;28;43minput\u001b[39;49m\u001b[43m,\u001b[49m\u001b[43m \u001b[49m\u001b[38;5;241;43m*\u001b[39;49m\u001b[38;5;241;43m*\u001b[39;49m\u001b[43mkwargs\u001b[49m\u001b[43m)\u001b[49m\n\u001b[1;32m   1191\u001b[0m \u001b[38;5;66;03m# Do not call functions when jit is used\u001b[39;00m\n\u001b[1;32m   1192\u001b[0m full_backward_hooks, non_full_backward_hooks \u001b[38;5;241m=\u001b[39m [], []\n",
      "File \u001b[0;32m/storage/haoxuanl/anaconda3/envs/nlp/lib/python3.8/site-packages/transformers/models/gpt2/modeling_gpt2.py:889\u001b[0m, in \u001b[0;36mGPT2Model.forward\u001b[0;34m(self, input_ids, past_key_values, attention_mask, token_type_ids, position_ids, head_mask, inputs_embeds, encoder_hidden_states, encoder_attention_mask, use_cache, output_attentions, output_hidden_states, return_dict)\u001b[0m\n\u001b[1;32m    879\u001b[0m     outputs \u001b[38;5;241m=\u001b[39m torch\u001b[38;5;241m.\u001b[39mutils\u001b[38;5;241m.\u001b[39mcheckpoint\u001b[38;5;241m.\u001b[39mcheckpoint(\n\u001b[1;32m    880\u001b[0m         create_custom_forward(block),\n\u001b[1;32m    881\u001b[0m         hidden_states,\n\u001b[0;32m   (...)\u001b[0m\n\u001b[1;32m    886\u001b[0m         encoder_attention_mask,\n\u001b[1;32m    887\u001b[0m     )\n\u001b[1;32m    888\u001b[0m \u001b[38;5;28;01melse\u001b[39;00m:\n\u001b[0;32m--> 889\u001b[0m     outputs \u001b[38;5;241m=\u001b[39m \u001b[43mblock\u001b[49m\u001b[43m(\u001b[49m\n\u001b[1;32m    890\u001b[0m \u001b[43m        \u001b[49m\u001b[43mhidden_states\u001b[49m\u001b[43m,\u001b[49m\n\u001b[1;32m    891\u001b[0m \u001b[43m        \u001b[49m\u001b[43mlayer_past\u001b[49m\u001b[38;5;241;43m=\u001b[39;49m\u001b[43mlayer_past\u001b[49m\u001b[43m,\u001b[49m\n\u001b[1;32m    892\u001b[0m \u001b[43m        \u001b[49m\u001b[43mattention_mask\u001b[49m\u001b[38;5;241;43m=\u001b[39;49m\u001b[43mattention_mask\u001b[49m\u001b[43m,\u001b[49m\n\u001b[1;32m    893\u001b[0m \u001b[43m        \u001b[49m\u001b[43mhead_mask\u001b[49m\u001b[38;5;241;43m=\u001b[39;49m\u001b[43mhead_mask\u001b[49m\u001b[43m[\u001b[49m\u001b[43mi\u001b[49m\u001b[43m]\u001b[49m\u001b[43m,\u001b[49m\n\u001b[1;32m    894\u001b[0m \u001b[43m        \u001b[49m\u001b[43mencoder_hidden_states\u001b[49m\u001b[38;5;241;43m=\u001b[39;49m\u001b[43mencoder_hidden_states\u001b[49m\u001b[43m,\u001b[49m\n\u001b[1;32m    895\u001b[0m \u001b[43m        \u001b[49m\u001b[43mencoder_attention_mask\u001b[49m\u001b[38;5;241;43m=\u001b[39;49m\u001b[43mencoder_attention_mask\u001b[49m\u001b[43m,\u001b[49m\n\u001b[1;32m    896\u001b[0m \u001b[43m        \u001b[49m\u001b[43muse_cache\u001b[49m\u001b[38;5;241;43m=\u001b[39;49m\u001b[43muse_cache\u001b[49m\u001b[43m,\u001b[49m\n\u001b[1;32m    897\u001b[0m \u001b[43m        \u001b[49m\u001b[43moutput_attentions\u001b[49m\u001b[38;5;241;43m=\u001b[39;49m\u001b[43moutput_attentions\u001b[49m\u001b[43m,\u001b[49m\n\u001b[1;32m    898\u001b[0m \u001b[43m    \u001b[49m\u001b[43m)\u001b[49m\n\u001b[1;32m    900\u001b[0m hidden_states \u001b[38;5;241m=\u001b[39m outputs[\u001b[38;5;241m0\u001b[39m]\n\u001b[1;32m    901\u001b[0m \u001b[38;5;28;01mif\u001b[39;00m use_cache \u001b[38;5;129;01mis\u001b[39;00m \u001b[38;5;28;01mTrue\u001b[39;00m:\n",
      "File \u001b[0;32m/storage/haoxuanl/anaconda3/envs/nlp/lib/python3.8/site-packages/torch/nn/modules/module.py:1190\u001b[0m, in \u001b[0;36mModule._call_impl\u001b[0;34m(self, *input, **kwargs)\u001b[0m\n\u001b[1;32m   1186\u001b[0m \u001b[38;5;66;03m# If we don't have any hooks, we want to skip the rest of the logic in\u001b[39;00m\n\u001b[1;32m   1187\u001b[0m \u001b[38;5;66;03m# this function, and just call forward.\u001b[39;00m\n\u001b[1;32m   1188\u001b[0m \u001b[38;5;28;01mif\u001b[39;00m \u001b[38;5;129;01mnot\u001b[39;00m (\u001b[38;5;28mself\u001b[39m\u001b[38;5;241m.\u001b[39m_backward_hooks \u001b[38;5;129;01mor\u001b[39;00m \u001b[38;5;28mself\u001b[39m\u001b[38;5;241m.\u001b[39m_forward_hooks \u001b[38;5;129;01mor\u001b[39;00m \u001b[38;5;28mself\u001b[39m\u001b[38;5;241m.\u001b[39m_forward_pre_hooks \u001b[38;5;129;01mor\u001b[39;00m _global_backward_hooks\n\u001b[1;32m   1189\u001b[0m         \u001b[38;5;129;01mor\u001b[39;00m _global_forward_hooks \u001b[38;5;129;01mor\u001b[39;00m _global_forward_pre_hooks):\n\u001b[0;32m-> 1190\u001b[0m     \u001b[38;5;28;01mreturn\u001b[39;00m \u001b[43mforward_call\u001b[49m\u001b[43m(\u001b[49m\u001b[38;5;241;43m*\u001b[39;49m\u001b[38;5;28;43minput\u001b[39;49m\u001b[43m,\u001b[49m\u001b[43m \u001b[49m\u001b[38;5;241;43m*\u001b[39;49m\u001b[38;5;241;43m*\u001b[39;49m\u001b[43mkwargs\u001b[49m\u001b[43m)\u001b[49m\n\u001b[1;32m   1191\u001b[0m \u001b[38;5;66;03m# Do not call functions when jit is used\u001b[39;00m\n\u001b[1;32m   1192\u001b[0m full_backward_hooks, non_full_backward_hooks \u001b[38;5;241m=\u001b[39m [], []\n",
      "File \u001b[0;32m/storage/haoxuanl/anaconda3/envs/nlp/lib/python3.8/site-packages/transformers/models/gpt2/modeling_gpt2.py:389\u001b[0m, in \u001b[0;36mGPT2Block.forward\u001b[0;34m(self, hidden_states, layer_past, attention_mask, head_mask, encoder_hidden_states, encoder_attention_mask, use_cache, output_attentions)\u001b[0m\n\u001b[1;32m    387\u001b[0m residual \u001b[38;5;241m=\u001b[39m hidden_states\n\u001b[1;32m    388\u001b[0m hidden_states \u001b[38;5;241m=\u001b[39m \u001b[38;5;28mself\u001b[39m\u001b[38;5;241m.\u001b[39mln_1(hidden_states)\n\u001b[0;32m--> 389\u001b[0m attn_outputs \u001b[38;5;241m=\u001b[39m \u001b[38;5;28;43mself\u001b[39;49m\u001b[38;5;241;43m.\u001b[39;49m\u001b[43mattn\u001b[49m\u001b[43m(\u001b[49m\n\u001b[1;32m    390\u001b[0m \u001b[43m    \u001b[49m\u001b[43mhidden_states\u001b[49m\u001b[43m,\u001b[49m\n\u001b[1;32m    391\u001b[0m \u001b[43m    \u001b[49m\u001b[43mlayer_past\u001b[49m\u001b[38;5;241;43m=\u001b[39;49m\u001b[43mlayer_past\u001b[49m\u001b[43m,\u001b[49m\n\u001b[1;32m    392\u001b[0m \u001b[43m    \u001b[49m\u001b[43mattention_mask\u001b[49m\u001b[38;5;241;43m=\u001b[39;49m\u001b[43mattention_mask\u001b[49m\u001b[43m,\u001b[49m\n\u001b[1;32m    393\u001b[0m \u001b[43m    \u001b[49m\u001b[43mhead_mask\u001b[49m\u001b[38;5;241;43m=\u001b[39;49m\u001b[43mhead_mask\u001b[49m\u001b[43m,\u001b[49m\n\u001b[1;32m    394\u001b[0m \u001b[43m    \u001b[49m\u001b[43muse_cache\u001b[49m\u001b[38;5;241;43m=\u001b[39;49m\u001b[43muse_cache\u001b[49m\u001b[43m,\u001b[49m\n\u001b[1;32m    395\u001b[0m \u001b[43m    \u001b[49m\u001b[43moutput_attentions\u001b[49m\u001b[38;5;241;43m=\u001b[39;49m\u001b[43moutput_attentions\u001b[49m\u001b[43m,\u001b[49m\n\u001b[1;32m    396\u001b[0m \u001b[43m\u001b[49m\u001b[43m)\u001b[49m\n\u001b[1;32m    397\u001b[0m attn_output \u001b[38;5;241m=\u001b[39m attn_outputs[\u001b[38;5;241m0\u001b[39m]  \u001b[38;5;66;03m# output_attn: a, present, (attentions)\u001b[39;00m\n\u001b[1;32m    398\u001b[0m outputs \u001b[38;5;241m=\u001b[39m attn_outputs[\u001b[38;5;241m1\u001b[39m:]\n",
      "File \u001b[0;32m/storage/haoxuanl/anaconda3/envs/nlp/lib/python3.8/site-packages/torch/nn/modules/module.py:1190\u001b[0m, in \u001b[0;36mModule._call_impl\u001b[0;34m(self, *input, **kwargs)\u001b[0m\n\u001b[1;32m   1186\u001b[0m \u001b[38;5;66;03m# If we don't have any hooks, we want to skip the rest of the logic in\u001b[39;00m\n\u001b[1;32m   1187\u001b[0m \u001b[38;5;66;03m# this function, and just call forward.\u001b[39;00m\n\u001b[1;32m   1188\u001b[0m \u001b[38;5;28;01mif\u001b[39;00m \u001b[38;5;129;01mnot\u001b[39;00m (\u001b[38;5;28mself\u001b[39m\u001b[38;5;241m.\u001b[39m_backward_hooks \u001b[38;5;129;01mor\u001b[39;00m \u001b[38;5;28mself\u001b[39m\u001b[38;5;241m.\u001b[39m_forward_hooks \u001b[38;5;129;01mor\u001b[39;00m \u001b[38;5;28mself\u001b[39m\u001b[38;5;241m.\u001b[39m_forward_pre_hooks \u001b[38;5;129;01mor\u001b[39;00m _global_backward_hooks\n\u001b[1;32m   1189\u001b[0m         \u001b[38;5;129;01mor\u001b[39;00m _global_forward_hooks \u001b[38;5;129;01mor\u001b[39;00m _global_forward_pre_hooks):\n\u001b[0;32m-> 1190\u001b[0m     \u001b[38;5;28;01mreturn\u001b[39;00m \u001b[43mforward_call\u001b[49m\u001b[43m(\u001b[49m\u001b[38;5;241;43m*\u001b[39;49m\u001b[38;5;28;43minput\u001b[39;49m\u001b[43m,\u001b[49m\u001b[43m \u001b[49m\u001b[38;5;241;43m*\u001b[39;49m\u001b[38;5;241;43m*\u001b[39;49m\u001b[43mkwargs\u001b[49m\u001b[43m)\u001b[49m\n\u001b[1;32m   1191\u001b[0m \u001b[38;5;66;03m# Do not call functions when jit is used\u001b[39;00m\n\u001b[1;32m   1192\u001b[0m full_backward_hooks, non_full_backward_hooks \u001b[38;5;241m=\u001b[39m [], []\n",
      "File \u001b[0;32m/storage/haoxuanl/anaconda3/envs/nlp/lib/python3.8/site-packages/transformers/models/gpt2/modeling_gpt2.py:330\u001b[0m, in \u001b[0;36mGPT2Attention.forward\u001b[0;34m(self, hidden_states, layer_past, attention_mask, head_mask, encoder_hidden_states, encoder_attention_mask, use_cache, output_attentions)\u001b[0m\n\u001b[1;32m    328\u001b[0m     attn_output, attn_weights \u001b[38;5;241m=\u001b[39m \u001b[38;5;28mself\u001b[39m\u001b[38;5;241m.\u001b[39m_upcast_and_reordered_attn(query, key, value, attention_mask, head_mask)\n\u001b[1;32m    329\u001b[0m \u001b[38;5;28;01melse\u001b[39;00m:\n\u001b[0;32m--> 330\u001b[0m     attn_output, attn_weights \u001b[38;5;241m=\u001b[39m \u001b[38;5;28;43mself\u001b[39;49m\u001b[38;5;241;43m.\u001b[39;49m\u001b[43m_attn\u001b[49m\u001b[43m(\u001b[49m\u001b[43mquery\u001b[49m\u001b[43m,\u001b[49m\u001b[43m \u001b[49m\u001b[43mkey\u001b[49m\u001b[43m,\u001b[49m\u001b[43m \u001b[49m\u001b[43mvalue\u001b[49m\u001b[43m,\u001b[49m\u001b[43m \u001b[49m\u001b[43mattention_mask\u001b[49m\u001b[43m,\u001b[49m\u001b[43m \u001b[49m\u001b[43mhead_mask\u001b[49m\u001b[43m)\u001b[49m\n\u001b[1;32m    332\u001b[0m attn_output \u001b[38;5;241m=\u001b[39m \u001b[38;5;28mself\u001b[39m\u001b[38;5;241m.\u001b[39m_merge_heads(attn_output, \u001b[38;5;28mself\u001b[39m\u001b[38;5;241m.\u001b[39mnum_heads, \u001b[38;5;28mself\u001b[39m\u001b[38;5;241m.\u001b[39mhead_dim)\n\u001b[1;32m    333\u001b[0m attn_output \u001b[38;5;241m=\u001b[39m \u001b[38;5;28mself\u001b[39m\u001b[38;5;241m.\u001b[39mc_proj(attn_output)\n",
      "File \u001b[0;32m/storage/haoxuanl/anaconda3/envs/nlp/lib/python3.8/site-packages/transformers/models/gpt2/modeling_gpt2.py:185\u001b[0m, in \u001b[0;36mGPT2Attention._attn\u001b[0;34m(self, query, key, value, attention_mask, head_mask)\u001b[0m\n\u001b[1;32m    182\u001b[0m attn_weights \u001b[38;5;241m=\u001b[39m torch\u001b[38;5;241m.\u001b[39mmatmul(query, key\u001b[38;5;241m.\u001b[39mtranspose(\u001b[38;5;241m-\u001b[39m\u001b[38;5;241m1\u001b[39m, \u001b[38;5;241m-\u001b[39m\u001b[38;5;241m2\u001b[39m))\n\u001b[1;32m    184\u001b[0m \u001b[38;5;28;01mif\u001b[39;00m \u001b[38;5;28mself\u001b[39m\u001b[38;5;241m.\u001b[39mscale_attn_weights:\n\u001b[0;32m--> 185\u001b[0m     attn_weights \u001b[38;5;241m=\u001b[39m \u001b[43mattn_weights\u001b[49m\u001b[43m \u001b[49m\u001b[38;5;241;43m/\u001b[39;49m\u001b[43m \u001b[49m\u001b[43mtorch\u001b[49m\u001b[38;5;241;43m.\u001b[39;49m\u001b[43mtensor\u001b[49m\u001b[43m(\u001b[49m\n\u001b[1;32m    186\u001b[0m \u001b[43m        \u001b[49m\u001b[43mvalue\u001b[49m\u001b[38;5;241;43m.\u001b[39;49m\u001b[43msize\u001b[49m\u001b[43m(\u001b[49m\u001b[38;5;241;43m-\u001b[39;49m\u001b[38;5;241;43m1\u001b[39;49m\u001b[43m)\u001b[49m\u001b[43m \u001b[49m\u001b[38;5;241;43m*\u001b[39;49m\u001b[38;5;241;43m*\u001b[39;49m\u001b[43m \u001b[49m\u001b[38;5;241;43m0.5\u001b[39;49m\u001b[43m,\u001b[49m\u001b[43m \u001b[49m\u001b[43mdtype\u001b[49m\u001b[38;5;241;43m=\u001b[39;49m\u001b[43mattn_weights\u001b[49m\u001b[38;5;241;43m.\u001b[39;49m\u001b[43mdtype\u001b[49m\u001b[43m,\u001b[49m\u001b[43m \u001b[49m\u001b[43mdevice\u001b[49m\u001b[38;5;241;43m=\u001b[39;49m\u001b[43mattn_weights\u001b[49m\u001b[38;5;241;43m.\u001b[39;49m\u001b[43mdevice\u001b[49m\n\u001b[1;32m    187\u001b[0m \u001b[43m    \u001b[49m\u001b[43m)\u001b[49m\n\u001b[1;32m    189\u001b[0m \u001b[38;5;66;03m# Layer-wise attention scaling\u001b[39;00m\n\u001b[1;32m    190\u001b[0m \u001b[38;5;28;01mif\u001b[39;00m \u001b[38;5;28mself\u001b[39m\u001b[38;5;241m.\u001b[39mscale_attn_by_inverse_layer_idx:\n",
      "\u001b[0;31mKeyboardInterrupt\u001b[0m: "
     ]
    }
   ],
   "source": [
    "train(\n",
    "    train_dataloader,\n",
    "    val_dataloader,\n",
    "    {\n",
    "        'enc': encoder_model,\n",
    "        'cls': classifier_model,\n",
    "        'st': st_model,\n",
    "        'ppl': ppl_model,\n",
    "    },\n",
    "    {\n",
    "        'sim': criterion_similarity,\n",
    "        'cls': criterion_classification,\n",
    "        'ppl': criterion_perplexity,\n",
    "    },\n",
    "    optimizer,\n",
    "    num_epoch\n",
    ")"
   ]
  },
  {
   "cell_type": "code",
   "execution_count": 15,
   "metadata": {},
   "outputs": [],
   "source": [
    "def test(test_dataloader, models, criterions):\n",
    "    \n",
    "    models['st'].eval()\n",
    "    models['ppl'].eval()\n",
    "    models['cls'].eval()\n",
    "    models['enc'].eval()\n",
    "    \n",
    "    print(f\"\\nBegin Testing\")\n",
    "    total_acc = 0\n",
    "    total_ppl = 0\n",
    "    total_sim = 0\n",
    "    limit=len(test_dataloader)\n",
    "    if limit>100: \n",
    "        limit=100\n",
    "    with torch.no_grad():\n",
    "        for batch, (src_ids, src_len, tgt) in tqdm(enumerate(test_dataloader),total=limit):\n",
    "            src_ids = src_ids.to(device)\n",
    "            tgt = tgt.to(device)\n",
    "\n",
    "            obf_logits = models['enc'](src_ids)\n",
    "            obf_logits = nn.functional.softmax(obf_logits, dim=-1)\n",
    "\n",
    "            result = encode_for_similarities(models['st'], device, src_ids, obf_logits)\n",
    "            gender_logits = models['cls'](obf_logits)\n",
    "\n",
    "            ppl_logits = models['ppl'](obf_logits)\n",
    "            shift_ppl = ppl_logits[..., :-1, :].contiguous()\n",
    "            shift_obf = obf_logits[..., 1:, :].contiguous()\n",
    "            loss_ppl = criterions['ppl'](shift_ppl.view(-1, shift_ppl.size(-1)), shift_obf.view(-1, shift_obf.size(-1)))\n",
    "\n",
    "            print(test_dataset.idx2str(src_ids[0].cpu().detach()))\n",
    "            print(test_dataset.idx2str(obf_logits[0].argmax(-1).cpu().detach()))\n",
    "\n",
    "            total_acc += (gender_logits.argmax(1) == tgt).sum().item()\n",
    "            total_ppl += loss_ppl\n",
    "            total_sim += torch.mean(result)\n",
    "\n",
    "            if batch >= limit:\n",
    "                break\n",
    "\n",
    "    acc = total_acc / limit / batch_size\n",
    "    ppl = math.exp(total_ppl / limit)\n",
    "    sim = total_sim / limit\n",
    "\n",
    "    print(f\"Test Accuracy: {acc}\\nTest Perplexity: {ppl}\\nTest Semantic Similarity: {sim}\\n\")"
   ]
  },
  {
   "cell_type": "code",
   "execution_count": 16,
   "metadata": {},
   "outputs": [
    {
     "name": "stdout",
     "output_type": "stream",
     "text": [
      "\n",
      "Begin Testing\n"
     ]
    },
    {
     "name": "stderr",
     "output_type": "stream",
     "text": [
      "  1%|▊                                                                                  | 1/100 [00:01<02:12,  1.34s/it]"
     ]
    },
    {
     "name": "stdout",
     "output_type": "stream",
     "text": [
      "for all the readers of this post be notifiyed that anything said has nothing to do with me even if it does 5 days in bali last week i got 2 rings one for a sovinior one for giving away to someone someone speacial whos a girl who would have done her o - levels who would not have a bf who would not be around me for crap who... ect... ect... ect for those friends reading - lrb - espeacially the girls - rrb - please take note the top ^ ^ nothing to do with you guys...\n",
      "##88888888888888888888888888888888888888888888888888888888888888888888888888888888888888888888888888888888888888888888888888888888\n"
     ]
    },
    {
     "name": "stderr",
     "output_type": "stream",
     "text": [
      "\r",
      "  2%|█▋                                                                                 | 2/100 [00:01<01:09,  1.41it/s]"
     ]
    },
    {
     "name": "stdout",
     "output_type": "stream",
     "text": [
      "i generally don't promote products, but i find i have to make the exception for this : neutrogena blackhead eliminating - lrb - tm - rrb - scrub now, while i have been blessed with skin that never had bad acne, the occassional break - out every six months or so, of late i have bemoaning the pores on my nose. the super - gross - clogged - with - gunk pores on my nose. they're not really blackheads, they're just icky. those biore strips that claim to clear out your\n",
      "##88888888888888888888888888888888888888888888888888888888888888888888888888888888888888888888888888888888888888888888888888888888\n"
     ]
    },
    {
     "name": "stderr",
     "output_type": "stream",
     "text": [
      "\r",
      "  3%|██▍                                                                                | 3/100 [00:01<00:49,  1.97it/s]"
     ]
    },
    {
     "name": "stdout",
     "output_type": "stream",
     "text": [
      "n't have to, my dad reassures me, you can refuse it. i will not have a spinal tap. worried, yes ; overly, no. only a five percent chance. until. my first cousin, michelle, mother of five, is diagnosed on friday. my [UNK] cousin. my dad tells me the news on saturday. five percent doesn't seem right anymore. five percent seem way off. five percent seems really low. doesn't run in families? bullshit. i'm not worried, i tell my dad. it's too early to worry. on monday, they'll look at\n",
      "##88888888888888888888888888888888888888888888888888888888888888888888888888888888888888888888888888888888888888888888888888888888\n"
     ]
    },
    {
     "name": "stderr",
     "output_type": "stream",
     "text": [
      "\r",
      "  4%|███▎                                                                               | 4/100 [00:02<00:39,  2.42it/s]"
     ]
    },
    {
     "name": "stdout",
     "output_type": "stream",
     "text": [
      "##ch for [UNK]? i had \" swatched \" * *, however when i \" swatched \" i wasn't quite doing the pattern correctly. here's an example of my fine skills of [UNK] reading the pattern. see the knit stitches every third stitch? that's what you get when you risread where the asterisk is - lrb - ie : what stitches you should be repeating - rrb -. it was truely mistfying me what i was doing wrong, until i re - read the pattern. the gauge of that'swatch'is 10st to 10cm. i believe the target\n",
      "##88888888888888888888888888888888888888888888888888888888888888888888888888888888888888888888888888888888888888888888888888888888\n"
     ]
    },
    {
     "name": "stderr",
     "output_type": "stream",
     "text": [
      "\r",
      "  5%|████▏                                                                              | 5/100 [00:02<00:34,  2.77it/s]"
     ]
    },
    {
     "name": "stdout",
     "output_type": "stream",
     "text": [
      "as rigor mortis sets in. this is when lif steps in. just in time to bust another lyrical headspin. and [UNK]... hes been ill. since way back! he came into the studio laid back then he proceded to blaze a hole in your track hurry up and get sum medical aid, the beat starting to fade this dj's cutting you on a blade and if you reach for the board your fingers sliced the niggas nice. you got caught up in a lyrical heist and got physically diced you can try to sp [UNK] him back together - rsb - will he be the\n",
      "##88888888888888888888888888888888888888888888888888888888888888888888888888888888888888888888888888888888888888888888888888888888\n"
     ]
    },
    {
     "name": "stderr",
     "output_type": "stream",
     "text": [
      "\r",
      "  6%|████▉                                                                              | 6/100 [00:02<00:31,  3.02it/s]"
     ]
    },
    {
     "name": "stdout",
     "output_type": "stream",
     "text": [
      "get out of, and i just don't know what i'm going to do with my life. i'm a shiftless loser right now who can't muster enough whatever to get out there and do something. i am just a mess. nobody, not even my mom, seems to fully realize this. oh well... time heals all wounds i guess. yay for whippee poop!!! - lrb - anyone who fails to quickly see the reason why i laughed at it so much obviously isn't immature enough, sleep deprived enough, or goofy enough - rrb -\n",
      "##88888888888888888888888888888888888888888888888888888888888888888888888888888888888888888888888888888888888888888888888888888888\n"
     ]
    },
    {
     "name": "stderr",
     "output_type": "stream",
     "text": [
      "\r",
      "  7%|█████▊                                                                             | 7/100 [00:02<00:28,  3.22it/s]"
     ]
    },
    {
     "name": "stdout",
     "output_type": "stream",
     "text": [
      "yea.... today was tiring.... juz like any other days.... aft maths was dragging geog, then dnt... till 6pm phew... went home with a backache... hahahaa.... had lacquer all over my finger thx to dnt... my mom was lik : mom : did u paint your nails me : nope mom : why ur nails so shiny me : its lacquer... mom, cmon dont tell me i've even painted my palm and my\n",
      "##88888888888888888888888888888888888888888888888888888888888888888888888888888888888888888888888888888888888888888888888888888888\n"
     ]
    },
    {
     "name": "stderr",
     "output_type": "stream",
     "text": [
      "\r",
      "  8%|██████▋                                                                            | 8/100 [00:03<00:27,  3.36it/s]"
     ]
    },
    {
     "name": "stdout",
     "output_type": "stream",
     "text": [
      "i can't help but think about the past. the past i truely want to forget. i just had my birthday a few days ago, and as i was talking to my friend about life in general, i realized that i am missing a major thing in my life. a man. what i mean is, i don't have a father, a boyfriend and or a close friend who is a guy. i used to. but my father passed away a few years ago, i broke up with my boyfriend of three years and me my best guy friend aren't as close as we used to be. is\n",
      "##88888888888888888888888888888888888888888888888888888888888888888888888888888888888888888888888888888888888888888888888888888888\n"
     ]
    },
    {
     "name": "stderr",
     "output_type": "stream",
     "text": [
      "\r",
      "  9%|███████▍                                                                           | 9/100 [00:03<00:26,  3.47it/s]"
     ]
    },
    {
     "name": "stdout",
     "output_type": "stream",
     "text": [
      "environment i will most likely become even more ill than i am. i have mixed emotions about this all. i have never been one to use my illness as an excuse for anything. i don't want to be known for that. the only thing i have used it for has been for federal benefits such as insurance so that i can at least have health care. barring that i have no gone around saying \" i have cf treat me differently \". hell even when in college i only used it as an excuse if i went into the hospital... not if i just skipped a class. if i was honestly out because i\n",
      "##88888888888888888888888888888888888888888888888888888888888888888888888888888888888888888888888888888888888888888888888888888888\n"
     ]
    },
    {
     "name": "stderr",
     "output_type": "stream",
     "text": [
      "\r",
      " 10%|████████▏                                                                         | 10/100 [00:03<00:25,  3.55it/s]"
     ]
    },
    {
     "name": "stdout",
     "output_type": "stream",
     "text": [
      "first book, the man who ate everything. last night i played the neatest trick on my wife. i grilled a slice of my best homemade french country bread, spread it thick with promise ultra fat - free nonfat margarine, set it on the coutner, sat back, and waited. soon the toasty aroma drew my wife into the kitchen. seeing the bread, she smiled [UNK] and took a bite. i'll never forget the way her smile froze, as she gagged, stumbled over to the kitchen sink, and gave up her mouthful of break covered with promise ultra fat - free nonfat margar\n",
      "##88888888888888888888888888888888888888888888888888888888888888888888888888888888888888888888888888888888888888888888888888888888\n"
     ]
    },
    {
     "name": "stderr",
     "output_type": "stream",
     "text": [
      "\r",
      " 11%|█████████                                                                         | 11/100 [00:04<00:24,  3.60it/s]"
     ]
    },
    {
     "name": "stdout",
     "output_type": "stream",
     "text": [
      "lrb - and do - rrb - tell her everything. * kicking abby's butt at hoops. hahahahahaha. and we got to the second level of contra. * cooking up a storm and cleaning the oven. you can't even tell a pie exploded in there in august. * sewing fun with joanna carter. jon has some really nice pants. * seeing \" unccy paul \" wilson * watching the nancy drew movie on abc last night. i endorse it, even though bess is tall, skinny and blond in the movie. in the books, she's short,\n",
      "##88888888888888888888888888888888888888888888888888888888888888888888888888888888888888888888888888888888888888888888888888888888\n"
     ]
    },
    {
     "name": "stderr",
     "output_type": "stream",
     "text": [
      "\r",
      " 12%|█████████▊                                                                        | 12/100 [00:04<00:24,  3.64it/s]"
     ]
    },
    {
     "name": "stdout",
     "output_type": "stream",
     "text": [
      "belief. the stations talked about jesus and salvation and i found it pretty hard listening because these religious type are always so whacked out and extreme. i think they take things too literally and miss many points because of this literalism. this has always been the basic flaw with religion - - or so i had been taught, and so - lrb - i realized - rrb - i had come to believe. so at least i knew one thing for sure that i believed in. the radio stations all seemed to be talking about jesus nonstop, and it seemed to be this crazy orgy of prjection, with everyone [UNK] onto jesus\n",
      "##88888888888888888888888888888888888888888888888888888888888888888888888888888888888888888888888888888888888888888888888888888888\n"
     ]
    },
    {
     "name": "stderr",
     "output_type": "stream",
     "text": [
      "\r",
      " 13%|██████████▋                                                                       | 13/100 [00:04<00:23,  3.67it/s]"
     ]
    },
    {
     "name": "stdout",
     "output_type": "stream",
     "text": [
      "the site, giving up - to - date news, player predictions, and [UNK] leagues and publishing stats. also it would have a forum and everything. this is a little far - fetched, but it might work... i just need some help with it. music : i recently found two new favorite bands for me : anti - flag and rise against. they are both punk bands, and i have a lot of there songs now. if you haven't heard them, than try to, you won't regret it. chris currently listening to : anti - flag - turncoat mood : bored out of my mind\n",
      "##88888888888888888888888888888888888888888888888888888888888888888888888888888888888888888888888888888888888888888888888888888888\n"
     ]
    },
    {
     "name": "stderr",
     "output_type": "stream",
     "text": [
      "\r",
      " 14%|███████████▍                                                                      | 14/100 [00:04<00:23,  3.69it/s]"
     ]
    },
    {
     "name": "stdout",
     "output_type": "stream",
     "text": [
      "we all be one big happy blog family i went to krispey kreme in driver's ed it was muy fun. in the course of ummm 4 days i have had dominoe's pizza, all american cheeseburger, quizno's, and now krispey kreme. my aunt needs to stop buying me take out for dinneror i'm going to turn into a blimp o. o what a lazy woman she nevacooksi guess it's ok cuz i don't really eat alot and i don't look any fatterwho\n",
      "##88888888888888888888888888888888888888888888888888888888888888888888888888888888888888888888888888888888888888888888888888888888\n"
     ]
    },
    {
     "name": "stderr",
     "output_type": "stream",
     "text": [
      "\r",
      " 15%|████████████▎                                                                     | 15/100 [00:05<00:22,  3.71it/s]"
     ]
    },
    {
     "name": "stdout",
     "output_type": "stream",
     "text": [
      "flags kentucky kingdom!!! that is actually the 2nd theme park i've ever been to and it definantly beat holiday world! lol. anyways... that was so much fun... the highlight of my summer so far! and my b - day's getting really close!!! - lrb - june 27 - rrb - big 1. 6.! broom broom! jk... it's not even going to be fun bcz we have absolutely nothing planned for it. though everyone else probably has something planned... for their b - days... it sucks\n",
      "##88888888888888888888888888888888888888888888888888888888888888888888888888888888888888888888888888888888888888888888888888888888\n"
     ]
    },
    {
     "name": "stderr",
     "output_type": "stream",
     "text": [
      "\r",
      " 16%|█████████████                                                                     | 16/100 [00:05<00:22,  3.71it/s]"
     ]
    },
    {
     "name": "stdout",
     "output_type": "stream",
     "text": [
      "hi everyone! time for the update, took the kids to my mom dad's house this saturday! they had a lot of fun. kat made her noodle dish that everyone likes so much we feasted and feasted. so that was great. my mom gave jordy the old atari 2600 system that she had, he was happy as a beaver. games are games and they never seem to get old those classic games. they are still just as fun... were going back up to visit in 2 weeks again, so that will be fun again, hopefully we'll be able to visit longer... maybe bring\n",
      "##88888888888888888888888888888888888888888888888888888888888888888888888888888888888888888888888888888888888888888888888888888888\n"
     ]
    },
    {
     "name": "stderr",
     "output_type": "stream",
     "text": [
      "\r",
      " 17%|█████████████▉                                                                    | 17/100 [00:05<00:22,  3.71it/s]"
     ]
    },
    {
     "name": "stdout",
     "output_type": "stream",
     "text": [
      "i've been fighting sleep lately and tonight is one of those nights where i'm doing just that. of course, it doesn't help that i spent most of today in bed. i was so tired today and i think i'm getting a cold. my cable got turned off today so that's also most likely contributing to my lack of being able to sleep. i hate when things get turned off. i was told by my roommate that he paid bills but it seems they haven't been paid in 3 months. i'm learning i can't trust my roommate. my roommate is my husband\n",
      "##88888888888888888888888888888888888888888888888888888888888888888888888888888888888888888888888888888888888888888888888888888888\n"
     ]
    },
    {
     "name": "stderr",
     "output_type": "stream",
     "text": [
      "\r",
      " 18%|██████████████▊                                                                   | 18/100 [00:05<00:22,  3.71it/s]"
     ]
    },
    {
     "name": "stdout",
     "output_type": "stream",
     "text": [
      "the expense of society. think of the little people. poor people have no voice in this city. every time i find a park to meditate in, someone brings in a bulldozer and builds condos. the madness must stop. alex : so you suggest we just stop making babies? people need a place to park their boat and trailer and to put their swimming pool. you're beginning to sound red, and by that i mean you prefer a hammer and sickle over a hamburger. callum : i'm not little. i'm 5'5 \". it's time for corporations and all of capitalism to step\n",
      "##88888888888888888888888888888888888888888888888888888888888888888888888888888888888888888888888888888888888888888888888888888888\n"
     ]
    },
    {
     "name": "stderr",
     "output_type": "stream",
     "text": [
      "\r",
      " 19%|███████████████▌                                                                  | 19/100 [00:06<00:21,  3.71it/s]"
     ]
    },
    {
     "name": "stdout",
     "output_type": "stream",
     "text": [
      "today penang is ssooo wet... coz it's rainy day... and how i wish dat i'm at home on my bed sleeping... zzzzzzz it will be heaven aaa... anyway last nite i slept over at mima's place and i wanted to sleep early la kononnya... hahah macam ler boleh bila ada the twins tuh kat umah... althought both of them dah besar - lrb - standard 6 - rrb - tapi children will always be children....\n",
      "##88888888888888888888888888888888888888888888888888888888888888888888888888888888888888888888888888888888888888888888888888888888\n"
     ]
    },
    {
     "name": "stderr",
     "output_type": "stream",
     "text": [
      "\r",
      " 20%|████████████████▍                                                                 | 20/100 [00:06<00:21,  3.72it/s]"
     ]
    },
    {
     "name": "stdout",
     "output_type": "stream",
     "text": [
      "alex didn't get into punk by wearing zipper pants. we are punks because we believed those ideas before we found punk rock, we just didn't have a name for it. you can learn about punk while still keeping your self - respect and dignity. i don't want to be told what is cool by mtv. i don't want to be my scene to be torn into easily - digestible pieces and sold in malls to unassuming kids. i don't want for the hockey players in my school to set a precendent for all the other kids to follow. i do\n",
      "##88888888888888888888888888888888888888888888888888888888888888888888888888888888888888888888888888888888888888888888888888888888\n"
     ]
    },
    {
     "name": "stderr",
     "output_type": "stream",
     "text": [
      "\r",
      " 21%|█████████████████▏                                                                | 21/100 [00:06<00:21,  3.72it/s]"
     ]
    },
    {
     "name": "stdout",
     "output_type": "stream",
     "text": [
      "i'd get my ass completely kicked. i've never played a racquet sport before in my life - lrb - except for a few rounds of topless badminton at styro's bbq, which totally doesn't count - rrb -, while the boy was once intramural badminton champ in college. i'm a little too competitive, but how can i compete with that? at first, i couldn't. he'd destroy me, 15 - 1, 15 - 3. i had nothing. except, the last few times we played, i've gotten better.\n",
      "##88888888888888888888888888888888888888888888888888888888888888888888888888888888888888888888888888888888888888888888888888888888\n"
     ]
    },
    {
     "name": "stderr",
     "output_type": "stream",
     "text": [
      "\r",
      " 22%|██████████████████                                                                | 22/100 [00:06<00:21,  3.71it/s]"
     ]
    },
    {
     "name": "stdout",
     "output_type": "stream",
     "text": [
      "i was originally gon na put this on the previous post, but i decided halfway through writing it to just make it a seperate one. this is for those of you wondering what happened to the'reserve fund'i mentioned in the previous post. it happened back in november, the day before veteran's day - lrb - the 10th - rrb -. i had returned from b'ville and did a'quick stop'at the theater before i went back to my apartment. my visit took longer then i had originally planned. anyway, since my return from b'ville, i had unknowingly left my\n",
      "##88888888888888888888888888888888888888888888888888888888888888888888888888888888888888888888888888888888888888888888888888888888\n"
     ]
    },
    {
     "name": "stderr",
     "output_type": "stream",
     "text": [
      "\r",
      " 23%|██████████████████▊                                                               | 23/100 [00:07<00:20,  3.72it/s]"
     ]
    },
    {
     "name": "stdout",
     "output_type": "stream",
     "text": [
      ", in the dark under the old elm - tree, and looked from there at the house. in the windows of the top storey where misuce slept there appeared a bright light, which changed to a soft green - - they had covered the lamp with the shade. shadows began to move.... i was full of tenderness, peace, and satisfaction with myself - - satisfaction at having been able to be carried away by my feelings and having fallen in love, and at the same time i felt uncomfortable at the thought that only a few steps away from me, in one of the rooms of that house there was lida, who disliked\n",
      "##88888888888888888888888888888888888888888888888888888888888888888888888888888888888888888888888888888888888888888888888888888888\n"
     ]
    },
    {
     "name": "stderr",
     "output_type": "stream",
     "text": [
      "\r",
      " 24%|███████████████████▋                                                              | 24/100 [00:07<00:20,  3.72it/s]"
     ]
    },
    {
     "name": "stdout",
     "output_type": "stream",
     "text": [
      "nite.. was feeling all sore over.. only when i woke up at 6. 30 am.. did i realise that i am suffering from flu.. sore throat and whole body aching.. the first thing that came to my mind is that i can't afford to be sick.. at least not now.. i [UNK] down a glass of milk with 2 panadol actifast.. then went back to dreamland.. great.. feeling much much much better now.. : d hope i wun fall sick these few days.. its important to me.. real important..\n",
      "##88888888888888888888888888888888888888888888888888888888888888888888888888888888888888888888888888888888888888888888888888888888\n"
     ]
    },
    {
     "name": "stderr",
     "output_type": "stream",
     "text": [
      "\r",
      " 25%|████████████████████▌                                                             | 25/100 [00:07<00:20,  3.72it/s]"
     ]
    },
    {
     "name": "stdout",
     "output_type": "stream",
     "text": [
      "' t know why, i don't know what i did, but she always looks at me funny and when she does speak to me, it's always critical and sour. then the other day i asked to use the phone she and a friend ran up behind and said \" so do we! \" so the teacher gave us the keys to her office and $ % ^ % $ ran ahead of me and shut the door to the office and her friend stayed on the phone for 7 minutes or so and she saw me getting impatient and turned and smiled her evil \" hahaha i was a rude pig and it's getting\n",
      "##88888888888888888888888888888888888888888888888888888888888888888888888888888888888888888888888888888888888888888888888888888888\n"
     ]
    },
    {
     "name": "stderr",
     "output_type": "stream",
     "text": [
      "\r",
      " 26%|█████████████████████▎                                                            | 26/100 [00:08<00:19,  3.72it/s]"
     ]
    },
    {
     "name": "stdout",
     "output_type": "stream",
     "text": [
      "you are agent smith, from \" the matrix. \" no one would ever want to run into you in a dark alley. cold as steel, tough as a rock, things are your way or the highway. what matrix persona are you? brought to you by quizilla haha.. so much for all those quizzes. juz woke up, couldn't find anything nice on tv. so that's why i'm doing all those stuff. : d hmm, people who wake up as early as me on weekends are rare, don't u think? lolol. oh well, got ta log\n",
      "##88888888888888888888888888888888888888888888888888888888888888888888888888888888888888888888888888888888888888888888888888888888\n"
     ]
    },
    {
     "name": "stderr",
     "output_type": "stream",
     "text": [
      "\r",
      " 27%|██████████████████████▏                                                           | 27/100 [00:08<00:19,  3.72it/s]"
     ]
    },
    {
     "name": "stdout",
     "output_type": "stream",
     "text": [
      "as hell don't need more of your kind here. if you think it's too expensive - you're right. however, you're not getting a discount because you're stupid. what's even more amazing is that he just didn't understand. \" other companies give me a discount because i'm candian you know. \" at this point, i just had to respond \" i can't help that other companies make mistakes. \" i told him not to worry though, if john kerry got elected i'd probably move to canada out of protest, though hanging myself sounded like a\n",
      "##88888888888888888888888888888888888888888888888888888888888888888888888888888888888888888888888888888888888888888888888888888888\n"
     ]
    },
    {
     "name": "stderr",
     "output_type": "stream",
     "text": [
      "\r",
      " 28%|██████████████████████▉                                                           | 28/100 [00:08<00:19,  3.72it/s]"
     ]
    },
    {
     "name": "stdout",
     "output_type": "stream",
     "text": [
      "make any sense. it was obviously built in the 1970's but whatever. after that we went and got ben and just watched the lightning and stuff lightning is way cool i love it. today i got hired at teleperformance usa in orem. i'll be a telemarketer, but i'll get $ 7. 75 an hour that is very enjoyable i will be filthy rich. i recommend theseweb pages justiceforkurt. com, www [UNK]ioslave. com, wwwaperfectci [UNK]. com, wwwpr [UNK]sucks. com, wwwtoolband. com\n",
      "##88888888888888888888888888888888888888888888888888888888888888888888888888888888888888888888888888888888888888888888888888888888\n"
     ]
    },
    {
     "name": "stderr",
     "output_type": "stream",
     "text": [
      "\r",
      " 29%|███████████████████████▊                                                          | 29/100 [00:08<00:19,  3.72it/s]"
     ]
    },
    {
     "name": "stdout",
     "output_type": "stream",
     "text": [
      "them out and chase them away. they will follow anyone that comes near them. i'm afraid they will wander off and someone will keep them or they will get hurt. last night while we were at megan's soccer game they followed the neighbor's grandson around while he was cutting grass and then tried to swim in their in - ground pool. this morning i opened the door to let the dogs out and was startled by a hissing kitten hanging off the screen at face level! they prance around as if they owned the place and maybe they do. we are all [UNK] to them and the poor dogs give them a wide [UNK].\n",
      "##88888888888888888888888888888888888888888888888888888888888888888888888888888888888888888888888888888888888888888888888888888888\n"
     ]
    },
    {
     "name": "stderr",
     "output_type": "stream",
     "text": [
      "\r",
      " 30%|████████████████████████▌                                                         | 30/100 [00:09<00:18,  3.72it/s]"
     ]
    },
    {
     "name": "stdout",
     "output_type": "stream",
     "text": [
      "that, for now, that is the only place where i can hold on to you, long enough to tell you how much i love you. in my dreams you would kiss away my fears and wrap me with your arms of love. and this, all the more, makes me want to wake up and face the new day ahead with the hope that soon enough, you will no longer be a dream but a reality and once again i am assured that you are worth the wait. and when that time comes, everything will fall into its place, just as i had imagined, just as i had thought and dreamed, just as i had believed\n",
      "##88888888888888888888888888888888888888888888888888888888888888888888888888888888888888888888888888888888888888888888888888888888\n"
     ]
    },
    {
     "name": "stderr",
     "output_type": "stream",
     "text": [
      "\r",
      " 31%|█████████████████████████▍                                                        | 31/100 [00:09<00:18,  3.71it/s]"
     ]
    },
    {
     "name": "stdout",
     "output_type": "stream",
     "text": [
      "a little something i like to call electric train whistles. these humdingers were hooked up to the same thing that triggers the arms of the rr crossing bars and the flashing lights, so as soon as the train hit that, the bars went down and the electric train whistle sounded. this electric whistle made it so that the train conductor did not have to toot his horn. the sound of the whistle was like a train, but was specially designed to direct the sound down the road of the crossing, and not let the sound spread out all over hell. what a wonderful thing. i would love to go to the lincoln city council and\n",
      "##88888888888888888888888888888888888888888888888888888888888888888888888888888888888888888888888888888888888888888888888888888888\n"
     ]
    },
    {
     "name": "stderr",
     "output_type": "stream",
     "text": [
      "\r",
      " 32%|██████████████████████████▏                                                       | 32/100 [00:09<00:18,  3.71it/s]"
     ]
    },
    {
     "name": "stdout",
     "output_type": "stream",
     "text": [
      "i have suddenly developed a taste for sushi. i used to gag everytime i tasted seaweed, but i seem to be over that now. mmm sushi... today has been fairly dull, just work and more work. i'm going swimming with stephen tonight, that should be fun. i bought chocolate fondu and strawberries for dessert tonight, i hope he likes them! last night kimi and i had our first weekly exercise session of the summer. it went pretty well, we tried out some exercises on my exercise ball and went for a walk. oh my, i still haven't got heidi '\n",
      "##88888888888888888888888888888888888888888888888888888888888888888888888888888888888888888888888888888888888888888888888888888888\n"
     ]
    },
    {
     "name": "stderr",
     "output_type": "stream",
     "text": [
      "\r",
      " 33%|███████████████████████████                                                       | 33/100 [00:09<00:18,  3.71it/s]"
     ]
    },
    {
     "name": "stdout",
     "output_type": "stream",
     "text": [
      "my hair, but on the other hand i don't have a psuedo - fro type thing going on now. - lrb - which is a good thing - rrb -. i don't know if anyone i know is going to be finding this, but just incase someone does i probably won't be posting too much personal information in this thing. this was only an opening entry, hopefully things will get more interesting in the next few ones. i'm not making any promises though, you'll just have to hope / pray / make virgin sacrifices to a shamanistic diety. - brian\n",
      "##88888888888888888888888888888888888888888888888888888888888888888888888888888888888888888888888888888888888888888888888888888888\n"
     ]
    },
    {
     "name": "stderr",
     "output_type": "stream",
     "text": [
      "\r",
      " 34%|███████████████████████████▉                                                      | 34/100 [00:10<00:17,  3.71it/s]"
     ]
    },
    {
     "name": "stdout",
     "output_type": "stream",
     "text": [
      "reason, with was a lie. andrew : okay me : - lrb - pause - rrb - there's a lot of hypotheticalness here andrew : yeah me : - lrb - pause - rrb - andrew : - lrb - pause - rrb - me : - lrb - pause - rrb - andrew : would you ask me if you knew i'd say yes? me : would you? andrew : - lrb - without skipping a beat, i swear - rrb - yes me : - lrb - long pause here - rrb - well... why not? andrew : sure me\n",
      "##88888888888888888888888888888888888888888888888888888888888888888888888888888888888888888888888888888888888888888888888888888888\n"
     ]
    },
    {
     "name": "stderr",
     "output_type": "stream",
     "text": [
      "\r",
      " 35%|████████████████████████████▋                                                     | 35/100 [00:10<00:17,  3.71it/s]"
     ]
    },
    {
     "name": "stdout",
     "output_type": "stream",
     "text": [
      "body double - lrb - d - rrb - some of bush's actions remind me of a poem that i used to love when i was in primary school.... for want of a nail, the shoe was lost for want of a shoe, the horse was lost for want of a horse, the rider was lost for want of a rider, the battle was lost for want of a battle, the kingdom was lost all for the want of a horseshoe nail. bush's poem would probably start with for want of oil. oops, i did not mean the viscous material used to run [UNK]. the oil,\n",
      "##88888888888888888888888888888888888888888888888888888888888888888888888888888888888888888888888888888888888888888888888888888888\n"
     ]
    },
    {
     "name": "stderr",
     "output_type": "stream",
     "text": [
      "\r",
      " 36%|█████████████████████████████▌                                                    | 36/100 [00:10<00:17,  3.71it/s]"
     ]
    },
    {
     "name": "stdout",
     "output_type": "stream",
     "text": [
      "hmm... my classes started 3 weeks ago. it's been quite okay, i guess. i don't have any problems... yet. : - rrb - well, this is the only extra time i have to visit my blog - lrb - i don't have classes coz our teachers are having their retreat - rrb -. uhm, fyi : my dad's not here, he's in the states because there was a tragedy happened... i don't want to tell... i'm getting too emotional... sob! anyway\n",
      "##88888888888888888888888888888888888888888888888888888888888888888888888888888888888888888888888888888888888888888888888888888888\n"
     ]
    },
    {
     "name": "stderr",
     "output_type": "stream",
     "text": [
      "\r",
      " 37%|██████████████████████████████▎                                                   | 37/100 [00:11<00:16,  3.71it/s]"
     ]
    },
    {
     "name": "stdout",
     "output_type": "stream",
     "text": [
      "ok so i don't write very often... i had a great mother's day weekend... i started staruday morning with a hot rock california massage. wow... it was awesome. on sunday we went to church, what a great sermon, we came home and the girls gave me their gifts. valerie gave me a little [UNK] pot that she made with a beautiful card. melanie gave me a little pin made of dough and some coupons for me to cash in for some extra hugs and help cleaning the floor. what great little girls i have. on moday i sepnd the afternoon with\n",
      "##88888888888888888888888888888888888888888888888888888888888888888888888888888888888888888888888888888888888888888888888888888888\n"
     ]
    },
    {
     "name": "stderr",
     "output_type": "stream",
     "text": [
      "\r",
      " 38%|███████████████████████████████▏                                                  | 38/100 [00:11<00:16,  3.71it/s]"
     ]
    },
    {
     "name": "stdout",
     "output_type": "stream",
     "text": [
      "thought to what i will do with myself tonight - lrb - that is if the father of these children gets it into his head that he will spend some time with them - rrb -. c was suggesting that we have a date but hasn't called as yet. probably he has tried to, but i am on here a lot... reading blogs and writing this... all the details of my fabulously exciting life.... as for a, well we all know that i am not going to have anything more to do with him. no [UNK]e. pffft.... i ca\n",
      "##88888888888888888888888888888888888888888888888888888888888888888888888888888888888888888888888888888888888888888888888888888888\n"
     ]
    },
    {
     "name": "stderr",
     "output_type": "stream",
     "text": [
      "\r",
      " 39%|███████████████████████████████▉                                                  | 39/100 [00:11<00:16,  3.71it/s]"
     ]
    },
    {
     "name": "stdout",
     "output_type": "stream",
     "text": [
      "##on 74. - rrb - you drank chocolate milk from the magnolia glass bottle which you kept for holding water in your ref. 75. - rrb - brown cow tasted better than hersheys! 76. - rrb - shake rattle and roll 1 was the most horrifying movie for you then. 77. - rrb - the most comfortable shoes for you is still sp [UNK] topsiders. 78. - rrb - dress shoes mo eh loafers pa rin. 79. - rrb - the best movies of all time are pretty in pink, breakfast club, 16 candles and some kind of wonderful 80.\n",
      "##88888888888888888888888888888888888888888888888888888888888888888888888888888888888888888888888888888888888888888888888888888888\n"
     ]
    },
    {
     "name": "stderr",
     "output_type": "stream",
     "text": [
      "\r",
      " 40%|████████████████████████████████▊                                                 | 40/100 [00:11<00:16,  3.71it/s]"
     ]
    },
    {
     "name": "stdout",
     "output_type": "stream",
     "text": [
      "i mean what is the difference really? that $ 4000 is mine no matter which way ya slice it. so then she says, \" well next time it has to go on the card it was purchased on, just so you know. \" and i wanted to say, \" there won't be a next time, don't worry! \" i am big on customer service, and i understand she was doing her job, but she was being straight up rude! so whatever! just give me my money back! geez! i have the receipt, you're lucky you are getting that! so my friend that i\n",
      "##88888888888888888888888888888888888888888888888888888888888888888888888888888888888888888888888888888888888888888888888888888888\n"
     ]
    },
    {
     "name": "stderr",
     "output_type": "stream",
     "text": [
      "\r",
      " 41%|█████████████████████████████████▌                                                | 41/100 [00:12<00:15,  3.71it/s]"
     ]
    },
    {
     "name": "stdout",
     "output_type": "stream",
     "text": [
      "great dress on - rrb - and watch as all the cute couples dance and flyoff to a white wedding. when is it my turn. do i sound bitter... bah!!!! no, not bitter.... reflective!! that is such a great word. reflective. it say's \" i am bitter, but i am ok with that, so don't judge me!!! \" any nice men out there who want a traditional, stay home with the kids, cook you dinner, love to dance, have a brain kinda gal,... drop me a line!!\n",
      "##88888888888888888888888888888888888888888888888888888888888888888888888888888888888888888888888888888888888888888888888888888888\n"
     ]
    },
    {
     "name": "stderr",
     "output_type": "stream",
     "text": [
      "\r",
      " 42%|██████████████████████████████████▍                                               | 42/100 [00:12<00:15,  3.71it/s]"
     ]
    },
    {
     "name": "stdout",
     "output_type": "stream",
     "text": [
      "two months and said this will have to do. don't have to buy this and can make that last til we scrape togeather something to make us feel like we will have a start at least. then here comes someone with an extra jump. one you did not expect. so you say thank you and then you look up and thank the other provider. sometimes it is just what you asked for and others times what you never would have guessed. this time it was a kitten. yeah a kitten. i was asking for money, time, reassurance, a car and swiftness. but no a kitten called my\n",
      "##88888888888888888888888888888888888888888888888888888888888888888888888888888888888888888888888888888888888888888888888888888888\n"
     ]
    },
    {
     "name": "stderr",
     "output_type": "stream",
     "text": [
      "\r",
      " 43%|███████████████████████████████████▎                                              | 43/100 [00:12<00:15,  3.71it/s]"
     ]
    },
    {
     "name": "stdout",
     "output_type": "stream",
     "text": [
      "- lrb - which was of course quite nice... [UNK] saddles anyone? - rrb - and of course there was [UNK] pessoa who practically got a standing ovation every time he came in the ring. it was fun to see all the great riders and horses and to be at an [UNK] event where there was actually a big well informed audience that cheered and had a great time, especially on sunday for the actual world cup final. omaha's own karen cudmore - lrb - who rides for canada - rrb - placed 20th out of 40 some. not bad for the best riders in the world.\n",
      "##88888888888888888888888888888888888888888888888888888888888888888888888888888888888888888888888888888888888888888888888888888888\n"
     ]
    },
    {
     "name": "stderr",
     "output_type": "stream",
     "text": [
      "\r",
      " 44%|████████████████████████████████████                                              | 44/100 [00:12<00:15,  3.71it/s]"
     ]
    },
    {
     "name": "stdout",
     "output_type": "stream",
     "text": [
      "to go hang out pronto. i think i got the mental break and closure i wanted. i just wwent browsing some blogs and saw andrew's post where he says how much in love he is with landon, and i... smiled. a happy smile. i didn't care that landon makes him happier than i might have. all that mattered was that he was happy, and he deserves that. so that's nice. um, crushes on straight guys suck, let me tell you. there was this one guy on the trip who mas my best guy friend on the trip and i was his best\n",
      "##88888888888888888888888888888888888888888888888888888888888888888888888888888888888888888888888888888888888888888888888888888888\n"
     ]
    },
    {
     "name": "stderr",
     "output_type": "stream",
     "text": [
      "\r",
      " 45%|████████████████████████████████████▉                                             | 45/100 [00:13<00:14,  3.71it/s]"
     ]
    },
    {
     "name": "stdout",
     "output_type": "stream",
     "text": [
      "' s scarlet feather, which, of course, is great. my dad and i went to krispy kreme to watch the doughnuts being made this morning. it was awesome. his first job was in a doughnut factory, so he wasn't as impressed as i was. i slept in the princess bed last night because my bed makes my bed hurt. i had the mosquito [UNK] all pulled around it - i felt like i was inside a huge, fluffy white cloud. then a dog nose poking through the [UNK] woke me up. she is a bad seed. my dad and i filled up the water bags in\n",
      "##88888888888888888888888888888888888888888888888888888888888888888888888888888888888888888888888888888888888888888888888888888888\n"
     ]
    },
    {
     "name": "stderr",
     "output_type": "stream",
     "text": [
      "\r",
      " 46%|█████████████████████████████████████▋                                            | 46/100 [00:13<00:14,  3.71it/s]"
     ]
    },
    {
     "name": "stdout",
     "output_type": "stream",
     "text": [
      "/ 34 15may04 cby 4f fst : 513 25 / 34 11may04 ls 4f fst : 512 27 / 53 tomboy recent works : 16may04 cby 4f - lrb - t - rrb - fm : [UNK] 9 / 10 13may04 cby 4f gd : 532 14 / 32 11may04 ls 4f fst : 512 25 / 53 8may04 ls 4f fst : 512 26 / 65 starlight wishing recent works : 21may04 cby 5f mdy 1 : 08 9 /\n",
      "##88888888888888888888888888888888888888888888888888888888888888888888888888888888888888888888888888888888888888888888888888888888\n"
     ]
    },
    {
     "name": "stderr",
     "output_type": "stream",
     "text": [
      "\r",
      " 47%|██████████████████████████████████████▌                                           | 47/100 [00:13<00:14,  3.71it/s]"
     ]
    },
    {
     "name": "stdout",
     "output_type": "stream",
     "text": [
      "dont think about... it's what u call destiny... * i guess? * no matter how good the plan u have but if ur destiny says that the plan doesnt work... then it doesnt work... it's unavoidable!... it's sumthin that's just not meant to be... it's not that we choose not to be... but it's just have not to be!... so not be it!... and that we can not do anythin about it...\n",
      "##88888888888888888888888888888888888888888888888888888888888888888888888888888888888888888888888888888888888888888888888888888888\n"
     ]
    },
    {
     "name": "stderr",
     "output_type": "stream",
     "text": [
      "\r",
      " 48%|███████████████████████████████████████▎                                          | 48/100 [00:13<00:14,  3.71it/s]"
     ]
    },
    {
     "name": "stdout",
     "output_type": "stream",
     "text": [
      "##l i don't think i've messed up yet!! yay!! lol but i'm gon na go to great escape in my pj's!! you coming in ur pj's with me?? it's only gon na be alex, me and nessa!! lol alex = [UNK]y lil kid!! lol hehe but anyways i'll prolly write more later.... i'm just very tired and bored!! so i'm gon na go now!! kk?? lylas!!!\n",
      "##88888888888888888888888888888888888888888888888888888888888888888888888888888888888888888888888888888888888888888888888888888888\n"
     ]
    },
    {
     "name": "stderr",
     "output_type": "stream",
     "text": [
      "\r",
      " 49%|████████████████████████████████████████▏                                         | 49/100 [00:14<00:13,  3.71it/s]"
     ]
    },
    {
     "name": "stdout",
     "output_type": "stream",
     "text": [
      "song of the moment : : fighter, christina aguliera this is day : : 5, 872 : : of my life. i passed my driving test, go me. i aced parallel parking and backing. the only thing i had problems with was that i kept speeding. don't ask me why ; i never do that. luckily i had coach [UNK], whom i've driven with before, so he knew that i don't usually do that. he made me go to his son's house lol and sit in the driveway while he talked to him. val passed, too, yay!\n",
      "##88888888888888888888888888888888888888888888888888888888888888888888888888888888888888888888888888888888888888888888888888888888\n"
     ]
    },
    {
     "name": "stderr",
     "output_type": "stream",
     "text": [
      "\r",
      " 50%|█████████████████████████████████████████                                         | 50/100 [00:14<00:13,  3.70it/s]"
     ]
    },
    {
     "name": "stdout",
     "output_type": "stream",
     "text": [
      "t been to college. that's why i don't expect one huge thing for me to do, but lots of little ones that need to be done. besides the concert, not much is happening. business has picked up a little bit. the lord provided yesterday when a customer came and paid off a car that i had on payments. it was exactly what i needed to pay my taxes this year. now i don't have to worry about it at all. i love that god is always thinking about me and preparing things ahead of time when i'm distracted by other things... he is all knowing.\n",
      "##88888888888888888888888888888888888888888888888888888888888888888888888888888888888888888888888888888888888888888888888888888888\n"
     ]
    },
    {
     "name": "stderr",
     "output_type": "stream",
     "text": [
      "\r",
      " 51%|█████████████████████████████████████████▊                                        | 51/100 [00:14<00:13,  3.69it/s]"
     ]
    },
    {
     "name": "stdout",
     "output_type": "stream",
     "text": [
      "in chem. dammit dont they understand that there is more to me than my f * cking gpa!!!!!!!!!!!!! arrr... - lrb - venting blog remember - rrb - but anyways. i want to go skate again. that was so much fun, even by myself. it was great. i must admit i am a loner skater. but that's fine cuz it lets me skate without the psychological pressure of trying to impress your friends. well anywho, enjoy my posts thus far, leave a comment or two, then\n",
      "##88888888888888888888888888888888888888888888888888888888888888888888888888888888888888888888888888888888888888888888888888888888\n"
     ]
    },
    {
     "name": "stderr",
     "output_type": "stream",
     "text": [
      "\r",
      " 52%|██████████████████████████████████████████▋                                       | 52/100 [00:15<00:13,  3.69it/s]"
     ]
    },
    {
     "name": "stdout",
     "output_type": "stream",
     "text": [
      "me it was just depressing and a little strange. i didnt enjoy it that much, it was okay... there are these [UNK] of two cows by my house, because the department of [UNK] is there. and they dress them up like every holiday or whatnot. im driving past and i see these cows with like hot pink dixie cups on their eyes and these gas mask type things on, and it freaked the heck outta me, it took me a while to figure out what they were dressed up as.... - lrb - they are dressed as cicades, if you cant tell - rrb -\n",
      "##88888888888888888888888888888888888888888888888888888888888888888888888888888888888888888888888888888888888888888888888888888888\n"
     ]
    },
    {
     "name": "stderr",
     "output_type": "stream",
     "text": [
      "\r",
      " 53%|███████████████████████████████████████████▍                                      | 53/100 [00:15<00:12,  3.69it/s]"
     ]
    },
    {
     "name": "stdout",
     "output_type": "stream",
     "text": [
      "to me while i was waiting for my luggage and we left the airport and went to a hotel... well we got to the hotel room and decided we were hungry so we begged a papa johns guy for pizza and he agreed but then we got lost so it was funny as hell! we ended up finding the place and went back to the hotel room... and just layed down and decided to call it a night... i had a loooong day! \" the world is running out of geniuses : einstein died, beethoven went deaf and i'm starting to have a migraine. \" by unknown author\n",
      "##88888888888888888888888888888888888888888888888888888888888888888888888888888888888888888888888888888888888888888888888888888888\n"
     ]
    },
    {
     "name": "stderr",
     "output_type": "stream",
     "text": [
      "\r",
      " 54%|████████████████████████████████████████████▎                                     | 54/100 [00:15<00:12,  3.70it/s]"
     ]
    },
    {
     "name": "stdout",
     "output_type": "stream",
     "text": [
      "lrb - well, as of last season - rrb -. his excellent string of starts after his name came up in trade talks only does more to make me question his fortitude and heart. while i think he could be a good pitcher and his deal, over zambrano's, makes me cringe less if they can sign him to the long term, i still think it's foolish to rush and get benson now as opposed to waiting until the offseason to sign him. listen. benson's agent knows the bind the mets are in right now, as far as the mets having to sign him long term\n",
      "##88888888888888888888888888888888888888888888888888888888888888888888888888888888888888888888888888888888888888888888888888888888\n"
     ]
    },
    {
     "name": "stderr",
     "output_type": "stream",
     "text": [
      "\r",
      " 55%|█████████████████████████████████████████████                                     | 55/100 [00:15<00:12,  3.70it/s]"
     ]
    },
    {
     "name": "stdout",
     "output_type": "stream",
     "text": [
      "- lrb - former boss - rrb - is trying to kill me. \" me, \" excuse me? \" cp : \" a is trying to kill me. \" me : \" i see. so how's are you doing cp? \" he proceeded to tell me about how he got fired. the director of the chem building came into the lab one day, saw the baby, and told cp that he couldn't bring the baby to lab. the director came back to the lab another time, saw the mattress, and told cp he couldn't have a mattress in lab. cp pleaded his case that\n",
      "##88888888888888888888888888888888888888888888888888888888888888888888888888888888888888888888888888888888888888888888888888888888\n"
     ]
    },
    {
     "name": "stderr",
     "output_type": "stream",
     "text": [
      "\r",
      " 56%|█████████████████████████████████████████████▉                                    | 56/100 [00:16<00:11,  3.70it/s]"
     ]
    },
    {
     "name": "stdout",
     "output_type": "stream",
     "text": [
      "much for votin'yes to allow me in and those that voted no... thanks anyway. so anywho the pool thing sounds like fun but i am dreadfully confused. who's house? emily's or tori's??? well the one thing i know is that it won't be at my house on account of the fact that if anybody wanted to swim... it would be in my bathtub. well best of luck to whoever figures this out. i will come though... where ever and whenever it may be. so that is all for now. cheerio, kelsey\n",
      "##88888888888888888888888888888888888888888888888888888888888888888888888888888888888888888888888888888888888888888888888888888888\n"
     ]
    },
    {
     "name": "stderr",
     "output_type": "stream",
     "text": [
      "\r",
      " 57%|██████████████████████████████████████████████▋                                   | 57/100 [00:16<00:11,  3.70it/s]"
     ]
    },
    {
     "name": "stdout",
     "output_type": "stream",
     "text": [
      "rrb - school, girls go to the > library to borrow their favourite romance > storybook. in secondary school, girls altered > their school skirt to shorten it and guys will go > to the school appointed school uniform [UNK] shop > to [UNK] make their school trousers to the then > fashionable \" baggy pants \", or the gq one with all > the'batik'or buckle at the edge of the pocket! > the straight cut jeans.. or codroy... in secondary > school days, you buy the bata bm turbo school > shoes. some guys like to wear those china made > ankle\n",
      "##88888888888888888888888888888888888888888888888888888888888888888888888888888888888888888888888888888888888888888888888888888888\n"
     ]
    },
    {
     "name": "stderr",
     "output_type": "stream",
     "text": [
      "\r",
      " 58%|███████████████████████████████████████████████▌                                  | 58/100 [00:16<00:11,  3.71it/s]"
     ]
    },
    {
     "name": "stdout",
     "output_type": "stream",
     "text": [
      "friends wedding. i stayed in a mansion - lrb - no joke, [UNK] the square footage, 10 of my apartments could fit into this place, not counting the 8, 000 sq.. ft they rent out to another family, and they have a fucking pool room! a pool table with a room large enough to [UNK] it! - rrb -, played croquet, walked and talked out all of my problems with gilly, and in general was forced to embrace my inner wasp. the family i was staying with - lrb - the brides parents - rrb - are exactly the type of people i imagined when i\n",
      "##88888888888888888888888888888888888888888888888888888888888888888888888888888888888888888888888888888888888888888888888888888888\n"
     ]
    },
    {
     "name": "stderr",
     "output_type": "stream",
     "text": [
      "\r",
      " 59%|████████████████████████████████████████████████▍                                 | 59/100 [00:16<00:11,  3.70it/s]"
     ]
    },
    {
     "name": "stdout",
     "output_type": "stream",
     "text": [
      ", smooshed between two older ladies and pressed up against the dj's table. so i didn't have enough room to do some of the steps. i didn't want to run over those poor old bagels! anyway, here's some pictures of us yesterday. these weren't taken at the wedding, though. they were taken at dana's parents'home. after the reception was over, we stopped by to spend a little time with them and michelle. we were still dressed up so we had them snap a few photos for us before we changed into some more comfortable clothes. enjoy!\n",
      "##88888888888888888888888888888888888888888888888888888888888888888888888888888888888888888888888888888888888888888888888888888888\n"
     ]
    },
    {
     "name": "stderr",
     "output_type": "stream",
     "text": [
      "\r",
      " 60%|█████████████████████████████████████████████████▏                                | 60/100 [00:17<00:10,  3.70it/s]"
     ]
    },
    {
     "name": "stdout",
     "output_type": "stream",
     "text": [
      "all the flags are at half mast, the university is closed for the day - if they have their way it'll be for good soon enough - people have been going down to the presidential library in simi valley by the thousands all week. yet not many people here in the bay area are doing much in the way of mourning, as the man i grew up calling president raygun passes on. by any objective standard he was a great president - he promised a whole lot of things, and he delivered almost every last one of them. the only one he didn't pull off was eliminating the national debt... we all know\n",
      "##88888888888888888888888888888888888888888888888888888888888888888888888888888888888888888888888888888888888888888888888888888888\n"
     ]
    },
    {
     "name": "stderr",
     "output_type": "stream",
     "text": [
      "\r",
      " 61%|██████████████████████████████████████████████████                                | 61/100 [00:17<00:10,  3.70it/s]"
     ]
    },
    {
     "name": "stdout",
     "output_type": "stream",
     "text": [
      "in the car and came home. i had plantains and scrambled eggs for supper, took a shower, and came to bed. on monday, i woke up early and went to my aunts job, she's a dermatologist, and hung out with my cousin who works there. it was pretty cool. after that me and my aunt went to get info on unibe, the school where i'll be going to. it's sooooo nice. anyways, all i need is my transcript, which has been taken care of. that's basically everything interesting that's happened. til next time!\n",
      "##88888888888888888888888888888888888888888888888888888888888888888888888888888888888888888888888888888888888888888888888888888888\n"
     ]
    },
    {
     "name": "stderr",
     "output_type": "stream",
     "text": [
      "\r",
      " 62%|██████████████████████████████████████████████████▊                               | 62/100 [00:17<00:10,  3.70it/s]"
     ]
    },
    {
     "name": "stdout",
     "output_type": "stream",
     "text": [
      "seeing it and understanding it as \" ok \". not necessarily the best idea, but not [UNK] by our faith communities. and here's one more thing to know about that : she is southern baptist and i grew up in a liberal [UNK] congregation. in the south, that's a big difference. she started this whole conversation when things started to get really rough in her second marriage. she had dated this man when we were all in high school and college. they reconnected romantically about three years after her divorce. understand that they had maintained a friendship through the years. we have a very close - knit tribe of about 15\n",
      "##88888888888888888888888888888888888888888888888888888888888888888888888888888888888888888888888888888888888888888888888888888888\n"
     ]
    },
    {
     "name": "stderr",
     "output_type": "stream",
     "text": [
      "\r",
      " 63%|███████████████████████████████████████████████████▋                              | 63/100 [00:18<00:10,  3.70it/s]"
     ]
    },
    {
     "name": "stdout",
     "output_type": "stream",
     "text": [
      "this is my first blog. i'm guessing you are suppoosed to treat this as a diary. i know that people treat their diaries very differently, but mine is just a log of my thoughts. so if you find something insulting, i ask that you please forgive me. i live in minneapolis mn, i'm 15 years old, and i currently am going into 10th grade. i am dating a senior in highschool who i care for very much. i nicknamed him roo, quite teh oposite of him because he's 6'3 \" a foot taller them me. but i'm\n",
      "##88888888888888888888888888888888888888888888888888888888888888888888888888888888888888888888888888888888888888888888888888888888\n"
     ]
    },
    {
     "name": "stderr",
     "output_type": "stream",
     "text": [
      "\r",
      " 64%|████████████████████████████████████████████████████▍                             | 64/100 [00:18<00:09,  3.70it/s]"
     ]
    },
    {
     "name": "stdout",
     "output_type": "stream",
     "text": [
      "on each side un - worked so that's an important step. and, i suspect, the trickiest part of converting this pattern. after this it's a piece of cake. for the side shaping, i simply did a double decrease - lrb - there's directions here - rrb - at the side markers. i used sl 2, k1, p2sso, but if i had it to do over again i'd have used ssk - k1 - k2tog instead since it would have matched better with the increases. for the increases, just increase on either side of the markers. here\n",
      "##88888888888888888888888888888888888888888888888888888888888888888888888888888888888888888888888888888888888888888888888888888888\n"
     ]
    },
    {
     "name": "stderr",
     "output_type": "stream",
     "text": [
      "\r",
      " 65%|█████████████████████████████████████████████████████▎                            | 65/100 [00:18<00:09,  3.69it/s]"
     ]
    },
    {
     "name": "stdout",
     "output_type": "stream",
     "text": [
      "we have to spend it with pace is enough to throw - up over. why? why so slow? we can at least go up to speed if we know the notes... right? last time i checked, you go slow when we first get the song so you don't mess up. after you have it for a few days we can kinda sorta maybe start to push the tempo a nudge, eh? oh well, i'm tired... again. jen's comming over on sunday. good times will be made. hopefuly... if she ever gets around to asking her dad\n",
      "##88888888888888888888888888888888888888888888888888888888888888888888888888888888888888888888888888888888888888888888888888888888\n"
     ]
    },
    {
     "name": "stderr",
     "output_type": "stream",
     "text": [
      "\r",
      " 66%|██████████████████████████████████████████████████████                            | 66/100 [00:18<00:09,  3.69it/s]"
     ]
    },
    {
     "name": "stdout",
     "output_type": "stream",
     "text": [
      "hey guys! how's it goin? yeh, goin great here too! well, i'm still in georgia.. but, comin home sunday - lrb - tomorrow - rrb -! yay.. i'm excited! i talked to abbey today! gah, i miss her soo much! i won't get to see her until like, the 30th though... which really sucks! i hung out with rachel night before last.. love ya chik!... that was funn! went to stone mountain tuesday with a bunch of friends... and did n\n",
      "##88888888888888888888888888888888888888888888888888888888888888888888888888888888888888888888888888888888888888888888888888888888\n"
     ]
    },
    {
     "name": "stderr",
     "output_type": "stream",
     "text": [
      "\r",
      " 67%|██████████████████████████████████████████████████████▉                           | 67/100 [00:19<00:08,  3.69it/s]"
     ]
    },
    {
     "name": "stdout",
     "output_type": "stream",
     "text": [
      "hmm.. i know that now is very late and i am suppose to be in my bed sleeping. but i just feel like stay up late tonite. my uncle told me i am going to thailand during my big holiday but i heard my dad and mum says that he had cancel the tickets liao cos it is very ex. well, anyway i dun care too cos i plan to go perth. haha.. i gon na miss my aunt over there. haix.. i cant wait for this r to end. i feel ver arkward when we met each other. haha.. but\n",
      "##88888888888888888888888888888888888888888888888888888888888888888888888888888888888888888888888888888888888888888888888888888888\n"
     ]
    },
    {
     "name": "stderr",
     "output_type": "stream",
     "text": [
      "\r",
      " 68%|███████████████████████████████████████████████████████▊                          | 68/100 [00:19<00:08,  3.69it/s]"
     ]
    },
    {
     "name": "stdout",
     "output_type": "stream",
     "text": [
      "today my eye appointment was delayed until 3 : 15 p. m. tomorrow. jeffy came to get me at about 4 : 30. i don't know when we left, but i showered at their house and then went out to dinner with my parents. afterwards, my mom and i went to wal - mart. i was in the magazine department when a very drool - worthy guy walked past me, smiled, and said hi. i shyly said hi back.... i know, real smooth, jeeze i guess i'm lucky that my jaw didn't drop. a very touchy\n",
      "##88888888888888888888888888888888888888888888888888888888888888888888888888888888888888888888888888888888888888888888888888888888\n"
     ]
    },
    {
     "name": "stderr",
     "output_type": "stream",
     "text": [
      "\r",
      " 69%|████████████████████████████████████████████████████████▌                         | 69/100 [00:19<00:08,  3.69it/s]"
     ]
    },
    {
     "name": "stdout",
     "output_type": "stream",
     "text": [
      "hello, today has been a quiet day. i have finished making the bag holder doll for ray's mom. she has lung cancer and isn't doing to well lately. we well be going up there to visit on the fourth of july. it rained a little here today. my dog abby and i will go for a walk later when it cools down. when its a quiet day like this i think about the past and worry about the future. today i was thinking about my late husband. trying to remember what he sounded like. ray my boyfriend didn't come home after work like he has always done on mondays\n",
      "##88888888888888888888888888888888888888888888888888888888888888888888888888888888888888888888888888888888888888888888888888888888\n"
     ]
    },
    {
     "name": "stderr",
     "output_type": "stream",
     "text": [
      "\r",
      " 70%|█████████████████████████████████████████████████████████▍                        | 70/100 [00:19<00:08,  3.69it/s]"
     ]
    },
    {
     "name": "stdout",
     "output_type": "stream",
     "text": [
      "? \" \" because she is wrong. \" genya shook her head and tears came into her eyes. \" how incomprehensible that is! \" she said. at that minute lida had just returned from somewhere, and standing with a whip in her hand, a slim, beautiful figure in the sunlight, at the steps, she was giving some orders to one of the men. talking loudly, she hurriedly received two or three sick villagers ; then with a busy and anxious face she walked about the rooms, opening one cupboard after another, and went upstairs. it was a long time before they could find her and call her to\n",
      "##88888888888888888888888888888888888888888888888888888888888888888888888888888888888888888888888888888888888888888888888888888888\n"
     ]
    },
    {
     "name": "stderr",
     "output_type": "stream",
     "text": [
      "\r",
      " 71%|██████████████████████████████████████████████████████████▏                       | 71/100 [00:20<00:07,  3.69it/s]"
     ]
    },
    {
     "name": "stdout",
     "output_type": "stream",
     "text": [
      "my conversations with my ex became more and more \" [UNK] \" by his new wife. how could i make her undestand i didn't want him anymore and that too much had happened for me to ever want him again? now that's not to say i don't still wonder about what life would be like if we had not gone thru the big \" d \" and how much i still love the man he used to be. or should i say, the man i thought he was. but who he's become now, is a man i trust no further than i can throw him ; a man who still\n",
      "##88888888888888888888888888888888888888888888888888888888888888888888888888888888888888888888888888888888888888888888888888888888\n"
     ]
    },
    {
     "name": "stderr",
     "output_type": "stream",
     "text": [
      "\r",
      " 72%|███████████████████████████████████████████████████████████                       | 72/100 [00:20<00:07,  3.69it/s]"
     ]
    },
    {
     "name": "stdout",
     "output_type": "stream",
     "text": [
      "[UNK] [UNK] and his cronies have [UNK]d the school. posters will be popping up all over the place any moment. there's a meeting this week, neal, max, me and any other m3r members that are interested are going to [UNK] it, report back and bring down these bastards from the inside. only then will we know [UNK]'s true identity, and the [UNK] of our enemies inside the school. this is not to attack liberal supporters, but to actually join the young liberals requires a level of depravity beyond human understanding. my grandparents are liberal voters and very nice people but they have no souls!!\n",
      "##88888888888888888888888888888888888888888888888888888888888888888888888888888888888888888888888888888888888888888888888888888888\n"
     ]
    },
    {
     "name": "stderr",
     "output_type": "stream",
     "text": [
      "\r",
      " 73%|███████████████████████████████████████████████████████████▊                      | 73/100 [00:20<00:07,  3.69it/s]"
     ]
    },
    {
     "name": "stdout",
     "output_type": "stream",
     "text": [
      "both times i've been there. i first went there when i was about 8 years old. i lived in ct, and my parents and i went there on a day trip. we went to a restaurant in boston where a waiter dropped a tray of beer on my little bitty 8 year old head, and as i remember, he was kind of a dick about it. the second time i went there was this summer with eco on our way to iceland. we got up early and drove to boston from vermont ; we were looking forward to spending the day there. the problem was that we got lost, and the locals were no help\n",
      "##88888888888888888888888888888888888888888888888888888888888888888888888888888888888888888888888888888888888888888888888888888888\n"
     ]
    },
    {
     "name": "stderr",
     "output_type": "stream",
     "text": [
      "\r",
      " 74%|████████████████████████████████████████████████████████████▋                     | 74/100 [00:21<00:07,  3.69it/s]"
     ]
    },
    {
     "name": "stdout",
     "output_type": "stream",
     "text": [
      "city lovers. it was a cruel, sad and very funny episode. samantha and her boyfriend, handsome as [UNK], are getting really hot with each other until samantha breathlessly pleads for him to put it in, and back comes his answer \" it is in \". samantha's face is a picture of disappointment, pain, confusion, desperation and, when she [UNK] her story to her three friends, she asks the same question as you. \" how can i stay with a man whose penis i can't feel? \" and, if it helps to remind you, samantha - after a few more attempts at satisfaction - leaves.\n",
      "##88888888888888888888888888888888888888888888888888888888888888888888888888888888888888888888888888888888888888888888888888888888\n"
     ]
    },
    {
     "name": "stderr",
     "output_type": "stream",
     "text": [
      "\r",
      " 75%|█████████████████████████████████████████████████████████████▌                    | 75/100 [00:21<00:06,  3.68it/s]"
     ]
    },
    {
     "name": "stdout",
     "output_type": "stream",
     "text": [
      "out there. my suggestion is to get in the habit of using them. they will decompiling your browsing forever. themeing - lrb - read : skinning - rrb - gives you flexibility that ie can not do without a third part app. they also [UNK] and improved the website that has all new themes on it. i generally been using firefox without any extents. this is the first version i ventured to using some. i have to admit, i'm not too sure why i haven't been using the googlebar before. now i need it on all computers i do research on. its\n",
      "##88888888888888888888888888888888888888888888888888888888888888888888888888888888888888888888888888888888888888888888888888888888\n"
     ]
    },
    {
     "name": "stderr",
     "output_type": "stream",
     "text": [
      "\r",
      " 76%|██████████████████████████████████████████████████████████████▎                   | 76/100 [00:21<00:06,  3.69it/s]"
     ]
    },
    {
     "name": "stdout",
     "output_type": "stream",
     "text": [
      ". that s history but the sad legacy continues. the greatest oxymoron to ever strike the planet is hr - initiative. one such initiative, in a famous [UNK]n [UNK] co, aimed at improving the quality of food at lunch. the result was stupendous. people really liked the food but they strongly felt they would rather appreciate if they could eat it as well. very aptly put indeed. food is better off if it suits the gourmet s palate rather than resembling an aftermath of picasso s colourful [UNK]. and then there are some who devote a lifetime [UNK] in these torture techniques. growing horns, a pointed\n",
      "##88888888888888888888888888888888888888888888888888888888888888888888888888888888888888888888888888888888888888888888888888888888\n"
     ]
    },
    {
     "name": "stderr",
     "output_type": "stream",
     "text": [
      "\r",
      " 77%|███████████████████████████████████████████████████████████████▏                  | 77/100 [00:21<00:06,  3.69it/s]"
     ]
    },
    {
     "name": "stdout",
     "output_type": "stream",
     "text": [
      "i know i have been slacking about writing on here. i am busy. since i am the great complainer, i will begin. pk doesn't treat me right. i don't see how he can say he loves me and still treat me how he does. each time he blows up at me, the easier it is for me to not like him. i am not perfect, i do things to him too. i know i probably annoy the hell out of him, well that's what he acts like anyway. i pay the bills and he pays the morgage. well, the bills\n",
      "##88888888888888888888888888888888888888888888888888888888888888888888888888888888888888888888888888888888888888888888888888888888\n"
     ]
    },
    {
     "name": "stderr",
     "output_type": "stream",
     "text": [
      "\r",
      " 78%|███████████████████████████████████████████████████████████████▉                  | 78/100 [00:22<00:05,  3.69it/s]"
     ]
    },
    {
     "name": "stdout",
     "output_type": "stream",
     "text": [
      "backpressure to a minimum. how does a claimed 150 [UNK] at 5000 rpm and 195 foot - pounds at 3000 rpm sound to you? the engine is so mildly built that it can even run on 87 - octane gas. the after [UNK] helps the w3 put the power to the pavement. a [UNK] \" clutchzilla \" [UNK] the [UNK] to a jim's five - speed transmission. a modified dyna frame wraps around the big engine. the front of the downtubes were [UNK], and the fork was [UNK] out to 34 degrees, giving the third [UNK] a little breathing room. famed customizer jesse james of west coast\n",
      "##88888888888888888888888888888888888888888888888888888888888888888888888888888888888888888888888888888888888888888888888888888888\n"
     ]
    },
    {
     "name": "stderr",
     "output_type": "stream",
     "text": [
      "\r",
      " 79%|████████████████████████████████████████████████████████████████▊                 | 79/100 [00:22<00:05,  3.69it/s]"
     ]
    },
    {
     "name": "stdout",
     "output_type": "stream",
     "text": [
      "well, i had a story for last night, but it was before the ditch incident. so, i would like to use tonight's entry to tell that story. monday night is now guy's night. we decided to change it to that title because we sometimes play pool or other activities besides cards. so we started out the night watching storm of the century - lrb - which we all know i finished watching the next morning - rrb -. then paul and i made a run to oregon - lrb - paul is a much better driver in snowy conditions, btw - rrb -. upon returning, we then started\n",
      "##88888888888888888888888888888888888888888888888888888888888888888888888888888888888888888888888888888888888888888888888888888888\n"
     ]
    },
    {
     "name": "stderr",
     "output_type": "stream",
     "text": [
      "\r",
      " 80%|█████████████████████████████████████████████████████████████████▌                | 80/100 [00:22<00:05,  3.68it/s]"
     ]
    },
    {
     "name": "stdout",
     "output_type": "stream",
     "text": [
      "i could get past the stupid sand level... ooh, pokemon leafgreen and firered... i knew that they would have to let you bring the old pokemon into ruby and [UNK]. but the names are stupid. leafgreen and firered. uhm, yay. anyway, i've also got about 10 new items in my deleted items folder. - lrb - i send junk mail straight there... or at least i try to. meh. so, i think that's enough ranting for today. i need to go huggle my dog now. ts [UNK]s!\n",
      "##88888888888888888888888888888888888888888888888888888888888888888888888888888888888888888888888888888888888888888888888888888888\n"
     ]
    },
    {
     "name": "stderr",
     "output_type": "stream",
     "text": [
      "\r",
      " 81%|██████████████████████████████████████████████████████████████████▍               | 81/100 [00:22<00:05,  3.68it/s]"
     ]
    },
    {
     "name": "stdout",
     "output_type": "stream",
     "text": [
      "happy... anyways, i watched king arthur today... not all that great but its nice na rin i guess... other from that it was a typical saturday afternoon... quiet... boring... i was supposed to get my grad picture taken... kaso nga lang the line was mahaba so i decided to take it nalng next week... curiously, everyone was looking at my shirt... for what reason, i don't know... anywaysgotta eat dinner na... tc guys... chill...\n",
      "##88888888888888888888888888888888888888888888888888888888888888888888888888888888888888888888888888888888888888888888888888888888\n"
     ]
    },
    {
     "name": "stderr",
     "output_type": "stream",
     "text": [
      "\r",
      " 82%|███████████████████████████████████████████████████████████████████▏              | 82/100 [00:23<00:04,  3.68it/s]"
     ]
    },
    {
     "name": "stdout",
     "output_type": "stream",
     "text": [
      "there. the town was called sta. maria de zacatepe, [UNK]. after 2 days of being here i got to get the hang of it. i liked it alot. the first two days i didn't feel like doing anything. i was all sad and depressed because i didnt get to talk to person i wanted to talk to. then the next day i went to my aunt's house and i hung out with my cousin whose name was tania. she was my best friend, she was my favorite cousin, she was the person i admired the most. i loved her just as much as my aunt\n",
      "##88888888888888888888888888888888888888888888888888888888888888888888888888888888888888888888888888888888888888888888888888888888\n"
     ]
    },
    {
     "name": "stderr",
     "output_type": "stream",
     "text": [
      "\r",
      " 83%|████████████████████████████████████████████████████████████████████              | 83/100 [00:23<00:04,  3.69it/s]"
     ]
    },
    {
     "name": "stdout",
     "output_type": "stream",
     "text": [
      ", i called in sick. not 10 minutes later, i got a speeding ticket. instant karma. after getting my license back from the cop, i threw it into the console of my car. - lrb - this will play a role in a future story - rrb -. we had a great time the rest of thursday. [UNK] won and the parties in manhattan were great. on friday, i called in sick from my hotel. another fantastic day in new york, [UNK] won again and advanced to the finals against chris mu [UNK]'st johns redmen. on saturday morning, a friend called and said we had a problem. my\n",
      "##88888888888888888888888888888888888888888888888888888888888888888888888888888888888888888888888888888888888888888888888888888888\n"
     ]
    },
    {
     "name": "stderr",
     "output_type": "stream",
     "text": [
      "\r",
      " 84%|████████████████████████████████████████████████████████████████████▉             | 84/100 [00:23<00:04,  3.69it/s]"
     ]
    },
    {
     "name": "stdout",
     "output_type": "stream",
     "text": [
      "now 10 years later i faced the prospect of history repeating. but this time there was no other child and no wife to lean on, just a 35 year - old grandson. life is funny that way. so i rolled the dice and lied to my grandfather and my other grandparents about having to take a sudden business trip. it was april 30th and i caught an early morning flight to new jersey. i got on a plane not knowing if my father would still be living when i arrived and the knowledge of all of the responsibilities left behind. three grandparents, a pregnant wife, three year - old son and two younger sisters. ahead i had my\n",
      "##88888888888888888888888888888888888888888888888888888888888888888888888888888888888888888888888888888888888888888888888888888888\n"
     ]
    },
    {
     "name": "stderr",
     "output_type": "stream",
     "text": [
      "\r",
      " 85%|█████████████████████████████████████████████████████████████████████▋            | 85/100 [00:24<00:04,  3.69it/s]"
     ]
    },
    {
     "name": "stdout",
     "output_type": "stream",
     "text": [
      "well the day is here, thank fuck! and i voted! i am surprised as you are that i did go and vote... but i figure i should since it is my duty of a canadian, and shit like that. i went into the poll having no idea who to vote for, and i left not knowing who i voted for! lol i did e nee me nee miney mo, and it landed on a person i knew for sure i did not want to vote for, so i tried an other approach... closing my eyes and pointing to a party on the list... my equilibrium must be off\n",
      "##88888888888888888888888888888888888888888888888888888888888888888888888888888888888888888888888888888888888888888888888888888888\n"
     ]
    },
    {
     "name": "stderr",
     "output_type": "stream",
     "text": [
      "\r",
      " 86%|██████████████████████████████████████████████████████████████████████▌           | 86/100 [00:24<00:03,  3.68it/s]"
     ]
    },
    {
     "name": "stdout",
     "output_type": "stream",
     "text": [
      "them that there's already a solution in place. for example, what sentence would you rather hear? \" aaaaaaahhhhhhh, the building's on fire!!!! \" or \" aaaaaaahhhhhhh, the building's on fire and the fire department has been called... please follow me to the [UNK]!!!! \" you decide. oh, by the way, the coworker wanted me to tell them about the problem because they \" didn't know what was going on and didn't want to sound dumb on the phone. \" shoot me,\n",
      "##88888888888888888888888888888888888888888888888888888888888888888888888888888888888888888888888888888888888888888888888888888888\n"
     ]
    },
    {
     "name": "stderr",
     "output_type": "stream",
     "text": [
      "\r",
      " 87%|███████████████████████████████████████████████████████████████████████▎          | 87/100 [00:24<00:03,  3.69it/s]"
     ]
    },
    {
     "name": "stdout",
     "output_type": "stream",
     "text": [
      "a big family playdate / picnic. faith had lots of fun playing on big slides and spring seesaws and hanging out on the swing when she got tired. we did a ton of grocery shopping at marina because it was double coupon day - lrb - buy $ 80 of stuff and get $ 16 back as discount at their deli - rrb - in honor of father's day, and because we hadn't shopped there for months. we tried to eat out on father's day but the restaurant we wanted to try had not opened yet.. though the scheduled grand opening was june 10! so we\n",
      "##88888888888888888888888888888888888888888888888888888888888888888888888888888888888888888888888888888888888888888888888888888888\n"
     ]
    },
    {
     "name": "stderr",
     "output_type": "stream",
     "text": [
      "\r",
      " 88%|████████████████████████████████████████████████████████████████████████▏         | 88/100 [00:24<00:03,  3.68it/s]"
     ]
    },
    {
     "name": "stdout",
     "output_type": "stream",
     "text": [
      "tom said so \". even though he has the brain to mention it's a ridiculous idea like making up a coat of arm, but he still follows the order, because who knows what will happen to him if a slave doesnt obey a white man's order. but i understand where you come from. i also felt very weird these things were happening, but lots of weird things happen back then, a lot of things today would consider very very sick and unbearble... so in trusting twain's realism style of writing, i have to just interpret what i can about the society from twain's words.\n",
      "##88888888888888888888888888888888888888888888888888888888888888888888888888888888888888888888888888888888888888888888888888888888\n"
     ]
    },
    {
     "name": "stderr",
     "output_type": "stream",
     "text": [
      "\r",
      " 89%|████████████████████████████████████████████████████████████████████████▉         | 89/100 [00:25<00:02,  3.68it/s]"
     ]
    },
    {
     "name": "stdout",
     "output_type": "stream",
     "text": [
      "m going to try and get a little bank roll and hit the $ 2 - $ 4 game for a couple hours. on sunday, i hope to find a game somewhere, but nothing is showing so far. and then on monday, we're having our senior skip day, and what better to celebrate 9 days of school left with a little poker. i'm scheduling a tournament, $ 10 buy - in with a $ 10 add - on or a $ 10 re - buy. my friends tend to like this setup, with everyone getting the same amount of chips. blinds will raise every 45 minutes, to make sure the game does\n",
      "##88888888888888888888888888888888888888888888888888888888888888888888888888888888888888888888888888888888888888888888888888888888\n"
     ]
    },
    {
     "name": "stderr",
     "output_type": "stream",
     "text": [
      "\r",
      " 90%|█████████████████████████████████████████████████████████████████████████▊        | 90/100 [00:25<00:02,  3.68it/s]"
     ]
    },
    {
     "name": "stdout",
     "output_type": "stream",
     "text": [
      "as the gop's lapdog. rather, being the gop's lapdog was a result of being slaves to sensationalism, of having all the insight of a rotting shoe, and most especially, of really, really sucking at their job. - lrb - along with being spineless worms, as i may have mentioned. - rrb - but as the band smashmouth said regarding the 60's cultural revolution - lrb - which had a long hangover period, convincing many of us that the spirit that tried to squash it was gone forever - rrb - : \" this is a love attack, i\n",
      "##88888888888888888888888888888888888888888888888888888888888888888888888888888888888888888888888888888888888888888888888888888888\n"
     ]
    },
    {
     "name": "stderr",
     "output_type": "stream",
     "text": [
      "\r",
      " 91%|██████████████████████████████████████████████████████████████████████████▌       | 91/100 [00:25<00:02,  3.68it/s]"
     ]
    },
    {
     "name": "stdout",
     "output_type": "stream",
     "text": [
      "aaaaaaaarrrgh!!! i'm ready to pack up all my sweet dragons and simply leave!!! maybe find a small deserted island somewhere or get my own cave in some remote mountain. human beings are nothing short of amazing! someone's being mean to you so of course you do the most logical thing you can think of : being mean to someone else! right! someone's pissing you off and you simply have to try chasing everyone who're trying to help you away. fine, go ahead, why should i care... * bangs head into wall until neighbour starts complaining * dvd of\n",
      "##88888888888888888888888888888888888888888888888888888888888888888888888888888888888888888888888888888888888888888888888888888888\n"
     ]
    },
    {
     "name": "stderr",
     "output_type": "stream",
     "text": [
      "\r",
      " 92%|███████████████████████████████████████████████████████████████████████████▍      | 92/100 [00:25<00:02,  3.68it/s]"
     ]
    },
    {
     "name": "stdout",
     "output_type": "stream",
     "text": [
      "i'm on fire just two days after getting accepted to concordia, the nice folks at the toronto star informed me that i am no longer a temp. they have decided to hire me as a permanent employee. wowee zowee. a bit of a surprise, considering that they were feeling unsure about me less than three months ago... anyway, this means that i now have job security, health benefits - lrb - work with benefits = friend with benefits, but way way cooler - rrb -, some say in what my schedule looks like, paid vacations, and i am no longer on contract. which is\n",
      "##88888888888888888888888888888888888888888888888888888888888888888888888888888888888888888888888888888888888888888888888888888888\n"
     ]
    },
    {
     "name": "stderr",
     "output_type": "stream",
     "text": [
      "\r",
      " 93%|████████████████████████████████████████████████████████████████████████████▎     | 93/100 [00:26<00:01,  3.69it/s]"
     ]
    },
    {
     "name": "stdout",
     "output_type": "stream",
     "text": [
      "##rb - girl / guy - rrb - : grant _ _ _ _ _ _ _ rewind _ _ _ _ _ _ _ - lsb - x - rsb - most memorable memory : n / a - lsb - x - rsb - worst recently? : n / a - lsb - x - rsb - first word uttered : \" bwah \" - lsb - x - rsb - first bestfriend ever!? : tyler _ _ _ _ _ _ _ fast forward _ _ _ _ _ _ _ - lsb - x - rsb - college planning to go to : ivy\n",
      "##88888888888888888888888888888888888888888888888888888888888888888888888888888888888888888888888888888888888888888888888888888888\n"
     ]
    },
    {
     "name": "stderr",
     "output_type": "stream",
     "text": [
      "\r",
      " 94%|█████████████████████████████████████████████████████████████████████████████     | 94/100 [00:26<00:01,  3.68it/s]"
     ]
    },
    {
     "name": "stdout",
     "output_type": "stream",
     "text": [
      "what do you want to be when you grow up : digital graphics person... photographer... journalist... web designer... haven't quite narrowed it down yet 67. define true love : someone you can feel totally comfortable with 68. hugs or kisses? : depends on who's giving 69. favorite day of the week : saturday 70. who was the last person you received mail from : something that wasn't a forward... ld 71. bedtime : depends on when i wan na get up... but usually as late as possibly 72. time finished : 10 : 46\n",
      "##88888888888888888888888888888888888888888888888888888888888888888888888888888888888888888888888888888888888888888888888888888888\n"
     ]
    },
    {
     "name": "stderr",
     "output_type": "stream",
     "text": [
      "\r",
      " 95%|█████████████████████████████████████████████████████████████████████████████▉    | 95/100 [00:26<00:01,  3.68it/s]"
     ]
    },
    {
     "name": "stdout",
     "output_type": "stream",
     "text": [
      "##irl. i look back, and there is no negative energy. but... no, i'm going to have to make a slightly negative post. it's not really negative, because the fact i could do something like this just makes me love andrew even more, and the fact that he negated everything i said makes me want to cry tears of joy. so... a blow by blow, if you will. there's so much to talk about, actually, that i'll never be able to write it all down. but i love him more than ever. i do. he is the one\n",
      "##88888888888888888888888888888888888888888888888888888888888888888888888888888888888888888888888888888888888888888888888888888888\n"
     ]
    },
    {
     "name": "stderr",
     "output_type": "stream",
     "text": [
      "\r",
      " 96%|██████████████████████████████████████████████████████████████████████████████▋   | 96/100 [00:26<00:01,  3.68it/s]"
     ]
    },
    {
     "name": "stdout",
     "output_type": "stream",
     "text": [
      "##rb - i wouldn't, but that's because i'm rather against spending money unless you have some which i don't - rrb -. and at only 19 mb it's mind - blowingly cool. you have a position on a map and you have a stationary tank. tank choices range from a atst walker from star wars to kenny from south park with a gun. you then adjust your [UNK] and power and try to shoot other tanks. you get money for winning, and you can buy better weapons and such. very cool, go check it out. scotty mchotty - out.\n",
      "##88888888888888888888888888888888888888888888888888888888888888888888888888888888888888888888888888888888888888888888888888888888\n"
     ]
    },
    {
     "name": "stderr",
     "output_type": "stream",
     "text": [
      "\r",
      " 97%|███████████████████████████████████████████████████████████████████████████████▌  | 97/100 [00:27<00:00,  3.69it/s]"
     ]
    },
    {
     "name": "stdout",
     "output_type": "stream",
     "text": [
      "4th shop.. wow! this is the place so cool.. hongguan call the shop owner \" brother \" i see his face like happy like that.. and hongguan bargin untill $ 65.. so i also follow ah.. \" hey brother... $ 60 can? please brother.. is nice... \" and it works!! it was sold to me at $ 60dollars!!! and so hongguan helped me to pay $ 20 1st cool sia... i hope no other place sell cheaper than tat.. at first, the bag look\n",
      "##88888888888888888888888888888888888888888888888888888888888888888888888888888888888888888888888888888888888888888888888888888888\n"
     ]
    },
    {
     "name": "stderr",
     "output_type": "stream",
     "text": [
      "\r",
      " 98%|████████████████████████████████████████████████████████████████████████████████▎ | 98/100 [00:27<00:00,  3.68it/s]"
     ]
    },
    {
     "name": "stdout",
     "output_type": "stream",
     "text": [
      "to happen. look how wrong i was. the morning sickness is really tripping me out. it starts the moment i become conscious in the morning. it slows at various times of the day but really never disappears. certain smells either intrigue me greatly or send me running for the bathroom - more often the later. pretzels, grapes, water. that's the extent of my diet at this time. i'm tired all the time, falling asleep around 9pm, if not earlier. i know my hormones are out of whack in general. doctor's appointment is june 8th at 10 : 00 am.\n",
      "##88888888888888888888888888888888888888888888888888888888888888888888888888888888888888888888888888888888888888888888888888888888\n"
     ]
    },
    {
     "name": "stderr",
     "output_type": "stream",
     "text": [
      "\r",
      " 99%|█████████████████████████████████████████████████████████████████████████████████▏| 99/100 [00:27<00:00,  3.67it/s]"
     ]
    },
    {
     "name": "stdout",
     "output_type": "stream",
     "text": [
      ": in my last entry, i said i'd rather distance myself from everybody. the thing is, i still need to know i'm appreciated and liked. anyway, sometimes i can't decide whether i want to be around people, but am just antisocial, or if its just that i would rather be alone. one thing that i have experienced earlier in my life, is being shy, and i still am today. a thing that a lot of people didn't understand, is that just because a person is shy doesn't mean they want to be left alone and'let to do their own\n",
      "##88888888888888888888888888888888888888888888888888888888888888888888888888888888888888888888888888888888888888888888888888888888\n"
     ]
    },
    {
     "name": "stderr",
     "output_type": "stream",
     "text": [
      "\r",
      "100%|█████████████████████████████████████████████████████████████████████████████████| 100/100 [00:28<00:00,  3.68it/s]"
     ]
    },
    {
     "name": "stdout",
     "output_type": "stream",
     "text": [
      "did get some really great stuff and i think her film will look pretty good. i also spent some time in carbondale on my layover to and from nashville. it was nice. i felt awkward at first being at the school i just left, but i got to see some old friends and i had a great time with them. i also got to go eat at quatros. which is the best pizza ever. i even had chocolate chip cheesecake. yum. one of my friends got a dui this weekend. i am usually really unsympathetic when people drink and drive and get caught, but i love\n",
      "##88888888888888888888888888888888888888888888888888888888888888888888888888888888888888888888888888888888888888888888888888888888\n"
     ]
    },
    {
     "name": "stderr",
     "output_type": "stream",
     "text": [
      "\r",
      "100%|█████████████████████████████████████████████████████████████████████████████████| 100/100 [00:28<00:00,  3.53it/s]"
     ]
    },
    {
     "name": "stdout",
     "output_type": "stream",
     "text": [
      "with my mom for me and he called the day i got in and told mehespent had spent valentines day at his sisters playing with his nephew because hecouldn't have imagined being with anyonebut me sohe stayed in. the last time we talked was earlyjune he was getting ready for graduation. soi was only 15 andididn't and still don'tknow anything at all about love and romance butit was that perfect week of my life. if we never talk again i'll be satisfied with how everythingwentand i'll be happy that it happened.\n",
      "##88888888888888888888888888888888888888888888888888888888888888888888888888888888888888888888888888888888888888888888888888888888\n"
     ]
    },
    {
     "name": "stderr",
     "output_type": "stream",
     "text": [
      "\n"
     ]
    },
    {
     "name": "stdout",
     "output_type": "stream",
     "text": [
      "Test Accuracy: 0.5353125\n",
      "Test Perplexity: 2.277333948288097\n",
      "Test Semantic Similarity: 0.1469321846961975\n",
      "\n"
     ]
    }
   ],
   "source": [
    "test(\n",
    "    test_dataloader,\n",
    "    {\n",
    "        'enc': encoder_model,\n",
    "        'cls': classifier_model,\n",
    "        'st': st_model,\n",
    "        'ppl': ppl_model,\n",
    "    },\n",
    "    {\n",
    "        'sim': criterion_similarity,\n",
    "        'cls': criterion_classification,\n",
    "        'ppl': criterion_perplexity,\n",
    "    }\n",
    ")"
   ]
  }
 ],
 "metadata": {
  "kernelspec": {
   "display_name": "Python 3 (ipykernel)",
   "language": "python",
   "name": "python3"
  },
  "language_info": {
   "codemirror_mode": {
    "name": "ipython",
    "version": 3
   },
   "file_extension": ".py",
   "mimetype": "text/x-python",
   "name": "python",
   "nbconvert_exporter": "python",
   "pygments_lexer": "ipython3",
   "version": "3.8.15"
  },
  "vscode": {
   "interpreter": {
    "hash": "1ecdeeea834996ab17c476b9c82385c086ccb21d059ebd3afa1913627f92baf1"
   }
  }
 },
 "nbformat": 4,
 "nbformat_minor": 2
}
