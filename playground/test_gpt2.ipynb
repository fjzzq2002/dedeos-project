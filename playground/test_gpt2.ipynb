{
 "cells": [
  {
   "cell_type": "code",
   "execution_count": 1,
   "metadata": {},
   "outputs": [],
   "source": [
    "%load_ext autoreload\n",
    "%autoreload 2"
   ]
  },
  {
   "cell_type": "code",
   "execution_count": 5,
   "metadata": {},
   "outputs": [],
   "source": [
    "import os\n",
    "import json\n",
    "import torch\n",
    "import pickle\n",
    "import random\n",
    "import math\n",
    "from tqdm import tqdm\n",
    "from torch import nn, optim\n",
    "from torch.utils.data import DataLoader\n",
    "from sentence_transformers import SentenceTransformer, util\n",
    "\n",
    "import load_data\n",
    "from load_data import GenderDataset, gender_data_collate_fn\n",
    "from models.encoder_t5 import EncoderT5\n",
    "from models.classifier_bert import ClassifierBERT\n",
    "from models.similarity_sent_enc import encode_for_similarities"
   ]
  },
  {
   "cell_type": "code",
   "execution_count": 3,
   "metadata": {},
   "outputs": [],
   "source": [
    "from transformers import GPT2LMHeadModel, GPT2Config, GPT2Tokenizer\n",
    "\n",
    "tokenizer = GPT2Tokenizer.from_pretrained('gpt2')\n",
    "model = GPT2LMHeadModel.from_pretrained('gpt2')"
   ]
  },
  {
   "cell_type": "code",
   "execution_count": 21,
   "metadata": {},
   "outputs": [
    {
     "name": "stdout",
     "output_type": "stream",
     "text": [
      "[('weight', Parameter containing:\n",
      "tensor([[-0.1101, -0.0393,  0.0331,  ..., -0.1364,  0.0151,  0.0453],\n",
      "        [ 0.0403, -0.0486,  0.0462,  ...,  0.0861,  0.0025,  0.0432],\n",
      "        [-0.1275,  0.0479,  0.1841,  ...,  0.0899, -0.1297, -0.0879],\n",
      "        ...,\n",
      "        [-0.0445, -0.0548,  0.0123,  ...,  0.1044,  0.0978, -0.0695],\n",
      "        [ 0.1860,  0.0167,  0.0461,  ..., -0.0963,  0.0785, -0.0225],\n",
      "        [ 0.0514, -0.0277,  0.0499,  ...,  0.0070,  0.1552,  0.1207]],\n",
      "       requires_grad=True))]\n"
     ]
    }
   ],
   "source": [
    "print(list(model.transformer.wte.named_parameters()))"
   ]
  },
  {
   "cell_type": "code",
   "execution_count": 42,
   "metadata": {},
   "outputs": [],
   "source": [
    "def calculatePerplexity(sentence, model, tokenizer):\n",
    "    input_ids = torch.tensor(tokenizer.encode(sentence)).unsqueeze(0) \n",
    "    input_ids = input_ids.to('cpu')\n",
    "    with torch.no_grad():\n",
    "        outputs = model(input_ids, labels=input_ids)\n",
    "    loss, logits = outputs[:2]\n",
    "    return math.exp(loss)"
   ]
  },
  {
   "cell_type": "code",
   "execution_count": 80,
   "metadata": {},
   "outputs": [],
   "source": [
    "def calculatePerplexityAlter(sentence, model, tokenizer):\n",
    "\n",
    "    input_ids = torch.tensor(tokenizer.encode(sentence)).unsqueeze(0) \n",
    "    input_ids = input_ids.to('cpu')\n",
    "    \n",
    "    with torch.no_grad():\n",
    "        outputs = model(input_ids, labels=input_ids)\n",
    "    loss, logits = outputs[:2]\n",
    "\n",
    "    shift_logits = logits[..., :-1, :].contiguous()\n",
    "\n",
    "    labels_logits = torch.zeros(1, len(input_ids[0]), tokenizer.vocab_size)\n",
    "    for i, label in enumerate(input_ids[0]):\n",
    "        labels_logits[0][i][label] = 1.0\n",
    "        print(i, label)        \n",
    "        print(logits[0][i][label])\n",
    "    shift_labels_logits = labels_logits[..., 1:, :].contiguous()\n",
    "\n",
    "    # Flatten the tokens\n",
    "    loss_fct = nn.CrossEntropyLoss()\n",
    "    print(input_ids, len(input_ids))\n",
    "    print(labels_logits.size())\n",
    "    print(shift_logits.size())\n",
    "    print(shift_labels_logits.size())\n",
    "    loss = loss_fct(shift_logits.view(-1, shift_logits.size(-1)), shift_labels_logits.view(-1, shift_labels_logits.size(-1)))\n",
    "    return math.exp(loss)"
   ]
  },
  {
   "cell_type": "code",
   "execution_count": 55,
   "metadata": {},
   "outputs": [],
   "source": [
    "def calculatePerplexity2(sentence1, sentence2, weight, model, tokenizer):\n",
    "    input_ids1 = torch.tensor(tokenizer.encode(sentence1)).unsqueeze(0) \n",
    "    input_ids2 = torch.tensor(tokenizer.encode(sentence2)).unsqueeze(0) \n",
    "    inputs_embeds1 = model.transformer.wte(input_ids1)\n",
    "    inputs_embeds2 = model.transformer.wte(input_ids2)\n",
    "    inputs_embeds = (inputs_embeds1 * weight + inputs_embeds2 * (1-weight)).to('cpu')\n",
    "    with torch.no_grad():\n",
    "        outputs = model(inputs_embeds=inputs_embeds, labels=input_ids2)\n",
    "    loss, logits = outputs[:2]\n",
    "    return math.exp(loss)"
   ]
  },
  {
   "cell_type": "code",
   "execution_count": 82,
   "metadata": {},
   "outputs": [],
   "source": [
    "def calculatePerplexity2Alter(sentence1, sentence2, weight, model, tokenizer):\n",
    "\n",
    "    input_ids1 = torch.tensor(tokenizer.encode(sentence1)).unsqueeze(0) \n",
    "    input_ids2 = torch.tensor(tokenizer.encode(sentence2)).unsqueeze(0) \n",
    "    inputs_embeds1 = model.transformer.wte(input_ids1)\n",
    "    inputs_embeds2 = model.transformer.wte(input_ids2)\n",
    "    inputs_embeds = (inputs_embeds1 * weight + inputs_embeds2 * (1-weight)).to('cpu')\n",
    "    \n",
    "    with torch.no_grad():\n",
    "        outputs = model(inputs_embeds=inputs_embeds, labels=input_ids2)\n",
    "    loss, logits = outputs[:2]\n",
    "\n",
    "    shift_logits = logits[..., :-1, :].contiguous()\n",
    "\n",
    "    labels_logits = torch.zeros(1, len(input_ids1[0]), tokenizer.vocab_size)\n",
    "    for i, label in enumerate(input_ids1[0]):\n",
    "        labels_logits[0][i][label] += weight\n",
    "    for i, label in enumerate(input_ids2[0]):\n",
    "        labels_logits[0][i][label] += (1-weight)\n",
    "    shift_labels_logits = labels_logits[..., 1:, :].contiguous()\n",
    "\n",
    "    # Flatten the tokens\n",
    "    loss_fct = nn.CrossEntropyLoss()\n",
    "    print(input_ids1, len(input_ids1))\n",
    "    print(input_ids2, len(input_ids2))\n",
    "    print(labels_logits.size())\n",
    "    print(shift_logits.size())\n",
    "    print(shift_labels_logits.size())\n",
    "    loss = loss_fct(shift_logits.view(-1, shift_logits.size(-1)), shift_labels_logits.view(-1, shift_labels_logits.size(-1)))\n",
    "    return math.exp(loss)"
   ]
  },
  {
   "cell_type": "code",
   "execution_count": 59,
   "metadata": {},
   "outputs": [],
   "source": [
    "t1 = \"I feel good today\"\n",
    "t2 = \"I feel bad today\"\n",
    "t3 = \"I good good today\"\n",
    "t4 = \"I bad bad today\""
   ]
  },
  {
   "cell_type": "code",
   "execution_count": 56,
   "metadata": {},
   "outputs": [],
   "source": [
    "t5 = \"I think this has became better\"\n",
    "t6 = \"I think this has become better\""
   ]
  },
  {
   "cell_type": "code",
   "execution_count": 60,
   "metadata": {},
   "outputs": [
    {
     "name": "stdout",
     "output_type": "stream",
     "text": [
      "319.5520239164024\n",
      "406.9546691785979\n"
     ]
    }
   ],
   "source": [
    "print(calculatePerplexity(t1, model, tokenizer))\n",
    "print(calculatePerplexity(t2, model, tokenizer))"
   ]
  },
  {
   "cell_type": "code",
   "execution_count": 81,
   "metadata": {},
   "outputs": [
    {
     "name": "stdout",
     "output_type": "stream",
     "text": [
      "0 tensor(40)\n",
      "tensor(-38.7881)\n",
      "1 tensor(1254)\n",
      "tensor(-110.9616)\n",
      "2 tensor(922)\n",
      "tensor(-97.1950)\n",
      "3 tensor(1909)\n",
      "tensor(-84.6861)\n",
      "tensor([[  40, 1254,  922, 1909]]) 1\n",
      "torch.Size([1, 4, 50257])\n",
      "torch.Size([1, 3, 50257])\n",
      "torch.Size([1, 3, 50257])\n",
      "319.55187154215974\n",
      "0 tensor(40)\n",
      "tensor(-38.7881)\n",
      "1 tensor(1254)\n",
      "tensor(-110.9616)\n",
      "2 tensor(2089)\n",
      "tensor(-96.1995)\n",
      "3 tensor(1909)\n",
      "tensor(-92.9789)\n",
      "tensor([[  40, 1254, 2089, 1909]]) 1\n",
      "torch.Size([1, 4, 50257])\n",
      "torch.Size([1, 3, 50257])\n",
      "torch.Size([1, 3, 50257])\n",
      "406.9544751275362\n"
     ]
    }
   ],
   "source": [
    "print(calculatePerplexityAlter(t1, model, tokenizer))\n",
    "print(calculatePerplexityAlter(t2, model, tokenizer))"
   ]
  },
  {
   "cell_type": "code",
   "execution_count": 61,
   "metadata": {},
   "outputs": [
    {
     "name": "stdout",
     "output_type": "stream",
     "text": [
      "296.994513333816\n",
      "406.9546691785979\n",
      "269.46985470486254\n",
      "273.69302759955264\n"
     ]
    }
   ],
   "source": [
    "print(calculatePerplexity2(t1, t2, 0.5, model, tokenizer))\n",
    "print(calculatePerplexity2(t1, t2, 0, model, tokenizer))\n",
    "print(calculatePerplexity2(t1, t2, 1, model, tokenizer))\n",
    "print(calculatePerplexity2(t1, t2, 0.75, model, tokenizer))"
   ]
  },
  {
   "cell_type": "code",
   "execution_count": 84,
   "metadata": {},
   "outputs": [
    {
     "name": "stdout",
     "output_type": "stream",
     "text": [
      "tensor([[  40, 1254,  922, 1909]]) 1\n",
      "tensor([[  40, 1254, 2089, 1909]]) 1\n",
      "torch.Size([1, 4, 50257])\n",
      "torch.Size([1, 3, 50257])\n",
      "torch.Size([1, 3, 50257])\n",
      "323.41764039783124\n",
      "tensor([[  40, 1254,  922, 1909]]) 1\n",
      "tensor([[  40, 1254, 2089, 1909]]) 1\n",
      "torch.Size([1, 4, 50257])\n",
      "torch.Size([1, 3, 50257])\n",
      "torch.Size([1, 3, 50257])\n",
      "406.9544751275362\n",
      "tensor([[  40, 1254,  922, 1909]]) 1\n",
      "tensor([[  40, 1254, 2089, 1909]]) 1\n",
      "torch.Size([1, 4, 50257])\n",
      "torch.Size([1, 3, 50257])\n",
      "torch.Size([1, 3, 50257])\n",
      "319.55187154215974\n",
      "tensor([[  40, 1254,  922, 1909]]) 1\n",
      "tensor([[  40, 1254, 2089, 1909]]) 1\n",
      "torch.Size([1, 4, 50257])\n",
      "torch.Size([1, 3, 50257])\n",
      "torch.Size([1, 3, 50257])\n",
      "311.0192516335582\n"
     ]
    }
   ],
   "source": [
    "print(calculatePerplexity2Alter(t1, t2, 0.5, model, tokenizer))\n",
    "print(calculatePerplexity2Alter(t1, t2, 0, model, tokenizer))\n",
    "print(calculatePerplexity2Alter(t1, t2, 1, model, tokenizer))\n",
    "print(calculatePerplexity2Alter(t1, t2, 0.75, model, tokenizer))"
   ]
  },
  {
   "cell_type": "code",
   "execution_count": 62,
   "metadata": {},
   "outputs": [
    {
     "name": "stdout",
     "output_type": "stream",
     "text": [
      "127.09786136846539\n",
      "402.74780255825715\n"
     ]
    }
   ],
   "source": [
    "print(calculatePerplexity(t6, model, tokenizer))\n",
    "print(calculatePerplexity(t5, model, tokenizer))"
   ]
  },
  {
   "cell_type": "code",
   "execution_count": 83,
   "metadata": {},
   "outputs": [
    {
     "name": "stdout",
     "output_type": "stream",
     "text": [
      "0 tensor(40)\n",
      "tensor(-38.7881)\n",
      "1 tensor(892)\n",
      "tensor(-109.3005)\n",
      "2 tensor(428)\n",
      "tensor(-94.1043)\n",
      "3 tensor(468)\n",
      "tensor(-102.1964)\n",
      "4 tensor(1716)\n",
      "tensor(-95.2517)\n",
      "5 tensor(1365)\n",
      "tensor(-111.6195)\n",
      "tensor([[  40,  892,  428,  468, 1716, 1365]]) 1\n",
      "torch.Size([1, 6, 50257])\n",
      "torch.Size([1, 5, 50257])\n",
      "torch.Size([1, 5, 50257])\n",
      "127.09786136846539\n",
      "0 tensor(40)\n",
      "tensor(-38.7881)\n",
      "1 tensor(892)\n",
      "tensor(-109.3005)\n",
      "2 tensor(428)\n",
      "tensor(-94.1043)\n",
      "3 tensor(468)\n",
      "tensor(-102.1964)\n",
      "4 tensor(2627)\n",
      "tensor(-98.9415)\n",
      "5 tensor(1365)\n",
      "tensor(-113.3018)\n",
      "tensor([[  40,  892,  428,  468, 2627, 1365]]) 1\n",
      "torch.Size([1, 6, 50257])\n",
      "torch.Size([1, 5, 50257])\n",
      "torch.Size([1, 5, 50257])\n",
      "402.74780255825715\n"
     ]
    }
   ],
   "source": [
    "print(calculatePerplexityAlter(t6, model, tokenizer))\n",
    "print(calculatePerplexityAlter(t5, model, tokenizer))"
   ]
  },
  {
   "cell_type": "code",
   "execution_count": 86,
   "metadata": {},
   "outputs": [
    {
     "name": "stdout",
     "output_type": "stream",
     "text": [
      "tensor([[  40,  892,  428,  468, 1716, 1365]]) 1\n",
      "tensor([[  40,  892,  428,  468, 2627, 1365]]) 1\n",
      "torch.Size([1, 6, 50257])\n",
      "torch.Size([1, 5, 50257])\n",
      "torch.Size([1, 5, 50257])\n",
      "402.74780255825715\n",
      "tensor([[  40,  892,  428,  468, 1716, 1365]]) 1\n",
      "tensor([[  40,  892,  428,  468, 2627, 1365]]) 1\n",
      "torch.Size([1, 6, 50257])\n",
      "torch.Size([1, 5, 50257])\n",
      "torch.Size([1, 5, 50257])\n",
      "227.46442371626114\n",
      "tensor([[  40,  892,  428,  468, 1716, 1365]]) 1\n",
      "tensor([[  40,  892,  428,  468, 2627, 1365]]) 1\n",
      "torch.Size([1, 6, 50257])\n",
      "torch.Size([1, 5, 50257])\n",
      "torch.Size([1, 5, 50257])\n",
      "171.145853289958\n",
      "tensor([[  40,  892,  428,  468, 1716, 1365]]) 1\n",
      "tensor([[  40,  892,  428,  468, 2627, 1365]]) 1\n",
      "torch.Size([1, 6, 50257])\n",
      "torch.Size([1, 5, 50257])\n",
      "torch.Size([1, 5, 50257])\n",
      "127.09786136846539\n"
     ]
    }
   ],
   "source": [
    "print(calculatePerplexity2Alter(t6, t5, 0, model, tokenizer))\n",
    "print(calculatePerplexity2Alter(t6, t5, 0.5, model, tokenizer))\n",
    "print(calculatePerplexity2Alter(t6, t5, 0.75, model, tokenizer))\n",
    "print(calculatePerplexity2Alter(t6, t5, 1, model, tokenizer))"
   ]
  }
 ],
 "metadata": {
  "kernelspec": {
   "display_name": "Python 3.8.13 ('nlp')",
   "language": "python",
   "name": "python3"
  },
  "language_info": {
   "codemirror_mode": {
    "name": "ipython",
    "version": 3
   },
   "file_extension": ".py",
   "mimetype": "text/x-python",
   "name": "python",
   "nbconvert_exporter": "python",
   "pygments_lexer": "ipython3",
   "version": "3.8.13"
  },
  "orig_nbformat": 4,
  "vscode": {
   "interpreter": {
    "hash": "1ecdeeea834996ab17c476b9c82385c086ccb21d059ebd3afa1913627f92baf1"
   }
  }
 },
 "nbformat": 4,
 "nbformat_minor": 2
}
